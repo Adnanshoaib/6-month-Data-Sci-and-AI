{
 "cells": [
  {
   "cell_type": "code",
   "execution_count": 4,
   "id": "118b4d12-04e3-446c-9b6e-67e9269cf68a",
   "metadata": {},
   "outputs": [],
   "source": [
    "import numpy as np \n",
    "from scipy import stats"
   ]
  },
  {
   "cell_type": "code",
   "execution_count": 7,
   "id": "66eb538d-8c90-488b-9091-f5dd793eb422",
   "metadata": {},
   "outputs": [],
   "source": [
    "Group_A = [172, 174, 168, 169, 171]\n",
    "Groyp_B = [165, 167, 164, 166, 168]"
   ]
  },
  {
   "cell_type": "code",
   "execution_count": 8,
   "id": "da23bbed-585f-4b80-b880-2c9809107b93",
   "metadata": {},
   "outputs": [],
   "source": [
    "t_stats , p_value =stats.ttest_ind(Group_A,Groyp_B,equal_var=False)"
   ]
  },
  {
   "cell_type": "code",
   "execution_count": 9,
   "id": "68f26157-3cd4-44cc-8d3b-5ecb3e270877",
   "metadata": {},
   "outputs": [
    {
     "data": {
      "text/plain": [
       "np.float64(3.7481702853265544)"
      ]
     },
     "execution_count": 9,
     "metadata": {},
     "output_type": "execute_result"
    }
   ],
   "source": [
    "t_stats"
   ]
  },
  {
   "cell_type": "code",
   "execution_count": 11,
   "id": "7d83b819-53d7-4b20-8de1-58b84a524797",
   "metadata": {},
   "outputs": [
    {
     "name": "stdout",
     "output_type": "stream",
     "text": [
      "I will reject the null hyp(H0)\n"
     ]
    }
   ],
   "source": [
    "alpha = 0.05\n",
    "\n",
    "\n",
    "if p_value < alpha:\n",
    "    print(\"I will reject the null hyp(H0)\")\n",
    "else:\n",
    "    print(\"I will accept the null hyp(H0)\")"
   ]
  },
  {
   "cell_type": "code",
   "execution_count": null,
   "id": "655b0b94-305c-4377-8f29-d4f31ab3ee01",
   "metadata": {},
   "outputs": [],
   "source": []
  }
 ],
 "metadata": {
  "kernelspec": {
   "display_name": "Python 3 (ipykernel)",
   "language": "python",
   "name": "python3"
  },
  "language_info": {
   "codemirror_mode": {
    "name": "ipython",
    "version": 3
   },
   "file_extension": ".py",
   "mimetype": "text/x-python",
   "name": "python",
   "nbconvert_exporter": "python",
   "pygments_lexer": "ipython3",
   "version": "3.13.3"
  }
 },
 "nbformat": 4,
 "nbformat_minor": 5
}
