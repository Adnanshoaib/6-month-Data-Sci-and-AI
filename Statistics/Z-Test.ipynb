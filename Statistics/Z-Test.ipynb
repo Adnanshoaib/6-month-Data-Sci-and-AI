{
 "cells": [
  {
   "cell_type": "code",
   "execution_count": 24,
   "id": "b95b8aa2-a475-44e4-9354-1b3552716e7c",
   "metadata": {},
   "outputs": [],
   "source": [
    "import numpy as np "
   ]
  },
  {
   "cell_type": "code",
   "execution_count": 25,
   "id": "b9500868-79fc-4be0-9f69-3477cd513bdb",
   "metadata": {},
   "outputs": [],
   "source": [
    "from scipy.stats import norm"
   ]
  },
  {
   "cell_type": "code",
   "execution_count": 26,
   "id": "9a67c6df-cec5-4d6b-85e8-ab466f27c9dd",
   "metadata": {},
   "outputs": [],
   "source": [
    "sample = [172,174,168,169,171,173,175,170,169,172]\n",
    "population_mean = 170\n",
    "population_sd = 3\n",
    "samp_mean = np.mean(sample)\n",
    "n = len(sample)"
   ]
  },
  {
   "cell_type": "code",
   "execution_count": 27,
   "id": "54ccee6f-68d9-4144-9bb7-ca45eb074fd9",
   "metadata": {},
   "outputs": [],
   "source": [
    "z_score = (samp_mean - population_mean) / (population_sd / np.sqrt(n)) "
   ]
  },
  {
   "cell_type": "code",
   "execution_count": 28,
   "id": "84b1a116-f25d-4fc4-98be-fb2b63b74749",
   "metadata": {},
   "outputs": [
    {
     "data": {
      "text/plain": [
       "np.float64(1.3703203194063098)"
      ]
     },
     "execution_count": 28,
     "metadata": {},
     "output_type": "execute_result"
    }
   ],
   "source": [
    "z_score"
   ]
  },
  {
   "cell_type": "code",
   "execution_count": 29,
   "id": "1e18d2d6-ad53-48b1-8ab6-bd673f528b60",
   "metadata": {},
   "outputs": [],
   "source": [
    "p_value = 2 * (1 - norm.cdf(abs(z_score)))"
   ]
  },
  {
   "cell_type": "code",
   "execution_count": 30,
   "id": "10a27382-8a60-48f4-830b-6d33393da8e4",
   "metadata": {},
   "outputs": [
    {
     "data": {
      "text/plain": [
       "np.float64(0.17058693287143756)"
      ]
     },
     "execution_count": 30,
     "metadata": {},
     "output_type": "execute_result"
    }
   ],
   "source": [
    "p_value"
   ]
  },
  {
   "cell_type": "code",
   "execution_count": 31,
   "id": "34335435-0020-42ba-8ea0-f93eebae2c42",
   "metadata": {},
   "outputs": [
    {
     "name": "stdout",
     "output_type": "stream",
     "text": [
      "I will accept the null hyp(H0)\n"
     ]
    }
   ],
   "source": [
    "alpha = 0.05\n",
    "\n",
    "if p_value < alpha:\n",
    "    print(\"I will reject the null hyp(H0)\")\n",
    "else:\n",
    "    print(\"I will accept the null hyp(H0)\")"
   ]
  },
  {
   "cell_type": "code",
   "execution_count": 32,
   "id": "a22c6acc-7e74-4bba-9591-f83083ddace6",
   "metadata": {},
   "outputs": [],
   "source": [
    "sample2 = [\n",
    "    172, 174, 168, 169, 171, 173, 175, 170, 169, 172,  \n",
    "    176, 165, 170, 174, 172, 168, 171, 169, 173, 170,  \n",
    "    167, 176, 174, 171, 169, 172, 170, 175, 168, 174\n",
    "]\n",
    "population_mean = 170\n",
    "population_sd = 2.62\n",
    "samp_mean = np.mean(sample)\n",
    "n = len(sample2)"
   ]
  },
  {
   "cell_type": "code",
   "execution_count": 33,
   "id": "ffd26327-5286-4894-b91b-8063b582d646",
   "metadata": {},
   "outputs": [],
   "source": [
    "z_score2 = (samp_mean - population_mean) / (population_sd / np.sqrt(n)) "
   ]
  },
  {
   "cell_type": "code",
   "execution_count": 34,
   "id": "400a55a4-8ebd-4e6f-a3c6-61c2e0110df7",
   "metadata": {},
   "outputs": [
    {
     "data": {
      "text/plain": [
       "np.float64(2.717707346399703)"
      ]
     },
     "execution_count": 34,
     "metadata": {},
     "output_type": "execute_result"
    }
   ],
   "source": [
    "z_score2"
   ]
  },
  {
   "cell_type": "code",
   "execution_count": 35,
   "id": "01d6ebd3-67cb-43cc-9b72-01b4180ca86e",
   "metadata": {},
   "outputs": [],
   "source": [
    "p_value2 = 2 * (1 - norm.cdf(abs(z_score2)))"
   ]
  },
  {
   "cell_type": "code",
   "execution_count": 36,
   "id": "cb3b8755-13bf-4ff1-9e81-77daab6eea00",
   "metadata": {},
   "outputs": [
    {
     "data": {
      "text/plain": [
       "np.float64(0.00657359528650403)"
      ]
     },
     "execution_count": 36,
     "metadata": {},
     "output_type": "execute_result"
    }
   ],
   "source": [
    "p_value2"
   ]
  },
  {
   "cell_type": "code",
   "execution_count": null,
   "id": "bce33551-50ab-410a-a865-e84eec87af18",
   "metadata": {},
   "outputs": [],
   "source": []
  },
  {
   "cell_type": "code",
   "execution_count": null,
   "id": "e1c2adc4-850c-4cdc-9b66-2d66ce9984de",
   "metadata": {},
   "outputs": [],
   "source": []
  }
 ],
 "metadata": {
  "kernelspec": {
   "display_name": "Python 3 (ipykernel)",
   "language": "python",
   "name": "python3"
  },
  "language_info": {
   "codemirror_mode": {
    "name": "ipython",
    "version": 3
   },
   "file_extension": ".py",
   "mimetype": "text/x-python",
   "name": "python",
   "nbconvert_exporter": "python",
   "pygments_lexer": "ipython3",
   "version": "3.13.3"
  }
 },
 "nbformat": 4,
 "nbformat_minor": 5
}
