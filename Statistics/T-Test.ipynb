{
 "cells": [
  {
   "cell_type": "code",
   "execution_count": 1,
   "id": "b6e162a2-bf6d-4243-9340-f5d9063e2fba",
   "metadata": {},
   "outputs": [],
   "source": [
    "import numpy as np"
   ]
  },
  {
   "cell_type": "code",
   "execution_count": 2,
   "id": "0cc2d811-8956-4909-9d9b-37b7ae0ca906",
   "metadata": {},
   "outputs": [],
   "source": [
    "from scipy import stats"
   ]
  },
  {
   "cell_type": "code",
   "execution_count": 3,
   "id": "516755dd-887e-4173-9afb-3c612ce2166c",
   "metadata": {},
   "outputs": [],
   "source": [
    "sample = [172,174,168,169,171,173,175,170,169,172]\n",
    "sample_mean = np.mean(sample)\n",
    "sample_SD = np.std(sample,ddof=1)\n",
    "population_mean = 170\n",
    "n = len(sample)"
   ]
  },
  {
   "cell_type": "code",
   "execution_count": 4,
   "id": "2035fe56-17e4-4721-a439-404b0c884481",
   "metadata": {},
   "outputs": [],
   "source": [
    "T_stats = (sample_mean - population_mean ) / (sample_SD / np.sqrt(n))"
   ]
  },
  {
   "cell_type": "code",
   "execution_count": 5,
   "id": "cb8a6e80-cd91-4b18-96d2-bd1f49285d5e",
   "metadata": {},
   "outputs": [
    {
     "data": {
      "text/plain": [
       "np.float64(1.7782469350914734)"
      ]
     },
     "execution_count": 5,
     "metadata": {},
     "output_type": "execute_result"
    }
   ],
   "source": [
    "T_stats"
   ]
  },
  {
   "cell_type": "code",
   "execution_count": 6,
   "id": "58c2dc35-05ca-4729-8f00-e76d247b283c",
   "metadata": {},
   "outputs": [],
   "source": [
    "p_value = 2 * (1 - stats.t.cdf(abs(T_stats),df = n-1))"
   ]
  },
  {
   "cell_type": "code",
   "execution_count": 7,
   "id": "865fb695-c538-4986-a993-ea1cf649636e",
   "metadata": {},
   "outputs": [
    {
     "data": {
      "text/plain": [
       "np.float64(0.10907771593031335)"
      ]
     },
     "execution_count": 7,
     "metadata": {},
     "output_type": "execute_result"
    }
   ],
   "source": [
    "p_value"
   ]
  },
  {
   "cell_type": "code",
   "execution_count": 8,
   "id": "4b3cf99c-42fd-4e8b-b616-12590c4636b4",
   "metadata": {},
   "outputs": [
    {
     "name": "stdout",
     "output_type": "stream",
     "text": [
      "I will accept the null hyp(H0)\n"
     ]
    }
   ],
   "source": [
    "alpha = 0.05\n",
    "\n",
    "if p_value < alpha:\n",
    "    print(\"I will reject the null hyp(H0)\")\n",
    "else:\n",
    "    print(\"I will accept the null hyp(H0)\")"
   ]
  },
  {
   "cell_type": "code",
   "execution_count": null,
   "id": "9a4c6f31-6d24-443f-b27d-ab28c3dcf045",
   "metadata": {},
   "outputs": [],
   "source": []
  }
 ],
 "metadata": {
  "kernelspec": {
   "display_name": "Python 3 (ipykernel)",
   "language": "python",
   "name": "python3"
  },
  "language_info": {
   "codemirror_mode": {
    "name": "ipython",
    "version": 3
   },
   "file_extension": ".py",
   "mimetype": "text/x-python",
   "name": "python",
   "nbconvert_exporter": "python",
   "pygments_lexer": "ipython3",
   "version": "3.13.3"
  }
 },
 "nbformat": 4,
 "nbformat_minor": 5
}
