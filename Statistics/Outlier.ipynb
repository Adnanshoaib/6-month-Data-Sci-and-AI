{
 "cells": [
  {
   "cell_type": "code",
   "execution_count": 16,
   "id": "805b1ffc-ad6c-4ddf-b646-d07518237973",
   "metadata": {},
   "outputs": [],
   "source": [
    "import numpy as np \n",
    "import seaborn as sns"
   ]
  },
  {
   "cell_type": "markdown",
   "id": "4d6dc761-b645-4810-a3f3-cff5c30a8c5e",
   "metadata": {},
   "source": [
    "* Creating Array"
   ]
  },
  {
   "cell_type": "code",
   "execution_count": 8,
   "id": "e40bba43-a258-4e0e-a75b-c18c80c3011d",
   "metadata": {},
   "outputs": [],
   "source": [
    "arr = np.array([2,3,4,6,7,8,9,12,13,16,17,23,25,27,34,37,201])"
   ]
  },
  {
   "cell_type": "code",
   "execution_count": 9,
   "id": "ccf85843-7e6e-4b47-947b-2a49d22590d6",
   "metadata": {},
   "outputs": [
    {
     "data": {
      "text/plain": [
       "array([  2,   3,   4,   6,   7,   8,   9,  12,  13,  16,  17,  23,  25,\n",
       "        27,  34,  37, 201])"
      ]
     },
     "execution_count": 9,
     "metadata": {},
     "output_type": "execute_result"
    }
   ],
   "source": [
    "arr"
   ]
  },
  {
   "cell_type": "markdown",
   "id": "a5fcd439-c875-4847-8013-21c382886b1d",
   "metadata": {},
   "source": [
    "* Calculating Q1,Q3"
   ]
  },
  {
   "cell_type": "code",
   "execution_count": 10,
   "id": "96361d6d-7151-4d60-9672-42fa3bd485e3",
   "metadata": {},
   "outputs": [
    {
     "data": {
      "text/plain": [
       "np.float64(7.0)"
      ]
     },
     "execution_count": 10,
     "metadata": {},
     "output_type": "execute_result"
    }
   ],
   "source": [
    "Q1 = np.percentile(arr,25)\n",
    "Q1"
   ]
  },
  {
   "cell_type": "code",
   "execution_count": 12,
   "id": "af38e267-2431-4008-b0d0-af1f9dadeab2",
   "metadata": {},
   "outputs": [
    {
     "data": {
      "text/plain": [
       "np.float64(25.0)"
      ]
     },
     "execution_count": 12,
     "metadata": {},
     "output_type": "execute_result"
    }
   ],
   "source": [
    "Q3 = np.percentile(arr,75)\n",
    "Q3"
   ]
  },
  {
   "cell_type": "markdown",
   "id": "2c85e713-56ff-443c-aa22-efaf343f42f0",
   "metadata": {},
   "source": [
    "* Calculating IQR"
   ]
  },
  {
   "cell_type": "code",
   "execution_count": 13,
   "id": "e7667995-6b71-4223-bb04-1f3fed1b1ee0",
   "metadata": {},
   "outputs": [
    {
     "data": {
      "text/plain": [
       "np.float64(18.0)"
      ]
     },
     "execution_count": 13,
     "metadata": {},
     "output_type": "execute_result"
    }
   ],
   "source": [
    "IQR = Q3 - Q1\n",
    "IQR"
   ]
  },
  {
   "cell_type": "markdown",
   "id": "de250c8b-aa62-4721-843d-12e1084b3605",
   "metadata": {},
   "source": [
    "* Calculating Upper fence"
   ]
  },
  {
   "cell_type": "code",
   "execution_count": 14,
   "id": "04d75efb-5971-4986-9722-03f50005d1b5",
   "metadata": {},
   "outputs": [
    {
     "data": {
      "text/plain": [
       "np.float64(52.0)"
      ]
     },
     "execution_count": 14,
     "metadata": {},
     "output_type": "execute_result"
    }
   ],
   "source": [
    "UF = Q3 + 1.5 * (IQR)\n",
    "UF"
   ]
  },
  {
   "cell_type": "markdown",
   "id": "97c41f10-f696-4463-8b71-f126cadcf574",
   "metadata": {},
   "source": [
    "* Calculating Lower fence"
   ]
  },
  {
   "cell_type": "code",
   "execution_count": 15,
   "id": "ffe593f3-fd3a-4d67-8e12-7e32f95a098f",
   "metadata": {},
   "outputs": [
    {
     "data": {
      "text/plain": [
       "np.float64(-20.0)"
      ]
     },
     "execution_count": 15,
     "metadata": {},
     "output_type": "execute_result"
    }
   ],
   "source": [
    "LF = Q1 - 1.5 * (IQR)\n",
    "LF"
   ]
  },
  {
   "cell_type": "markdown",
   "id": "5d680aa8-80e5-405c-95cf-56c2ef2ecb85",
   "metadata": {},
   "source": [
    "* Removing Outlier"
   ]
  },
  {
   "cell_type": "code",
   "execution_count": 22,
   "id": "c8e5926d-b77c-4e81-90ff-3211015815b4",
   "metadata": {},
   "outputs": [],
   "source": [
    "l = []\n",
    "for i in arr:\n",
    "    if i >= LF and i <= UF:\n",
    "         l.append(i)"
   ]
  },
  {
   "cell_type": "code",
   "execution_count": 23,
   "id": "31032213-e2a1-4767-a6aa-d98730f46b2f",
   "metadata": {},
   "outputs": [
    {
     "data": {
      "text/plain": [
       "[np.int64(2),\n",
       " np.int64(3),\n",
       " np.int64(4),\n",
       " np.int64(6),\n",
       " np.int64(7),\n",
       " np.int64(8),\n",
       " np.int64(9),\n",
       " np.int64(12),\n",
       " np.int64(13),\n",
       " np.int64(16),\n",
       " np.int64(17),\n",
       " np.int64(23),\n",
       " np.int64(25),\n",
       " np.int64(27),\n",
       " np.int64(34),\n",
       " np.int64(37)]"
      ]
     },
     "execution_count": 23,
     "metadata": {},
     "output_type": "execute_result"
    }
   ],
   "source": [
    "l"
   ]
  },
  {
   "cell_type": "code",
   "execution_count": 24,
   "id": "35a0172c-9ed4-4e4d-a918-c52a752c8c5f",
   "metadata": {},
   "outputs": [],
   "source": [
    "arr2 = np.array(l)"
   ]
  },
  {
   "cell_type": "code",
   "execution_count": 25,
   "id": "bb13e11e-3e96-42ac-9941-02029560e84c",
   "metadata": {},
   "outputs": [
    {
     "data": {
      "text/plain": [
       "array([ 2,  3,  4,  6,  7,  8,  9, 12, 13, 16, 17, 23, 25, 27, 34, 37])"
      ]
     },
     "execution_count": 25,
     "metadata": {},
     "output_type": "execute_result"
    }
   ],
   "source": [
    "arr2"
   ]
  },
  {
   "cell_type": "code",
   "execution_count": 26,
   "id": "7c8bcb52-928a-403a-b23c-994483cd1bad",
   "metadata": {},
   "outputs": [
    {
     "data": {
      "text/plain": [
       "array([  2,   3,   4,   6,   7,   8,   9,  12,  13,  16,  17,  23,  25,\n",
       "        27,  34,  37, 201])"
      ]
     },
     "execution_count": 26,
     "metadata": {},
     "output_type": "execute_result"
    }
   ],
   "source": [
    "arr"
   ]
  },
  {
   "cell_type": "markdown",
   "id": "008233a2-0f56-436b-bfec-4ad69e111d24",
   "metadata": {},
   "source": [
    "* Create Boxplot "
   ]
  },
  {
   "cell_type": "code",
   "execution_count": 38,
   "id": "f58c5b9c-9196-49c4-a8b6-ea2159ae401a",
   "metadata": {},
   "outputs": [
    {
     "data": {
      "text/plain": [
       "<Axes: >"
      ]
     },
     "execution_count": 38,
     "metadata": {},
     "output_type": "execute_result"
    },
    {
     "data": {
      "image/png": "[encoded data removed]",
      "text/plain": [
       "<Figure size 640x480 with 1 Axes>"
      ]
     },
     "metadata": {},
     "output_type": "display_data"
    }
   ],
   "source": [
    "sns.boxenplot(x = arr )"
   ]
  },
  {
   "cell_type": "code",
   "execution_count": 39,
   "id": "a1bb3e3b-e858-458d-9c29-aa6946a55bee",
   "metadata": {},
   "outputs": [
    {
     "data": {
      "text/plain": [
       "<Axes: >"
      ]
     },
     "execution_count": 39,
     "metadata": {},
     "output_type": "execute_result"
    },
    {
     "data": {
      "image/png": "[encoded data removed]",
      "text/plain": [
       "<Figure size 640x480 with 1 Axes>"
      ]
     },
     "metadata": {},
     "output_type": "display_data"
    }
   ],
   "source": [
    "sns.boxplot(x=arr2, width=0.5, color=\"skyblue\", fliersize=5)"
   ]
  },
  {
   "cell_type": "markdown",
   "id": "7d5eee63-e452-4e85-a060-7515ae1dd101",
   "metadata": {},
   "source": [
    "* 5 Number Summary\n",
    "  * MIN :- 2\n",
    "  * Q1 :- 7\n",
    "  * Q2 :- 13\n",
    "  * Q3 :- 25\n",
    "  * MAX :- 37"
   ]
  },
  {
   "cell_type": "code",
   "execution_count": null,
   "id": "e5adf815-37b0-41bd-96f3-ac3f6f5a8b7d",
   "metadata": {},
   "outputs": [],
   "source": []
  }
 ],
 "metadata": {
  "kernelspec": {
   "display_name": "Python 3 (ipykernel)",
   "language": "python",
   "name": "python3"
  },
  "language_info": {
   "codemirror_mode": {
    "name": "ipython",
    "version": 3
   },
   "file_extension": ".py",
   "mimetype": "text/x-python",
   "name": "python",
   "nbconvert_exporter": "python",
   "pygments_lexer": "ipython3",
   "version": "3.13.3"
  }
 },
 "nbformat": 4,
 "nbformat_minor": 5
}
