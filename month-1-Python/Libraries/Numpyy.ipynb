{
 "cells": [
  {
   "cell_type": "code",
   "execution_count": 29,
   "id": "663a2d51-889c-4894-baad-7a9351764e80",
   "metadata": {},
   "outputs": [],
   "source": [
    "import numpy as np"
   ]
  },
  {
   "cell_type": "markdown",
   "id": "08148e82-165e-470a-ba2a-eb8c81f65740",
   "metadata": {},
   "source": [
    "**Basic Array creation**"
   ]
  },
  {
   "cell_type": "code",
   "execution_count": 30,
   "id": "37b57e7b-22ef-4c0e-85c8-766de7eb4e25",
   "metadata": {},
   "outputs": [],
   "source": [
    "arr =  np.array([1,2,3,4,5]) # One Dimensional Array"
   ]
  },
  {
   "cell_type": "code",
   "execution_count": 31,
   "id": "599ba672-1f50-4087-80e8-52c8d67230af",
   "metadata": {},
   "outputs": [
    {
     "data": {
      "text/plain": [
       "array([1, 2, 3, 4, 5])"
      ]
     },
     "execution_count": 31,
     "metadata": {},
     "output_type": "execute_result"
    }
   ],
   "source": [
    "arr"
   ]
  },
  {
   "cell_type": "code",
   "execution_count": 32,
   "id": "aebe594c-f27e-458b-9da9-42d77ccd137a",
   "metadata": {},
   "outputs": [],
   "source": [
    "a = [1,2,2.33]"
   ]
  },
  {
   "cell_type": "code",
   "execution_count": 33,
   "id": "e9c839df-ac9d-4c02-92a0-99bd61b2d85c",
   "metadata": {},
   "outputs": [
    {
     "data": {
      "text/plain": [
       "[1, 2, 2.33]"
      ]
     },
     "execution_count": 33,
     "metadata": {},
     "output_type": "execute_result"
    }
   ],
   "source": [
    "a"
   ]
  },
  {
   "cell_type": "code",
   "execution_count": 34,
   "id": "5765abcc-f2bb-498f-a010-c52a66f039ae",
   "metadata": {},
   "outputs": [
    {
     "data": {
      "text/plain": [
       "array([1.  , 2.  , 2.33])"
      ]
     },
     "execution_count": 34,
     "metadata": {},
     "output_type": "execute_result"
    }
   ],
   "source": [
    "np.array(a)"
   ]
  },
  {
   "cell_type": "code",
   "execution_count": 35,
   "id": "02f5d0b2-7f66-4429-85cc-23f9d28eea6c",
   "metadata": {},
   "outputs": [],
   "source": [
    "l = [[1,2,3],[4,5,6],[7,8,9]]"
   ]
  },
  {
   "cell_type": "code",
   "execution_count": 36,
   "id": "6108dc5c-94a2-40ca-8ad0-56e6b446cbb0",
   "metadata": {},
   "outputs": [
    {
     "data": {
      "text/plain": [
       "[[1, 2, 3], [4, 5, 6], [7, 8, 9]]"
      ]
     },
     "execution_count": 36,
     "metadata": {},
     "output_type": "execute_result"
    }
   ],
   "source": [
    "l"
   ]
  },
  {
   "cell_type": "code",
   "execution_count": 37,
   "id": "3583b0e8-32d6-45eb-802c-d44662f770ce",
   "metadata": {},
   "outputs": [
    {
     "data": {
      "text/plain": [
       "array([[1, 2, 3],\n",
       "       [4, 5, 6],\n",
       "       [7, 8, 9]])"
      ]
     },
     "execution_count": 37,
     "metadata": {},
     "output_type": "execute_result"
    }
   ],
   "source": [
    "np.array(l) # # Two Dimensional Array"
   ]
  },
  {
   "cell_type": "markdown",
   "id": "bfd96365-cc6b-4bc4-b3c6-767d8d291cb5",
   "metadata": {},
   "source": [
    "**Array Generations finction**"
   ]
  },
  {
   "cell_type": "code",
   "execution_count": 38,
   "id": "12e2ce89-6dc9-4606-a3dc-6402abc107aa",
   "metadata": {},
   "outputs": [
    {
     "data": {
      "text/plain": [
       "array([0, 1, 2, 3, 4, 5, 6, 7, 8, 9])"
      ]
     },
     "execution_count": 38,
     "metadata": {},
     "output_type": "execute_result"
    }
   ],
   "source": [
    "np.arange(10)"
   ]
  },
  {
   "cell_type": "code",
   "execution_count": 39,
   "id": "a1cb8935-11f8-4ef7-bda0-05a95f6d570b",
   "metadata": {},
   "outputs": [
    {
     "data": {
      "text/plain": [
       "array([1, 3, 5, 7, 9])"
      ]
     },
     "execution_count": 39,
     "metadata": {},
     "output_type": "execute_result"
    }
   ],
   "source": [
    "np.arange(1,11,2)"
   ]
  },
  {
   "cell_type": "code",
   "execution_count": 40,
   "id": "34f11db0-9898-4107-878a-fc3ff5782da2",
   "metadata": {},
   "outputs": [],
   "source": [
    "arr = np.zeros(6)"
   ]
  },
  {
   "cell_type": "code",
   "execution_count": 41,
   "id": "f4d0c8cf-a4f3-4ac5-a902-495501e26b24",
   "metadata": {},
   "outputs": [
    {
     "data": {
      "text/plain": [
       "array([0., 0., 0., 0., 0., 0.])"
      ]
     },
     "execution_count": 41,
     "metadata": {},
     "output_type": "execute_result"
    }
   ],
   "source": [
    "arr"
   ]
  },
  {
   "cell_type": "code",
   "execution_count": 42,
   "id": "e9674793-24a5-4bed-9dae-6c86f1083a14",
   "metadata": {},
   "outputs": [],
   "source": [
    "arr = np.zeros((4,5))"
   ]
  },
  {
   "cell_type": "code",
   "execution_count": 43,
   "id": "33b12bca-f70e-41bf-b757-d1eed3974bcc",
   "metadata": {},
   "outputs": [
    {
     "data": {
      "text/plain": [
       "array([[0., 0., 0., 0., 0.],\n",
       "       [0., 0., 0., 0., 0.],\n",
       "       [0., 0., 0., 0., 0.],\n",
       "       [0., 0., 0., 0., 0.]])"
      ]
     },
     "execution_count": 43,
     "metadata": {},
     "output_type": "execute_result"
    }
   ],
   "source": [
    "arr"
   ]
  },
  {
   "cell_type": "code",
   "execution_count": 44,
   "id": "e8a8e12e-23ab-4272-9613-afebd95d2e82",
   "metadata": {},
   "outputs": [
    {
     "data": {
      "text/plain": [
       "array([1., 1., 1., 1., 1., 1.])"
      ]
     },
     "execution_count": 44,
     "metadata": {},
     "output_type": "execute_result"
    }
   ],
   "source": [
    "arr = np.ones(6)\n",
    "arr"
   ]
  },
  {
   "cell_type": "code",
   "execution_count": 45,
   "id": "ba55107e-d348-4b64-b61c-8330cafac727",
   "metadata": {},
   "outputs": [],
   "source": [
    "arr = np.ones((4,5))"
   ]
  },
  {
   "cell_type": "code",
   "execution_count": 46,
   "id": "b807acd9-dd02-4f6a-aa35-d28b7d97ee9a",
   "metadata": {},
   "outputs": [
    {
     "data": {
      "text/plain": [
       "array([[1., 1., 1., 1., 1.],\n",
       "       [1., 1., 1., 1., 1.],\n",
       "       [1., 1., 1., 1., 1.],\n",
       "       [1., 1., 1., 1., 1.]])"
      ]
     },
     "execution_count": 46,
     "metadata": {},
     "output_type": "execute_result"
    }
   ],
   "source": [
    "arr"
   ]
  },
  {
   "cell_type": "code",
   "execution_count": 47,
   "id": "55cd7a57-b965-439e-a6d5-64c215d14304",
   "metadata": {},
   "outputs": [],
   "source": [
    "arr = np.linspace(1,5,2)"
   ]
  },
  {
   "cell_type": "code",
   "execution_count": 48,
   "id": "abad629f-24bf-4d51-a873-1b1a651d9c7b",
   "metadata": {},
   "outputs": [
    {
     "data": {
      "text/plain": [
       "array([1., 5.])"
      ]
     },
     "execution_count": 48,
     "metadata": {},
     "output_type": "execute_result"
    }
   ],
   "source": [
    "arr"
   ]
  },
  {
   "cell_type": "code",
   "execution_count": 49,
   "id": "8c144547-d2a2-46ee-ae9d-5aba532956a9",
   "metadata": {},
   "outputs": [],
   "source": [
    "arr = np.linspace(0,5,10)"
   ]
  },
  {
   "cell_type": "code",
   "execution_count": 50,
   "id": "ef60ed36-7ca2-4aaa-a4f7-f16009a1e771",
   "metadata": {},
   "outputs": [
    {
     "data": {
      "text/plain": [
       "array([0.        , 0.55555556, 1.11111111, 1.66666667, 2.22222222,\n",
       "       2.77777778, 3.33333333, 3.88888889, 4.44444444, 5.        ])"
      ]
     },
     "execution_count": 50,
     "metadata": {},
     "output_type": "execute_result"
    }
   ],
   "source": [
    "arr"
   ]
  },
  {
   "cell_type": "code",
   "execution_count": 51,
   "id": "f2dd2298-76e8-4a59-bf51-785ea1508f53",
   "metadata": {},
   "outputs": [],
   "source": [
    "arr = np.linspace(0,1,100)"
   ]
  },
  {
   "cell_type": "code",
   "execution_count": 52,
   "id": "ed46f1d5-4b8a-45e6-b2f9-a904da9807b1",
   "metadata": {},
   "outputs": [
    {
     "data": {
      "text/plain": [
       "array([0.        , 0.01010101, 0.02020202, 0.03030303, 0.04040404,\n",
       "       0.05050505, 0.06060606, 0.07070707, 0.08080808, 0.09090909,\n",
       "       0.1010101 , 0.11111111, 0.12121212, 0.13131313, 0.14141414,\n",
       "       0.15151515, 0.16161616, 0.17171717, 0.18181818, 0.19191919,\n",
       "       0.2020202 , 0.21212121, 0.22222222, 0.23232323, 0.24242424,\n",
       "       0.25252525, 0.26262626, 0.27272727, 0.28282828, 0.29292929,\n",
       "       0.3030303 , 0.31313131, 0.32323232, 0.33333333, 0.34343434,\n",
       "       0.35353535, 0.36363636, 0.37373737, 0.38383838, 0.39393939,\n",
       "       0.4040404 , 0.41414141, 0.42424242, 0.43434343, 0.44444444,\n",
       "       0.45454545, 0.46464646, 0.47474747, 0.48484848, 0.49494949,\n",
       "       0.50505051, 0.51515152, 0.52525253, 0.53535354, 0.54545455,\n",
       "       0.55555556, 0.56565657, 0.57575758, 0.58585859, 0.5959596 ,\n",
       "       0.60606061, 0.61616162, 0.62626263, 0.63636364, 0.64646465,\n",
       "       0.65656566, 0.66666667, 0.67676768, 0.68686869, 0.6969697 ,\n",
       "       0.70707071, 0.71717172, 0.72727273, 0.73737374, 0.74747475,\n",
       "       0.75757576, 0.76767677, 0.77777778, 0.78787879, 0.7979798 ,\n",
       "       0.80808081, 0.81818182, 0.82828283, 0.83838384, 0.84848485,\n",
       "       0.85858586, 0.86868687, 0.87878788, 0.88888889, 0.8989899 ,\n",
       "       0.90909091, 0.91919192, 0.92929293, 0.93939394, 0.94949495,\n",
       "       0.95959596, 0.96969697, 0.97979798, 0.98989899, 1.        ])"
      ]
     },
     "execution_count": 52,
     "metadata": {},
     "output_type": "execute_result"
    }
   ],
   "source": [
    "arr"
   ]
  },
  {
   "cell_type": "markdown",
   "id": "bd765f31-a225-4bec-a90d-6fcfae2ae5e8",
   "metadata": {},
   "source": [
    "**Random Generation fnction**"
   ]
  },
  {
   "cell_type": "code",
   "execution_count": 53,
   "id": "0516cf7e-b7ac-43d7-a31c-f2d92d655956",
   "metadata": {},
   "outputs": [
    {
     "data": {
      "text/plain": [
       "array([0.88285736, 0.24834524, 0.60730114, 0.47772634, 0.98997705,\n",
       "       0.79592951, 0.13435046, 0.60627197, 0.90441302, 0.19339165])"
      ]
     },
     "execution_count": 53,
     "metadata": {},
     "output_type": "execute_result"
    }
   ],
   "source": [
    "np.random.rand(10)"
   ]
  },
  {
   "cell_type": "code",
   "execution_count": 54,
   "id": "a07bc6b0-3dd1-41aa-b789-94cd2b679c51",
   "metadata": {},
   "outputs": [
    {
     "data": {
      "text/plain": [
       "array([ 1.52795397, -0.10165793, -0.28014496, -0.85728162, -0.90651027,\n",
       "        0.48520884, -0.27134323, -0.86543367, -2.13333117, -1.70613195])"
      ]
     },
     "execution_count": 54,
     "metadata": {},
     "output_type": "execute_result"
    }
   ],
   "source": [
    "np.random.randn(10)"
   ]
  },
  {
   "cell_type": "code",
   "execution_count": 55,
   "id": "0ace8008-34af-4f06-b8d2-118c4a10ffa7",
   "metadata": {},
   "outputs": [
    {
     "data": {
      "text/plain": [
       "array([17, 11, 17, 10, 16, 18, 17, 13, 10, 11], dtype=int32)"
      ]
     },
     "execution_count": 55,
     "metadata": {},
     "output_type": "execute_result"
    }
   ],
   "source": [
    "np.random.randint(10,20,10)"
   ]
  },
  {
   "cell_type": "markdown",
   "id": "74f995b9-badf-47b9-b724-72c595766d48",
   "metadata": {},
   "source": [
    "**Array Attributes**"
   ]
  },
  {
   "cell_type": "code",
   "execution_count": 58,
   "id": "bd1d1c9a-7e75-473b-b1c6-28e1f63c320d",
   "metadata": {},
   "outputs": [
    {
     "data": {
      "text/plain": [
       "array([[1, 2, 3, 4],\n",
       "       [5, 6, 7, 8],\n",
       "       [2, 4, 6, 8]])"
      ]
     },
     "execution_count": 58,
     "metadata": {},
     "output_type": "execute_result"
    }
   ],
   "source": [
    "arr = np.array([[1,2,3,4],[5,6,7,8],[2,4,6,8]])\n",
    "arr"
   ]
  },
  {
   "cell_type": "code",
   "execution_count": 59,
   "id": "48c34001-9b02-4103-bb83-d610484ddf28",
   "metadata": {},
   "outputs": [
    {
     "data": {
      "text/plain": [
       "(3, 4)"
      ]
     },
     "execution_count": 59,
     "metadata": {},
     "output_type": "execute_result"
    }
   ],
   "source": [
    "arr.shape"
   ]
  },
  {
   "cell_type": "code",
   "execution_count": 60,
   "id": "4d90ae84-f4c8-4342-a585-956f8a5b353c",
   "metadata": {},
   "outputs": [
    {
     "data": {
      "text/plain": [
       "12"
      ]
     },
     "execution_count": 60,
     "metadata": {},
     "output_type": "execute_result"
    }
   ],
   "source": [
    "arr.size"
   ]
  },
  {
   "cell_type": "code",
   "execution_count": 61,
   "id": "eff97e04-08db-4884-88aa-b55ac7108c01",
   "metadata": {},
   "outputs": [
    {
     "data": {
      "text/plain": [
       "dtype('int64')"
      ]
     },
     "execution_count": 61,
     "metadata": {},
     "output_type": "execute_result"
    }
   ],
   "source": [
    "arr.dtype"
   ]
  },
  {
   "cell_type": "markdown",
   "id": "9f5a040e-628d-45bb-97a2-80045722ef73",
   "metadata": {},
   "source": [
    "**Array Method**"
   ]
  },
  {
   "cell_type": "code",
   "execution_count": 63,
   "id": "5e10ebf6-eb0d-4b66-8de1-e5847c6bf54e",
   "metadata": {},
   "outputs": [
    {
     "data": {
      "text/plain": [
       "array([[1, 2, 3, 4],\n",
       "       [5, 6, 7, 8],\n",
       "       [2, 4, 6, 8]])"
      ]
     },
     "execution_count": 63,
     "metadata": {},
     "output_type": "execute_result"
    }
   ],
   "source": [
    "arr"
   ]
  },
  {
   "cell_type": "code",
   "execution_count": 65,
   "id": "327036d8-e372-4287-a533-d4d8ccb66376",
   "metadata": {},
   "outputs": [
    {
     "data": {
      "text/plain": [
       "np.int64(1)"
      ]
     },
     "execution_count": 65,
     "metadata": {},
     "output_type": "execute_result"
    }
   ],
   "source": [
    "arr.min()"
   ]
  },
  {
   "cell_type": "code",
   "execution_count": 66,
   "id": "43ad3e7f-796d-4d1d-8002-e098215f2882",
   "metadata": {},
   "outputs": [
    {
     "data": {
      "text/plain": [
       "np.int64(8)"
      ]
     },
     "execution_count": 66,
     "metadata": {},
     "output_type": "execute_result"
    }
   ],
   "source": [
    "arr.max()"
   ]
  },
  {
   "cell_type": "code",
   "execution_count": 67,
   "id": "36b41074-99be-4b07-8467-420f50187ed0",
   "metadata": {},
   "outputs": [
    {
     "data": {
      "text/plain": [
       "np.int64(56)"
      ]
     },
     "execution_count": 67,
     "metadata": {},
     "output_type": "execute_result"
    }
   ],
   "source": [
    "arr.sum()"
   ]
  },
  {
   "cell_type": "code",
   "execution_count": 68,
   "id": "9e5ceabe-e9e7-46e0-92c9-f4e81ba0c77b",
   "metadata": {},
   "outputs": [
    {
     "data": {
      "text/plain": [
       "array([10, 26, 20])"
      ]
     },
     "execution_count": 68,
     "metadata": {},
     "output_type": "execute_result"
    }
   ],
   "source": [
    "np.sum(arr, axis=1) # Row"
   ]
  },
  {
   "cell_type": "code",
   "execution_count": 69,
   "id": "8107c359-0ef9-4b03-8f9e-f8e7a80a7644",
   "metadata": {},
   "outputs": [
    {
     "data": {
      "text/plain": [
       "array([ 8, 12, 16, 20])"
      ]
     },
     "execution_count": 69,
     "metadata": {},
     "output_type": "execute_result"
    }
   ],
   "source": [
    "np.sum(arr, axis=0) # Column"
   ]
  },
  {
   "cell_type": "code",
   "execution_count": 70,
   "id": "e91d69b7-eaff-4b2d-a91a-bd91bca1a17d",
   "metadata": {},
   "outputs": [
    {
     "data": {
      "text/plain": [
       "np.float64(4.666666666666667)"
      ]
     },
     "execution_count": 70,
     "metadata": {},
     "output_type": "execute_result"
    }
   ],
   "source": [
    "arr.mean()"
   ]
  },
  {
   "cell_type": "code",
   "execution_count": 71,
   "id": "92bfd0f6-4fb6-4eb3-969c-22437ae7e432",
   "metadata": {},
   "outputs": [
    {
     "data": {
      "text/plain": [
       "np.float64(2.285218200133681)"
      ]
     },
     "execution_count": 71,
     "metadata": {},
     "output_type": "execute_result"
    }
   ],
   "source": [
    "arr.std()"
   ]
  },
  {
   "cell_type": "code",
   "execution_count": 72,
   "id": "5b2dba63-b5b2-4760-8428-346c201f42c6",
   "metadata": {},
   "outputs": [
    {
     "data": {
      "text/plain": [
       "np.int64(7)"
      ]
     },
     "execution_count": 72,
     "metadata": {},
     "output_type": "execute_result"
    }
   ],
   "source": [
    "arr.argmax()"
   ]
  },
  {
   "cell_type": "code",
   "execution_count": 73,
   "id": "5ce00439-89bd-457f-aefb-f832f1c7feeb",
   "metadata": {},
   "outputs": [
    {
     "data": {
      "text/plain": [
       "np.int64(0)"
      ]
     },
     "execution_count": 73,
     "metadata": {},
     "output_type": "execute_result"
    }
   ],
   "source": [
    "arr.argmin()"
   ]
  },
  {
   "cell_type": "markdown",
   "id": "568ee8fb-ddca-4735-9a6f-d117e113fdee",
   "metadata": {},
   "source": [
    "**Reshaping & Resizing**"
   ]
  },
  {
   "cell_type": "code",
   "execution_count": 76,
   "id": "afaa09ed-add9-4e70-8b40-78eaed22b448",
   "metadata": {},
   "outputs": [
    {
     "data": {
      "text/plain": [
       "array([ 1,  2,  3,  4,  5,  6,  7,  8,  9, 10, 11, 12, 13, 14, 15, 16, 17,\n",
       "       18, 19, 20, 21, 22, 23, 24, 25, 26, 27, 28, 29, 30])"
      ]
     },
     "execution_count": 76,
     "metadata": {},
     "output_type": "execute_result"
    }
   ],
   "source": [
    "arr = np.arange(1,31)\n",
    "arr"
   ]
  },
  {
   "cell_type": "code",
   "execution_count": 79,
   "id": "fa6fb11f-eeec-4aca-b4ce-73d31752fc58",
   "metadata": {},
   "outputs": [
    {
     "data": {
      "text/plain": [
       "array([[ 1,  2,  3,  4,  5],\n",
       "       [ 6,  7,  8,  9, 10],\n",
       "       [11, 12, 13, 14, 15],\n",
       "       [16, 17, 18, 19, 20],\n",
       "       [21, 22, 23, 24, 25],\n",
       "       [26, 27, 28, 29, 30]])"
      ]
     },
     "execution_count": 79,
     "metadata": {},
     "output_type": "execute_result"
    }
   ],
   "source": [
    "arr.reshape(6,5)"
   ]
  },
  {
   "cell_type": "markdown",
   "id": "cab815fe-2eb9-4355-b7f9-d2e47ba33680",
   "metadata": {},
   "source": [
    "**Indexing & Siling Vectors**"
   ]
  },
  {
   "cell_type": "code",
   "execution_count": 88,
   "id": "b7ed8b72-5d97-4f14-9d1c-7b97983f6756",
   "metadata": {},
   "outputs": [],
   "source": [
    "arr = np.arange(11,21)"
   ]
  },
  {
   "cell_type": "code",
   "execution_count": 89,
   "id": "733d685e-9316-46e2-a98e-768432a26a24",
   "metadata": {},
   "outputs": [
    {
     "data": {
      "text/plain": [
       "array([11, 12, 13, 14, 15, 16, 17, 18, 19, 20])"
      ]
     },
     "execution_count": 89,
     "metadata": {},
     "output_type": "execute_result"
    }
   ],
   "source": [
    "arr"
   ]
  },
  {
   "cell_type": "code",
   "execution_count": 90,
   "id": "e68b7a24-d1e5-4937-9f9e-2710d4d93493",
   "metadata": {},
   "outputs": [
    {
     "data": {
      "text/plain": [
       "np.int64(20)"
      ]
     },
     "execution_count": 90,
     "metadata": {},
     "output_type": "execute_result"
    }
   ],
   "source": [
    "arr[9] # Indexing"
   ]
  },
  {
   "cell_type": "code",
   "execution_count": 91,
   "id": "6f5ea58a-009a-4fb3-a365-bf97fbbaf366",
   "metadata": {},
   "outputs": [
    {
     "data": {
      "text/plain": [
       "np.int64(12)"
      ]
     },
     "execution_count": 91,
     "metadata": {},
     "output_type": "execute_result"
    }
   ],
   "source": [
    "arr[1]"
   ]
  },
  {
   "cell_type": "code",
   "execution_count": 92,
   "id": "7ad5158a-6cae-4ce6-9dcc-a3c1d7d353d1",
   "metadata": {},
   "outputs": [
    {
     "data": {
      "text/plain": [
       "array([11, 12, 13, 14, 15])"
      ]
     },
     "execution_count": 92,
     "metadata": {},
     "output_type": "execute_result"
    }
   ],
   "source": [
    "arr[0:5] # Slicing"
   ]
  },
  {
   "cell_type": "code",
   "execution_count": 93,
   "id": "d50a87f5-c23c-4593-adbe-d0764ed2dbfd",
   "metadata": {},
   "outputs": [
    {
     "data": {
      "text/plain": [
       "array([14, 16, 18, 20])"
      ]
     },
     "execution_count": 93,
     "metadata": {},
     "output_type": "execute_result"
    }
   ],
   "source": [
    "arr_slice = arr[3::2]\n",
    "arr_slice"
   ]
  },
  {
   "cell_type": "markdown",
   "id": "7c64ff4a-ce83-415e-8dbf-c59dbf1668c3",
   "metadata": {},
   "source": [
    "**Indexing & Siling Matrix**"
   ]
  },
  {
   "cell_type": "code",
   "execution_count": 94,
   "id": "ce208541-4915-4b0e-a8ba-c4a6a2a3ebc1",
   "metadata": {},
   "outputs": [],
   "source": [
    "arr = np.arange(1,31).reshape(6,5)"
   ]
  },
  {
   "cell_type": "code",
   "execution_count": 95,
   "id": "5c8faf9f-356c-4708-affa-de70752ded8a",
   "metadata": {},
   "outputs": [
    {
     "data": {
      "text/plain": [
       "array([[ 1,  2,  3,  4,  5],\n",
       "       [ 6,  7,  8,  9, 10],\n",
       "       [11, 12, 13, 14, 15],\n",
       "       [16, 17, 18, 19, 20],\n",
       "       [21, 22, 23, 24, 25],\n",
       "       [26, 27, 28, 29, 30]])"
      ]
     },
     "execution_count": 95,
     "metadata": {},
     "output_type": "execute_result"
    }
   ],
   "source": [
    "arr"
   ]
  },
  {
   "cell_type": "code",
   "execution_count": 96,
   "id": "81de3581-a021-4caa-a46e-c887c2f75e18",
   "metadata": {},
   "outputs": [
    {
     "data": {
      "text/plain": [
       "array([16, 17, 18, 19, 20])"
      ]
     },
     "execution_count": 96,
     "metadata": {},
     "output_type": "execute_result"
    }
   ],
   "source": [
    "arr[3]"
   ]
  },
  {
   "cell_type": "code",
   "execution_count": 100,
   "id": "658339ea-d86c-4999-ab34-2643eaae77cf",
   "metadata": {},
   "outputs": [
    {
     "data": {
      "text/plain": [
       "np.int64(19)"
      ]
     },
     "execution_count": 100,
     "metadata": {},
     "output_type": "execute_result"
    }
   ],
   "source": [
    "arr[3,3]"
   ]
  },
  {
   "cell_type": "code",
   "execution_count": 109,
   "id": "d1ac6922-7328-4717-a179-5657892f1bba",
   "metadata": {},
   "outputs": [
    {
     "data": {
      "text/plain": [
       "array([[2, 3],\n",
       "       [7, 8]])"
      ]
     },
     "execution_count": 109,
     "metadata": {},
     "output_type": "execute_result"
    }
   ],
   "source": [
    "arr[0:2,1:3]"
   ]
  },
  {
   "cell_type": "code",
   "execution_count": 112,
   "id": "411ba9d3-919e-416d-9e34-ea6cc2811227",
   "metadata": {},
   "outputs": [
    {
     "data": {
      "text/plain": [
       "array([[19, 20],\n",
       "       [24, 25],\n",
       "       [29, 30]])"
      ]
     },
     "execution_count": 112,
     "metadata": {},
     "output_type": "execute_result"
    }
   ],
   "source": [
    "arr[3:,3:]"
   ]
  },
  {
   "cell_type": "code",
   "execution_count": 113,
   "id": "1a92dcab-b893-4267-ae58-7f346d49cc01",
   "metadata": {},
   "outputs": [
    {
     "data": {
      "text/plain": [
       "array([ 4,  9, 14, 19, 24, 29])"
      ]
     },
     "execution_count": 113,
     "metadata": {},
     "output_type": "execute_result"
    }
   ],
   "source": [
    "arr[:,3]"
   ]
  },
  {
   "cell_type": "code",
   "execution_count": 114,
   "id": "32f9ccf6-c9c6-4f94-8e03-1c2bd5161f6c",
   "metadata": {},
   "outputs": [
    {
     "data": {
      "text/plain": [
       "array([16, 17, 18, 19, 20])"
      ]
     },
     "execution_count": 114,
     "metadata": {},
     "output_type": "execute_result"
    }
   ],
   "source": [
    "arr[3,:]"
   ]
  },
  {
   "cell_type": "markdown",
   "id": "bd5c7916-d2bc-42f7-8adf-cf9c6f97835a",
   "metadata": {},
   "source": [
    "**Boolean Indexing**"
   ]
  },
  {
   "cell_type": "code",
   "execution_count": 115,
   "id": "4ab69eb0-fb86-4fae-8495-fe0a6f42b6af",
   "metadata": {},
   "outputs": [],
   "source": [
    "bool_index = arr %2 == 0"
   ]
  },
  {
   "cell_type": "code",
   "execution_count": 116,
   "id": "f313d425-0ac0-48e0-adab-08c69d29a84d",
   "metadata": {},
   "outputs": [
    {
     "data": {
      "text/plain": [
       "array([[False,  True, False,  True, False],\n",
       "       [ True, False,  True, False,  True],\n",
       "       [False,  True, False,  True, False],\n",
       "       [ True, False,  True, False,  True],\n",
       "       [False,  True, False,  True, False],\n",
       "       [ True, False,  True, False,  True]])"
      ]
     },
     "execution_count": 116,
     "metadata": {},
     "output_type": "execute_result"
    }
   ],
   "source": [
    "bool_index"
   ]
  },
  {
   "cell_type": "code",
   "execution_count": 117,
   "id": "839754be-5568-4d26-b160-4796f1aacb98",
   "metadata": {},
   "outputs": [],
   "source": [
    "arr = arr[bool_index]"
   ]
  },
  {
   "cell_type": "code",
   "execution_count": 118,
   "id": "0776b74a-2e17-4b35-880b-1146ce28aa00",
   "metadata": {},
   "outputs": [
    {
     "data": {
      "text/plain": [
       "array([ 2,  4,  6,  8, 10, 12, 14, 16, 18, 20, 22, 24, 26, 28, 30])"
      ]
     },
     "execution_count": 118,
     "metadata": {},
     "output_type": "execute_result"
    }
   ],
   "source": [
    "arr"
   ]
  },
  {
   "cell_type": "code",
   "execution_count": 119,
   "id": "973bac26-fc71-4243-b5fd-15213bec55a2",
   "metadata": {},
   "outputs": [
    {
     "data": {
      "text/plain": [
       "(15,)"
      ]
     },
     "execution_count": 119,
     "metadata": {},
     "output_type": "execute_result"
    }
   ],
   "source": [
    "arr.shape"
   ]
  },
  {
   "cell_type": "markdown",
   "id": "f736bc63-b53b-4810-a13b-4aba57a4a6d0",
   "metadata": {},
   "source": [
    "**Broadcasting**"
   ]
  },
  {
   "cell_type": "code",
   "execution_count": 122,
   "id": "cef7dd71-2229-46b4-b8fe-8dc29d22ee2d",
   "metadata": {},
   "outputs": [],
   "source": [
    "l =[10,20,30,40]\n",
    "arr = np.array(l)"
   ]
  },
  {
   "cell_type": "code",
   "execution_count": 123,
   "id": "5bd3834f-8f10-443b-82bf-a71e8f9ba023",
   "metadata": {},
   "outputs": [
    {
     "data": {
      "text/plain": [
       "array([10, 20, 30, 40])"
      ]
     },
     "execution_count": 123,
     "metadata": {},
     "output_type": "execute_result"
    }
   ],
   "source": [
    "arr"
   ]
  },
  {
   "cell_type": "code",
   "execution_count": 124,
   "id": "fb64ac91-91e6-47a4-9398-f9a791dc89f0",
   "metadata": {},
   "outputs": [
    {
     "data": {
      "text/plain": [
       "array([20, 30, 40, 50])"
      ]
     },
     "execution_count": 124,
     "metadata": {},
     "output_type": "execute_result"
    }
   ],
   "source": [
    "arr + 10"
   ]
  },
  {
   "cell_type": "markdown",
   "id": "32a0935c-925f-46e3-b81f-d298ce227d60",
   "metadata": {},
   "source": [
    "**Deep & Shallow copy**"
   ]
  },
  {
   "cell_type": "code",
   "execution_count": 132,
   "id": "9955fba7-bfb5-47ec-b9db-33b160e12c21",
   "metadata": {},
   "outputs": [],
   "source": [
    "a= np.arange(1,21) "
   ]
  },
  {
   "cell_type": "code",
   "execution_count": 133,
   "id": "76bba241-9cf7-413a-8e4b-2934b0189268",
   "metadata": {},
   "outputs": [
    {
     "data": {
      "text/plain": [
       "array([ 1,  2,  3,  4,  5,  6,  7,  8,  9, 10, 11, 12, 13, 14, 15, 16, 17,\n",
       "       18, 19, 20])"
      ]
     },
     "execution_count": 133,
     "metadata": {},
     "output_type": "execute_result"
    }
   ],
   "source": [
    "a"
   ]
  },
  {
   "cell_type": "code",
   "execution_count": 134,
   "id": "987f3c96-83da-432e-9f7c-ab882ad15933",
   "metadata": {},
   "outputs": [],
   "source": [
    "slice = a[:5]"
   ]
  },
  {
   "cell_type": "code",
   "execution_count": 135,
   "id": "48cffa8a-46ee-490f-bf16-016788392962",
   "metadata": {},
   "outputs": [
    {
     "data": {
      "text/plain": [
       "array([10, 20, 30, 40, 50])"
      ]
     },
     "execution_count": 135,
     "metadata": {},
     "output_type": "execute_result"
    }
   ],
   "source": [
    "slice * 10"
   ]
  },
  {
   "cell_type": "code",
   "execution_count": 136,
   "id": "954f6187-42ac-4cc2-bd3c-858bf3529c9c",
   "metadata": {},
   "outputs": [
    {
     "data": {
      "text/plain": [
       "array([ 1,  2,  3,  4,  5,  6,  7,  8,  9, 10, 11, 12, 13, 14, 15, 16, 17,\n",
       "       18, 19, 20])"
      ]
     },
     "execution_count": 136,
     "metadata": {},
     "output_type": "execute_result"
    }
   ],
   "source": [
    "a"
   ]
  },
  {
   "cell_type": "code",
   "execution_count": 137,
   "id": "8d40e3cd-72b3-4ed4-8be2-94bdb97f8b22",
   "metadata": {},
   "outputs": [
    {
     "data": {
      "text/plain": [
       "array([50, 60])"
      ]
     },
     "execution_count": 137,
     "metadata": {},
     "output_type": "execute_result"
    }
   ],
   "source": [
    "a[4:6] * 10"
   ]
  },
  {
   "cell_type": "code",
   "execution_count": 139,
   "id": "9bd96e48-1231-40a4-8467-9e27cf23199e",
   "metadata": {},
   "outputs": [],
   "source": [
    "b = a.copy()"
   ]
  },
  {
   "cell_type": "code",
   "execution_count": 140,
   "id": "1d472218-cc0f-48dd-bcf3-34125429c387",
   "metadata": {},
   "outputs": [
    {
     "data": {
      "text/plain": [
       "array([ 1,  2,  3,  4,  5,  6,  7,  8,  9, 10, 11, 12, 13, 14, 15, 16, 17,\n",
       "       18, 19, 20])"
      ]
     },
     "execution_count": 140,
     "metadata": {},
     "output_type": "execute_result"
    }
   ],
   "source": [
    "b"
   ]
  },
  {
   "cell_type": "code",
   "execution_count": 141,
   "id": "760996f3-eae1-40d9-b7bb-f0f7957f4f19",
   "metadata": {},
   "outputs": [],
   "source": [
    "b[0] = 99"
   ]
  },
  {
   "cell_type": "code",
   "execution_count": 142,
   "id": "05efb01d-401f-4009-ad6e-f05d8edc57dd",
   "metadata": {},
   "outputs": [
    {
     "data": {
      "text/plain": [
       "array([99,  2,  3,  4,  5,  6,  7,  8,  9, 10, 11, 12, 13, 14, 15, 16, 17,\n",
       "       18, 19, 20])"
      ]
     },
     "execution_count": 142,
     "metadata": {},
     "output_type": "execute_result"
    }
   ],
   "source": [
    "b"
   ]
  },
  {
   "cell_type": "code",
   "execution_count": 143,
   "id": "fcb3e6a6-96bb-4357-8235-ac46ff5c312f",
   "metadata": {},
   "outputs": [
    {
     "data": {
      "text/plain": [
       "array([ 1,  2,  3,  4,  5,  6,  7,  8,  9, 10, 11, 12, 13, 14, 15, 16, 17,\n",
       "       18, 19, 20])"
      ]
     },
     "execution_count": 143,
     "metadata": {},
     "output_type": "execute_result"
    }
   ],
   "source": [
    "a"
   ]
  },
  {
   "cell_type": "markdown",
   "id": "e15a4e6a-da2c-4c59-bf26-61e1e7f4d8dc",
   "metadata": {},
   "source": [
    "**Matrix Operation**"
   ]
  },
  {
   "cell_type": "code",
   "execution_count": 148,
   "id": "1c1e4bc2-a7d5-4632-b9ff-70ea5c461360",
   "metadata": {},
   "outputs": [],
   "source": [
    "A = np.array([[1, 2], [3, 4]])\n",
    "B = np.array([[5, 6], [7, 8]])"
   ]
  },
  {
   "cell_type": "code",
   "execution_count": 149,
   "id": "ebe080f6-6654-48d0-8e84-38242ad98985",
   "metadata": {},
   "outputs": [
    {
     "data": {
      "text/plain": [
       "array([[1, 2],\n",
       "       [3, 4]])"
      ]
     },
     "execution_count": 149,
     "metadata": {},
     "output_type": "execute_result"
    }
   ],
   "source": [
    "A"
   ]
  },
  {
   "cell_type": "code",
   "execution_count": 150,
   "id": "215a0db1-49d3-4d84-9237-94108869cbbe",
   "metadata": {},
   "outputs": [
    {
     "data": {
      "text/plain": [
       "array([[5, 6],\n",
       "       [7, 8]])"
      ]
     },
     "execution_count": 150,
     "metadata": {},
     "output_type": "execute_result"
    }
   ],
   "source": [
    "B"
   ]
  },
  {
   "cell_type": "code",
   "execution_count": 152,
   "id": "b4901e81-5e53-4220-96b8-62a78c3449dc",
   "metadata": {},
   "outputs": [
    {
     "data": {
      "text/plain": [
       "array([[19, 22],\n",
       "       [43, 50]])"
      ]
     },
     "execution_count": 152,
     "metadata": {},
     "output_type": "execute_result"
    }
   ],
   "source": [
    "A @ B"
   ]
  },
  {
   "cell_type": "code",
   "execution_count": 153,
   "id": "610e9fdd-e92e-461c-8332-1a8044db46fe",
   "metadata": {},
   "outputs": [
    {
     "data": {
      "text/plain": [
       "array([[19, 22],\n",
       "       [43, 50]])"
      ]
     },
     "execution_count": 153,
     "metadata": {},
     "output_type": "execute_result"
    }
   ],
   "source": [
    "np.dot(A,B)"
   ]
  },
  {
   "cell_type": "code",
   "execution_count": 154,
   "id": "fbf4a264-f408-4e45-a587-087976df84a5",
   "metadata": {},
   "outputs": [
    {
     "data": {
      "text/plain": [
       "array([[1, 3],\n",
       "       [2, 4]])"
      ]
     },
     "execution_count": 154,
     "metadata": {},
     "output_type": "execute_result"
    }
   ],
   "source": [
    "A.T"
   ]
  },
  {
   "cell_type": "markdown",
   "id": "b6e56620-b7fb-41dc-8f9e-6f2e8ad8ec67",
   "metadata": {},
   "source": [
    "**Stacking Array**"
   ]
  },
  {
   "cell_type": "code",
   "execution_count": 156,
   "id": "9499d710-dc9b-4d1f-9eca-b1bc89313145",
   "metadata": {},
   "outputs": [],
   "source": [
    "A = np.array([1, 2,3, 4])\n",
    "B = np.array([5, 6,7, 8])"
   ]
  },
  {
   "cell_type": "code",
   "execution_count": 157,
   "id": "b5cfb41e-050f-4266-9a05-0c976dd7e7ad",
   "metadata": {},
   "outputs": [
    {
     "data": {
      "text/plain": [
       "array([1, 2, 3, 4])"
      ]
     },
     "execution_count": 157,
     "metadata": {},
     "output_type": "execute_result"
    }
   ],
   "source": [
    "A"
   ]
  },
  {
   "cell_type": "code",
   "execution_count": 158,
   "id": "a3f9bcdd-681d-4467-b2f7-20df85908ac2",
   "metadata": {},
   "outputs": [
    {
     "data": {
      "text/plain": [
       "array([5, 6, 7, 8])"
      ]
     },
     "execution_count": 158,
     "metadata": {},
     "output_type": "execute_result"
    }
   ],
   "source": [
    "B"
   ]
  },
  {
   "cell_type": "code",
   "execution_count": 160,
   "id": "6e1554c4-ec68-4ad9-8f51-54bbb8aa0823",
   "metadata": {},
   "outputs": [],
   "source": [
    "stack = np.vstack((A,B))"
   ]
  },
  {
   "cell_type": "code",
   "execution_count": 161,
   "id": "cc6f0fb2-c2d0-494b-aa87-bcf4d48e2157",
   "metadata": {},
   "outputs": [
    {
     "data": {
      "text/plain": [
       "array([[1, 2, 3, 4],\n",
       "       [5, 6, 7, 8]])"
      ]
     },
     "execution_count": 161,
     "metadata": {},
     "output_type": "execute_result"
    }
   ],
   "source": [
    "stack"
   ]
  },
  {
   "cell_type": "code",
   "execution_count": 162,
   "id": "db91d808-f653-4378-8519-6703795cadcd",
   "metadata": {},
   "outputs": [],
   "source": [
    "stack2 = np.hstack((A,B))"
   ]
  },
  {
   "cell_type": "code",
   "execution_count": 163,
   "id": "7e263e61-d3b7-48cd-ad54-88bdddae1795",
   "metadata": {},
   "outputs": [
    {
     "data": {
      "text/plain": [
       "array([1, 2, 3, 4, 5, 6, 7, 8])"
      ]
     },
     "execution_count": 163,
     "metadata": {},
     "output_type": "execute_result"
    }
   ],
   "source": [
    "stack2"
   ]
  },
  {
   "cell_type": "code",
   "execution_count": 164,
   "id": "072c26de-194d-439d-8a45-013742150e67",
   "metadata": {},
   "outputs": [
    {
     "data": {
      "text/plain": [
       "array([[1, 5],\n",
       "       [2, 6],\n",
       "       [3, 7],\n",
       "       [4, 8]])"
      ]
     },
     "execution_count": 164,
     "metadata": {},
     "output_type": "execute_result"
    }
   ],
   "source": [
    "np.column_stack((A,B))"
   ]
  },
  {
   "cell_type": "markdown",
   "id": "9c567376-25fe-4097-acef-4ce8ca738fd8",
   "metadata": {},
   "source": [
    "**Splitting Array**"
   ]
  },
  {
   "cell_type": "code",
   "execution_count": 167,
   "id": "1c20a9d6-ccf3-4395-8a52-ce5964030c79",
   "metadata": {},
   "outputs": [],
   "source": [
    "a = np.arange(16).reshape(4,4)"
   ]
  },
  {
   "cell_type": "code",
   "execution_count": 168,
   "id": "4e8f074b-d246-407d-894c-2a73d7335af4",
   "metadata": {},
   "outputs": [
    {
     "data": {
      "text/plain": [
       "array([[ 0,  1,  2,  3],\n",
       "       [ 4,  5,  6,  7],\n",
       "       [ 8,  9, 10, 11],\n",
       "       [12, 13, 14, 15]])"
      ]
     },
     "execution_count": 168,
     "metadata": {},
     "output_type": "execute_result"
    }
   ],
   "source": [
    "a"
   ]
  },
  {
   "cell_type": "code",
   "execution_count": 174,
   "id": "e48ae5b8-5c4d-440a-8078-a6dd08f57a24",
   "metadata": {},
   "outputs": [
    {
     "data": {
      "text/plain": [
       "[array([[ 0],\n",
       "        [ 4],\n",
       "        [ 8],\n",
       "        [12]]),\n",
       " array([[ 1],\n",
       "        [ 5],\n",
       "        [ 9],\n",
       "        [13]]),\n",
       " array([[ 2],\n",
       "        [ 6],\n",
       "        [10],\n",
       "        [14]]),\n",
       " array([[ 3],\n",
       "        [ 7],\n",
       "        [11],\n",
       "        [15]])]"
      ]
     },
     "execution_count": 174,
     "metadata": {},
     "output_type": "execute_result"
    }
   ],
   "source": [
    "np.hsplit(a,4)"
   ]
  },
  {
   "cell_type": "code",
   "execution_count": 176,
   "id": "8767d406-506c-4a81-ab3c-853c7cb90431",
   "metadata": {},
   "outputs": [
    {
     "data": {
      "text/plain": [
       "[array([[0, 1, 2, 3]]),\n",
       " array([[4, 5, 6, 7]]),\n",
       " array([[ 8,  9, 10, 11]]),\n",
       " array([[12, 13, 14, 15]])]"
      ]
     },
     "execution_count": 176,
     "metadata": {},
     "output_type": "execute_result"
    }
   ],
   "source": [
    "np.vsplit(a,4)"
   ]
  },
  {
   "cell_type": "code",
   "execution_count": null,
   "id": "87a12e78-0c69-499e-b866-c2b85c936a74",
   "metadata": {},
   "outputs": [],
   "source": []
  }
 ],
 "metadata": {
  "kernelspec": {
   "display_name": "Python 3 (ipykernel)",
   "language": "python",
   "name": "python3"
  },
  "language_info": {
   "codemirror_mode": {
    "name": "ipython",
    "version": 3
   },
   "file_extension": ".py",
   "mimetype": "text/x-python",
   "name": "python",
   "nbconvert_exporter": "python",
   "pygments_lexer": "ipython3",
   "version": "3.13.3"
  }
 },
 "nbformat": 4,
 "nbformat_minor": 5
}
