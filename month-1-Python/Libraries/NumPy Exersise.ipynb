{
 "cells": [
  {
   "cell_type": "code",
   "execution_count": 2,
   "id": "90e91a92-d4ea-4e21-b67d-953dbf91e6a7",
   "metadata": {},
   "outputs": [],
   "source": [
    "import numpy as np"
   ]
  },
  {
   "cell_type": "markdown",
   "id": "5f53286f-c990-422c-a068-6eeb5f7d5606",
   "metadata": {},
   "source": [
    "**Valid Sudoku**"
   ]
  },
  {
   "cell_type": "code",
   "execution_count": 3,
   "id": "6472e26b-a880-4658-bbd8-fc8529825c30",
   "metadata": {},
   "outputs": [],
   "source": [
    "s = np.array([\n",
    "    [5, 3, 4, 6, 7, 8, 9, 1, 2],\n",
    "    [6, 7, 2, 1, 9, 5, 3, 4, 8],\n",
    "    [1, 9, 8, 3, 4, 2, 5, 6, 7],\n",
    "    \n",
    "    [8, 5, 9, 7, 6, 1, 4, 2, 3],\n",
    "    [4, 2, 6, 8, 5, 3, 7, 9, 1],\n",
    "    [7, 1, 3, 9, 2, 4, 8, 5, 6],\n",
    "    \n",
    "    [9, 6, 1, 5, 3, 7, 2, 8, 4],\n",
    "    [2, 8, 7, 4, 1, 9, 6, 3, 5],\n",
    "    [3, 4, 5, 2, 8, 6, 1, 7, 9]\n",
    "])"
   ]
  },
  {
   "cell_type": "code",
   "execution_count": 5,
   "id": "a0349cac-d52f-46fd-b0bd-6421aee0cd17",
   "metadata": {},
   "outputs": [
    {
     "data": {
      "text/plain": [
       "np.int64(405)"
      ]
     },
     "execution_count": 5,
     "metadata": {},
     "output_type": "execute_result"
    }
   ],
   "source": [
    "s.sum()"
   ]
  },
  {
   "cell_type": "code",
   "execution_count": 15,
   "id": "ec97183c-1b21-410d-b522-4cb87d1e49a1",
   "metadata": {},
   "outputs": [
    {
     "name": "stdout",
     "output_type": "stream",
     "text": [
      "for rowa it is valid\n"
     ]
    }
   ],
   "source": [
    "b = np.sum(s,axis=1)\n",
    "for i in b:\n",
    "    if i !=45:\n",
    "        print(\"Is not valid\")\n",
    "else:\n",
    "    print(\"for rowa it is valid\")"
   ]
  },
  {
   "cell_type": "code",
   "execution_count": 16,
   "id": "42f1347b-3345-4678-a4c8-bea715527c3c",
   "metadata": {},
   "outputs": [
    {
     "name": "stdout",
     "output_type": "stream",
     "text": [
      "for column it is valid\n"
     ]
    }
   ],
   "source": [
    "c = np.sum(s,axis=0)\n",
    "for i in c:\n",
    "    if i !=45:\n",
    "        print(\"Is not valid\")\n",
    "else:\n",
    "    print(\"for column it is valid\")"
   ]
  },
  {
   "cell_type": "code",
   "execution_count": 18,
   "id": "9fde2333-820f-4bb9-9d61-99279350bb45",
   "metadata": {},
   "outputs": [
    {
     "data": {
      "text/plain": [
       "array([[5, 3, 4],\n",
       "       [6, 7, 2],\n",
       "       [1, 9, 8]])"
      ]
     },
     "execution_count": 18,
     "metadata": {},
     "output_type": "execute_result"
    }
   ],
   "source": [
    "s[0:3,0:3]"
   ]
  },
  {
   "cell_type": "code",
   "execution_count": 24,
   "id": "22998174-15a4-47ee-a446-fa9eac0ccc16",
   "metadata": {},
   "outputs": [
    {
     "name": "stdout",
     "output_type": "stream",
     "text": [
      "45\n",
      "45\n",
      "45\n",
      "45\n",
      "45\n",
      "45\n",
      "45\n",
      "45\n",
      "45\n"
     ]
    }
   ],
   "source": [
    "for i in range(0,9,3):\n",
    "    for j in range(0,9,3):\n",
    "        n = s[i:i+3, j:j+3]\n",
    "        print(n.sum())"
   ]
  },
  {
   "cell_type": "markdown",
   "id": "6af5688d-bd2d-41da-a5d9-89a8de9bb2c1",
   "metadata": {},
   "source": [
    "**General Question**"
   ]
  },
  {
   "cell_type": "code",
   "execution_count": 46,
   "id": "55d270ae-947e-41f0-bdaf-c228e911d4a3",
   "metadata": {},
   "outputs": [],
   "source": [
    "# Columns: [Age, Math Marks, Science Marks]\n",
    "data = np.array([\n",
    "    [18, 85, 78],   # Student 1\n",
    "    [19, 92, 88],   # Student 2\n",
    "    [17, 76, 95],   # Student 3\n",
    "    [18, 65, 70],   # Student 4\n",
    "    [20, 90, 85]    # Student 5\n",
    "])"
   ]
  },
  {
   "cell_type": "code",
   "execution_count": 47,
   "id": "33130ade-c88a-44b6-afbe-aa6e44b5a0ed",
   "metadata": {},
   "outputs": [
    {
     "data": {
      "text/plain": [
       "array([[18, 85, 78],\n",
       "       [19, 92, 88],\n",
       "       [17, 76, 95],\n",
       "       [18, 65, 70],\n",
       "       [20, 90, 85]])"
      ]
     },
     "execution_count": 47,
     "metadata": {},
     "output_type": "execute_result"
    }
   ],
   "source": [
    "data"
   ]
  },
  {
   "cell_type": "code",
   "execution_count": 48,
   "id": "5ecea100-ee5e-4062-b0bd-d5cdf6389d8b",
   "metadata": {},
   "outputs": [
    {
     "data": {
      "text/plain": [
       "(5, 3)"
      ]
     },
     "execution_count": 48,
     "metadata": {},
     "output_type": "execute_result"
    }
   ],
   "source": [
    "# Get the shape of the matrix.\n",
    "data.shape"
   ]
  },
  {
   "cell_type": "code",
   "execution_count": 49,
   "id": "130d7ef0-d576-4687-874f-39dcc17eda96",
   "metadata": {},
   "outputs": [
    {
     "data": {
      "text/plain": [
       "np.float64(18.4)"
      ]
     },
     "execution_count": 49,
     "metadata": {},
     "output_type": "execute_result"
    }
   ],
   "source": [
    "# Find the average age of students.\n",
    "np.mean(data[:,0])"
   ]
  },
  {
   "cell_type": "code",
   "execution_count": 50,
   "id": "7c761ca5-5767-4c01-b1b6-312eae76bb5c",
   "metadata": {},
   "outputs": [
    {
     "data": {
      "text/plain": [
       "array([85, 92, 76, 65, 90])"
      ]
     },
     "execution_count": 50,
     "metadata": {},
     "output_type": "execute_result"
    }
   ],
   "source": [
    "# Extract Math marks of all students.\n",
    "data[:,1]"
   ]
  },
  {
   "cell_type": "code",
   "execution_count": 51,
   "id": "d7954cbe-8d58-453c-a393-5367a2fc8176",
   "metadata": {},
   "outputs": [
    {
     "data": {
      "text/plain": [
       "np.int64(95)"
      ]
     },
     "execution_count": 51,
     "metadata": {},
     "output_type": "execute_result"
    }
   ],
   "source": [
    "# Find the highest Science mark.\n",
    "np.max(data[:,2])"
   ]
  },
  {
   "cell_type": "code",
   "execution_count": 52,
   "id": "99f4d548-4f42-41d7-9454-56c0a736c0c0",
   "metadata": {},
   "outputs": [
    {
     "data": {
      "text/plain": [
       "array([[19, 92, 88]])"
      ]
     },
     "execution_count": 52,
     "metadata": {},
     "output_type": "execute_result"
    }
   ],
   "source": [
    "# Get details of the student who scored more than 90 in Math.\n",
    "data[data[:,1] > 90]"
   ]
  },
  {
   "cell_type": "code",
   "execution_count": 53,
   "id": "a6deb25a-f5c6-43b6-8448-deadc71b8d42",
   "metadata": {},
   "outputs": [
    {
     "data": {
      "text/plain": [
       "array([90, 97, 81, 70, 95])"
      ]
     },
     "execution_count": 53,
     "metadata": {},
     "output_type": "execute_result"
    }
   ],
   "source": [
    "# Increase Math marks of all students by 5.\n",
    "data2 = data[:,1] + 5 \n",
    "data2"
   ]
  },
  {
   "cell_type": "code",
   "execution_count": 55,
   "id": "1ff0254f-7827-42ba-810f-ec0345206219",
   "metadata": {},
   "outputs": [
    {
     "data": {
      "text/plain": [
       "array([ True, False,  True,  True, False])"
      ]
     },
     "execution_count": 55,
     "metadata": {},
     "output_type": "execute_result"
    }
   ],
   "source": [
    "# Find how many students are younger than 19.\n",
    "data[:,0] < 19"
   ]
  },
  {
   "cell_type": "code",
   "execution_count": 57,
   "id": "f31059bb-2e7a-4a42-9efc-2ea2df05350b",
   "metadata": {},
   "outputs": [
    {
     "data": {
      "text/plain": [
       "3"
      ]
     },
     "execution_count": 57,
     "metadata": {},
     "output_type": "execute_result"
    }
   ],
   "source": [
    "len(data[data[:,0] < 19])"
   ]
  },
  {
   "cell_type": "code",
   "execution_count": 62,
   "id": "fe675c69-0072-4702-aa89-e931f453c8ca",
   "metadata": {},
   "outputs": [
    {
     "data": {
      "text/plain": [
       "array([81.6, 83.2])"
      ]
     },
     "execution_count": 62,
     "metadata": {},
     "output_type": "execute_result"
    }
   ],
   "source": [
    "# Calculate the average marks in each subject (column-wise mean).\n",
    "np.mean(data[:,1:],axis=0)"
   ]
  },
  {
   "cell_type": "code",
   "execution_count": 63,
   "id": "ca0d3281-8ed0-47a0-9764-b11c288f2435",
   "metadata": {},
   "outputs": [
    {
     "data": {
      "text/plain": [
       "array([[19, 92, 88],\n",
       "       [20, 90, 85]])"
      ]
     },
     "execution_count": 63,
     "metadata": {},
     "output_type": "execute_result"
    }
   ],
   "source": [
    "# Get data of students who scored at least 80 in both subjects.\n",
    "data[( data[:,1] >= 80 ) & (data[:,2] >= 80) ]  "
   ]
  },
  {
   "cell_type": "code",
   "execution_count": 71,
   "id": "3668d21a-7638-4ed1-9ac4-9df83a4c2957",
   "metadata": {},
   "outputs": [],
   "source": [
    "# Replace all Science marks < 75 with 0.\n",
    "data[:,2][data[:,2] < 75 ] = 0 "
   ]
  },
  {
   "cell_type": "code",
   "execution_count": 72,
   "id": "d8491229-bcd4-4965-afa7-3b0a8ff6d4c8",
   "metadata": {},
   "outputs": [
    {
     "data": {
      "text/plain": [
       "array([[18, 85, 78],\n",
       "       [19, 92, 88],\n",
       "       [17, 76, 95],\n",
       "       [ 0,  0,  0],\n",
       "       [20, 90, 85]])"
      ]
     },
     "execution_count": 72,
     "metadata": {},
     "output_type": "execute_result"
    }
   ],
   "source": [
    "data"
   ]
  },
  {
   "cell_type": "code",
   "execution_count": null,
   "id": "d9f4f546-a5ce-4059-b40c-944633d7b09c",
   "metadata": {},
   "outputs": [],
   "source": []
  }
 ],
 "metadata": {
  "kernelspec": {
   "display_name": "Python 3 (ipykernel)",
   "language": "python",
   "name": "python3"
  },
  "language_info": {
   "codemirror_mode": {
    "name": "ipython",
    "version": 3
   },
   "file_extension": ".py",
   "mimetype": "text/x-python",
   "name": "python",
   "nbconvert_exporter": "python",
   "pygments_lexer": "ipython3",
   "version": "3.13.3"
  }
 },
 "nbformat": 4,
 "nbformat_minor": 5
}
