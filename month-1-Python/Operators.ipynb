{
 "cells": [
  {
   "cell_type": "markdown",
   "id": "d0032a24-902d-410e-a8d4-8ea8def9f38c",
   "metadata": {},
   "source": [
    "#  Arithmetic Operators"
   ]
  },
  {
   "cell_type": "code",
   "execution_count": 5,
   "id": "e7648ae9-c07b-4a4f-8f47-b943b2e19c6a",
   "metadata": {},
   "outputs": [],
   "source": [
    "a,b = 10,5"
   ]
  },
  {
   "cell_type": "code",
   "execution_count": 6,
   "id": "6871ea8d-c787-42be-a626-ce3a10444e7f",
   "metadata": {},
   "outputs": [
    {
     "name": "stdout",
     "output_type": "stream",
     "text": [
      "10\n",
      "5\n"
     ]
    }
   ],
   "source": [
    "print(a)\n",
    "print(b)"
   ]
  },
  {
   "cell_type": "code",
   "execution_count": 7,
   "id": "facab55e-8ea8-4492-b0aa-558d65a8e925",
   "metadata": {},
   "outputs": [
    {
     "data": {
      "text/plain": [
       "15"
      ]
     },
     "execution_count": 7,
     "metadata": {},
     "output_type": "execute_result"
    }
   ],
   "source": [
    "a + b #  Addition"
   ]
  },
  {
   "cell_type": "code",
   "execution_count": 8,
   "id": "4805104a-af3d-42c2-b2a3-7f3a3ebc681f",
   "metadata": {},
   "outputs": [
    {
     "data": {
      "text/plain": [
       "5"
      ]
     },
     "execution_count": 8,
     "metadata": {},
     "output_type": "execute_result"
    }
   ],
   "source": [
    "a - b # Substraction"
   ]
  },
  {
   "cell_type": "code",
   "execution_count": 9,
   "id": "3d6240a0-eefd-4fef-8f23-9a658002844e",
   "metadata": {},
   "outputs": [
    {
     "data": {
      "text/plain": [
       "50"
      ]
     },
     "execution_count": 9,
     "metadata": {},
     "output_type": "execute_result"
    }
   ],
   "source": [
    "a * b # Multiplication"
   ]
  },
  {
   "cell_type": "code",
   "execution_count": 10,
   "id": "1338d4f3-6f53-4c3d-b5e1-f4f492957691",
   "metadata": {},
   "outputs": [
    {
     "data": {
      "text/plain": [
       "2.0"
      ]
     },
     "execution_count": 10,
     "metadata": {},
     "output_type": "execute_result"
    }
   ],
   "source": [
    "a / b #  Division (float)  "
   ]
  },
  {
   "cell_type": "code",
   "execution_count": 11,
   "id": "763616d8-9e31-4f71-a739-97be0af66597",
   "metadata": {},
   "outputs": [
    {
     "data": {
      "text/plain": [
       "2"
      ]
     },
     "execution_count": 11,
     "metadata": {},
     "output_type": "execute_result"
    }
   ],
   "source": [
    "a // b #   Floor Division"
   ]
  },
  {
   "cell_type": "code",
   "execution_count": 12,
   "id": "aecce760-963b-4fae-9031-1e2e8bea8d05",
   "metadata": {},
   "outputs": [
    {
     "data": {
      "text/plain": [
       "0"
      ]
     },
     "execution_count": 12,
     "metadata": {},
     "output_type": "execute_result"
    }
   ],
   "source": [
    "a % b #  Modulus (remainder)"
   ]
  },
  {
   "cell_type": "code",
   "execution_count": 13,
   "id": "02ae4bbb-8fbf-4534-8fa7-983e06e52695",
   "metadata": {},
   "outputs": [
    {
     "data": {
      "text/plain": [
       "100000"
      ]
     },
     "execution_count": 13,
     "metadata": {},
     "output_type": "execute_result"
    }
   ],
   "source": [
    "a ** b  #  Exponentiation"
   ]
  },
  {
   "cell_type": "markdown",
   "id": "7cd1a8cc-7328-4aac-ac89-debce870a51f",
   "metadata": {},
   "source": [
    "# Assignmentt Operators"
   ]
  },
  {
   "cell_type": "code",
   "execution_count": 28,
   "id": "7090a0ab-cbee-4241-84c2-8ccffe9d22ca",
   "metadata": {},
   "outputs": [],
   "source": [
    "a = 2 # Assignment"
   ]
  },
  {
   "cell_type": "code",
   "execution_count": 29,
   "id": "550e3ea0-5e2d-49b0-9a67-143fc8b33232",
   "metadata": {},
   "outputs": [
    {
     "data": {
      "text/plain": [
       "2"
      ]
     },
     "execution_count": 29,
     "metadata": {},
     "output_type": "execute_result"
    }
   ],
   "source": [
    "a"
   ]
  },
  {
   "cell_type": "code",
   "execution_count": 30,
   "id": "99018a3d-6d10-4bd7-98a8-78e6e8442b98",
   "metadata": {},
   "outputs": [],
   "source": [
    "a += 2 # Add and Assign\t "
   ]
  },
  {
   "cell_type": "code",
   "execution_count": 31,
   "id": "e1ff6a43-fe6b-4094-8a66-4f89a9d3e725",
   "metadata": {},
   "outputs": [
    {
     "data": {
      "text/plain": [
       "4"
      ]
     },
     "execution_count": 31,
     "metadata": {},
     "output_type": "execute_result"
    }
   ],
   "source": [
    "a"
   ]
  },
  {
   "cell_type": "code",
   "execution_count": 32,
   "id": "d57d6232-5846-4401-aaaa-1e106145eba0",
   "metadata": {},
   "outputs": [],
   "source": [
    "a -= 2 # Add and Assign\t "
   ]
  },
  {
   "cell_type": "code",
   "execution_count": 33,
   "id": "c736758d-91f2-413e-947c-fa9c803583fb",
   "metadata": {},
   "outputs": [
    {
     "data": {
      "text/plain": [
       "2"
      ]
     },
     "execution_count": 33,
     "metadata": {},
     "output_type": "execute_result"
    }
   ],
   "source": [
    "a"
   ]
  },
  {
   "cell_type": "code",
   "execution_count": 34,
   "id": "70ff94ea-5bd1-4589-982d-61e392ec4d04",
   "metadata": {},
   "outputs": [],
   "source": [
    "a *= 2 # Multiply and Assign"
   ]
  },
  {
   "cell_type": "code",
   "execution_count": 35,
   "id": "b93da5a1-cb41-4ec7-80ae-88c569b13df2",
   "metadata": {},
   "outputs": [
    {
     "data": {
      "text/plain": [
       "4"
      ]
     },
     "execution_count": 35,
     "metadata": {},
     "output_type": "execute_result"
    }
   ],
   "source": [
    "a"
   ]
  },
  {
   "cell_type": "code",
   "execution_count": 36,
   "id": "610cca0f-a418-484f-bc61-8f25ce46007a",
   "metadata": {},
   "outputs": [],
   "source": [
    "a /= 2 # Divide and Assign "
   ]
  },
  {
   "cell_type": "code",
   "execution_count": 37,
   "id": "71699582-c690-4ae6-ad62-5a3ae6f9e3fc",
   "metadata": {},
   "outputs": [
    {
     "data": {
      "text/plain": [
       "2.0"
      ]
     },
     "execution_count": 37,
     "metadata": {},
     "output_type": "execute_result"
    }
   ],
   "source": [
    "a"
   ]
  },
  {
   "cell_type": "code",
   "execution_count": 38,
   "id": "ed6df6b8-2534-468b-8bdc-5107819bf120",
   "metadata": {},
   "outputs": [],
   "source": [
    "a //= 2 # Floor Divide and Assign"
   ]
  },
  {
   "cell_type": "code",
   "execution_count": 39,
   "id": "b27ad08d-1db9-4f11-b95d-888332554abf",
   "metadata": {},
   "outputs": [
    {
     "data": {
      "text/plain": [
       "1.0"
      ]
     },
     "execution_count": 39,
     "metadata": {},
     "output_type": "execute_result"
    }
   ],
   "source": [
    "a"
   ]
  },
  {
   "cell_type": "code",
   "execution_count": 40,
   "id": "349b44e0-8e2f-4220-aa68-374b1d8c6349",
   "metadata": {},
   "outputs": [],
   "source": [
    "a %= 2 # Modulus and Assign"
   ]
  },
  {
   "cell_type": "code",
   "execution_count": 41,
   "id": "357e4efc-706a-43b6-b4d5-4ba366cbe007",
   "metadata": {},
   "outputs": [
    {
     "data": {
      "text/plain": [
       "1.0"
      ]
     },
     "execution_count": 41,
     "metadata": {},
     "output_type": "execute_result"
    }
   ],
   "source": [
    "a"
   ]
  },
  {
   "cell_type": "code",
   "execution_count": 42,
   "id": "aecd9bc0-9efa-4a84-8190-a702f8d703aa",
   "metadata": {},
   "outputs": [],
   "source": [
    "a **= 2 # Exponentiate and Assign"
   ]
  },
  {
   "cell_type": "code",
   "execution_count": 43,
   "id": "b2da4498-c3bc-4593-80c6-532ff46991d8",
   "metadata": {},
   "outputs": [
    {
     "data": {
      "text/plain": [
       "1.0"
      ]
     },
     "execution_count": 43,
     "metadata": {},
     "output_type": "execute_result"
    }
   ],
   "source": [
    "a"
   ]
  },
  {
   "cell_type": "markdown",
   "id": "69c7da7b-b3d1-45b5-80e2-ec2f73928425",
   "metadata": {},
   "source": [
    "# Unary Operators"
   ]
  },
  {
   "cell_type": "code",
   "execution_count": 44,
   "id": "ec91b846-33c1-47c4-aeb5-65cf01fd3f36",
   "metadata": {},
   "outputs": [],
   "source": [
    "a = 5"
   ]
  },
  {
   "cell_type": "code",
   "execution_count": 45,
   "id": "44da3ac4-d4ef-4f76-9ff9-b1de33ed5308",
   "metadata": {},
   "outputs": [
    {
     "data": {
      "text/plain": [
       "5"
      ]
     },
     "execution_count": 45,
     "metadata": {},
     "output_type": "execute_result"
    }
   ],
   "source": [
    "a"
   ]
  },
  {
   "cell_type": "code",
   "execution_count": 46,
   "id": "9320b27c-1117-4212-b40a-9aa6382a32cb",
   "metadata": {},
   "outputs": [],
   "source": [
    "b = - (a) # Negation"
   ]
  },
  {
   "cell_type": "code",
   "execution_count": 47,
   "id": "839f1682-917e-4465-b3e8-c7676453e76a",
   "metadata": {},
   "outputs": [
    {
     "data": {
      "text/plain": [
       "-5"
      ]
     },
     "execution_count": 47,
     "metadata": {},
     "output_type": "execute_result"
    }
   ],
   "source": [
    "b"
   ]
  },
  {
   "cell_type": "code",
   "execution_count": 48,
   "id": "82ff604e-4bab-46a4-bd62-9c24a725a031",
   "metadata": {},
   "outputs": [
    {
     "data": {
      "text/plain": [
       "5"
      ]
     },
     "execution_count": 48,
     "metadata": {},
     "output_type": "execute_result"
    }
   ],
   "source": [
    "a"
   ]
  },
  {
   "cell_type": "code",
   "execution_count": 49,
   "id": "e15f81a9-c4f6-475d-8a0c-b301572694d6",
   "metadata": {},
   "outputs": [
    {
     "data": {
      "text/plain": [
       "-5"
      ]
     },
     "execution_count": 49,
     "metadata": {},
     "output_type": "execute_result"
    }
   ],
   "source": [
    "-a"
   ]
  },
  {
   "cell_type": "markdown",
   "id": "1c2e1dab-c11f-439f-a86c-d045daa762e0",
   "metadata": {},
   "source": [
    "# Relation Operators"
   ]
  },
  {
   "cell_type": "code",
   "execution_count": 59,
   "id": "52708ed9-d352-4369-b8aa-53d9a34828b4",
   "metadata": {},
   "outputs": [],
   "source": [
    "a,b = 10,5"
   ]
  },
  {
   "cell_type": "code",
   "execution_count": 60,
   "id": "ade4e2f5-5d04-4b09-a819-507f04e64bb3",
   "metadata": {},
   "outputs": [
    {
     "name": "stdout",
     "output_type": "stream",
     "text": [
      "10\n",
      "5\n"
     ]
    }
   ],
   "source": [
    "print(a)\n",
    "print(b)"
   ]
  },
  {
   "cell_type": "code",
   "execution_count": 61,
   "id": "037a474c-b563-40be-9b59-856f30aed938",
   "metadata": {},
   "outputs": [
    {
     "data": {
      "text/plain": [
       "False"
      ]
     },
     "execution_count": 61,
     "metadata": {},
     "output_type": "execute_result"
    }
   ],
   "source": [
    "a == b"
   ]
  },
  {
   "cell_type": "code",
   "execution_count": 62,
   "id": "7b72caf8-9ba0-42df-9964-2d7d12a16fd6",
   "metadata": {},
   "outputs": [
    {
     "data": {
      "text/plain": [
       "True"
      ]
     },
     "execution_count": 62,
     "metadata": {},
     "output_type": "execute_result"
    }
   ],
   "source": [
    "a > b"
   ]
  },
  {
   "cell_type": "code",
   "execution_count": 63,
   "id": "8c40f39e-cebc-46bf-9c31-32949cdf6d3e",
   "metadata": {},
   "outputs": [
    {
     "data": {
      "text/plain": [
       "False"
      ]
     },
     "execution_count": 63,
     "metadata": {},
     "output_type": "execute_result"
    }
   ],
   "source": [
    "a < b"
   ]
  },
  {
   "cell_type": "code",
   "execution_count": 64,
   "id": "7b2b8539-f02d-4d90-92a3-6f02ec8fe79e",
   "metadata": {},
   "outputs": [
    {
     "data": {
      "text/plain": [
       "True"
      ]
     },
     "execution_count": 64,
     "metadata": {},
     "output_type": "execute_result"
    }
   ],
   "source": [
    "a >= b"
   ]
  },
  {
   "cell_type": "code",
   "execution_count": 65,
   "id": "f66c9ed1-c354-4325-b29f-8684891e91a4",
   "metadata": {},
   "outputs": [
    {
     "data": {
      "text/plain": [
       "False"
      ]
     },
     "execution_count": 65,
     "metadata": {},
     "output_type": "execute_result"
    }
   ],
   "source": [
    "a <= b"
   ]
  },
  {
   "cell_type": "code",
   "execution_count": 66,
   "id": "5913c037-39a3-408b-9d0a-57f90a41a4cb",
   "metadata": {},
   "outputs": [
    {
     "data": {
      "text/plain": [
       "True"
      ]
     },
     "execution_count": 66,
     "metadata": {},
     "output_type": "execute_result"
    }
   ],
   "source": [
    "a != b"
   ]
  },
  {
   "cell_type": "markdown",
   "id": "d230bde8-d245-47ae-8fa2-1fe42eaaa240",
   "metadata": {},
   "source": [
    "# Logical Operators"
   ]
  },
  {
   "cell_type": "code",
   "execution_count": 67,
   "id": "91c9f513-9d00-49e2-87da-2d622e4db0cc",
   "metadata": {},
   "outputs": [],
   "source": [
    "a,b = 10,5"
   ]
  },
  {
   "cell_type": "code",
   "execution_count": 74,
   "id": "d29472cb-f363-48b3-9703-a6ca1b96f69f",
   "metadata": {},
   "outputs": [
    {
     "data": {
      "text/plain": [
       "True"
      ]
     },
     "execution_count": 74,
     "metadata": {},
     "output_type": "execute_result"
    }
   ],
   "source": [
    "a > b and b < a  # Both condition true it return True"
   ]
  },
  {
   "cell_type": "code",
   "execution_count": 75,
   "id": "ab8d27fb-dd88-4331-9ef4-93b898c4d76d",
   "metadata": {},
   "outputs": [
    {
     "data": {
      "text/plain": [
       "False"
      ]
     },
     "execution_count": 75,
     "metadata": {},
     "output_type": "execute_result"
    }
   ],
   "source": [
    "a == b and a < b"
   ]
  },
  {
   "cell_type": "code",
   "execution_count": 80,
   "id": "610c164e-eaf7-4024-b477-4631f471d173",
   "metadata": {},
   "outputs": [
    {
     "data": {
      "text/plain": [
       "True"
      ]
     },
     "execution_count": 80,
     "metadata": {},
     "output_type": "execute_result"
    }
   ],
   "source": [
    "b < a or b == a # one condition is true it return True"
   ]
  },
  {
   "cell_type": "code",
   "execution_count": 81,
   "id": "4607335b-a20a-4247-98de-0da87710b4f5",
   "metadata": {},
   "outputs": [
    {
     "data": {
      "text/plain": [
       "False"
      ]
     },
     "execution_count": 81,
     "metadata": {},
     "output_type": "execute_result"
    }
   ],
   "source": [
    "b > a or b == a"
   ]
  },
  {
   "cell_type": "code",
   "execution_count": 85,
   "id": "9549a65d-a1ca-42fa-9a35-c773600b9658",
   "metadata": {},
   "outputs": [],
   "source": [
    "a = True"
   ]
  },
  {
   "cell_type": "code",
   "execution_count": 86,
   "id": "f3fc30d9-7598-4820-9762-48551e651a3d",
   "metadata": {},
   "outputs": [
    {
     "data": {
      "text/plain": [
       "True"
      ]
     },
     "execution_count": 86,
     "metadata": {},
     "output_type": "execute_result"
    }
   ],
   "source": [
    "a"
   ]
  },
  {
   "cell_type": "code",
   "execution_count": 87,
   "id": "287c64af-a105-4314-8833-815c6335db09",
   "metadata": {},
   "outputs": [
    {
     "data": {
      "text/plain": [
       "False"
      ]
     },
     "execution_count": 87,
     "metadata": {},
     "output_type": "execute_result"
    }
   ],
   "source": [
    "not a # Reverses the Boolean value "
   ]
  },
  {
   "cell_type": "markdown",
   "id": "833b5e7f-4674-44e3-99bf-9c43f4ed9429",
   "metadata": {},
   "source": [
    "# Number Sys Conversion"
   ]
  },
  {
   "cell_type": "code",
   "execution_count": 88,
   "id": "9f87d4b1-4fce-41da-8e19-8ebb4a9b0a27",
   "metadata": {},
   "outputs": [
    {
     "data": {
      "text/plain": [
       "25"
      ]
     },
     "execution_count": 88,
     "metadata": {},
     "output_type": "execute_result"
    }
   ],
   "source": [
    "25"
   ]
  },
  {
   "cell_type": "code",
   "execution_count": 89,
   "id": "2acd5f75-26ee-4602-81d5-f7de04c59b05",
   "metadata": {},
   "outputs": [
    {
     "data": {
      "text/plain": [
       "'0b11001'"
      ]
     },
     "execution_count": 89,
     "metadata": {},
     "output_type": "execute_result"
    }
   ],
   "source": [
    "bin(25)"
   ]
  },
  {
   "cell_type": "code",
   "execution_count": 91,
   "id": "56eedacb-8015-43f1-bc88-6a1bee94b321",
   "metadata": {},
   "outputs": [
    {
     "data": {
      "text/plain": [
       "25"
      ]
     },
     "execution_count": 91,
     "metadata": {},
     "output_type": "execute_result"
    }
   ],
   "source": [
    "int(0b11001)"
   ]
  },
  {
   "cell_type": "code",
   "execution_count": 92,
   "id": "3203d203-6d3f-45d2-88ed-6ce9afbef657",
   "metadata": {},
   "outputs": [
    {
     "data": {
      "text/plain": [
       "'0o31'"
      ]
     },
     "execution_count": 92,
     "metadata": {},
     "output_type": "execute_result"
    }
   ],
   "source": [
    "oct(25)"
   ]
  },
  {
   "cell_type": "code",
   "execution_count": 93,
   "id": "f0be16ab-5dd2-452f-949b-2f6640c4c7de",
   "metadata": {},
   "outputs": [
    {
     "data": {
      "text/plain": [
       "25"
      ]
     },
     "execution_count": 93,
     "metadata": {},
     "output_type": "execute_result"
    }
   ],
   "source": [
    "int(0o31)"
   ]
  },
  {
   "cell_type": "code",
   "execution_count": 94,
   "id": "f34f8e39-7b24-4149-9445-1bb7997712d1",
   "metadata": {},
   "outputs": [
    {
     "data": {
      "text/plain": [
       "'0x19'"
      ]
     },
     "execution_count": 94,
     "metadata": {},
     "output_type": "execute_result"
    }
   ],
   "source": [
    "hex(25)"
   ]
  },
  {
   "cell_type": "code",
   "execution_count": 95,
   "id": "de1ad49f-744e-453f-8e2e-e3bbe8b58720",
   "metadata": {},
   "outputs": [
    {
     "data": {
      "text/plain": [
       "25"
      ]
     },
     "execution_count": 95,
     "metadata": {},
     "output_type": "execute_result"
    }
   ],
   "source": [
    "int(0x19)"
   ]
  },
  {
   "cell_type": "code",
   "execution_count": null,
   "id": "4298a404-8a7e-44c8-b5b3-bb0e23f40790",
   "metadata": {},
   "outputs": [],
   "source": []
  }
 ],
 "metadata": {
  "kernelspec": {
   "display_name": "Python [conda env:base] *",
   "language": "python",
   "name": "conda-base-py"
  },
  "language_info": {
   "codemirror_mode": {
    "name": "ipython",
    "version": 3
   },
   "file_extension": ".py",
   "mimetype": "text/x-python",
   "name": "python",
   "nbconvert_exporter": "python",
   "pygments_lexer": "ipython3",
   "version": "3.12.7"
  }
 },
 "nbformat": 4,
 "nbformat_minor": 5
}
