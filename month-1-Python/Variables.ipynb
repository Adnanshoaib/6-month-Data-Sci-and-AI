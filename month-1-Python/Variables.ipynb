{
 "cells": [
  {
   "cell_type": "code",
   "execution_count": 1,
   "id": "081abe2e-adf2-41ac-acf1-f8d314912899",
   "metadata": {},
   "outputs": [],
   "source": [
    "# Variables :-"
   ]
  },
  {
   "cell_type": "code",
   "execution_count": 12,
   "id": "a79ea0f9-0c98-4c24-b084-c3daaf805681",
   "metadata": {},
   "outputs": [
    {
     "data": {
      "text/plain": [
       "'adnan'"
      ]
     },
     "execution_count": 12,
     "metadata": {},
     "output_type": "execute_result"
    }
   ],
   "source": [
    "name = \"adnan\"   \n",
    "name"
   ]
  },
  {
   "cell_type": "code",
   "execution_count": 13,
   "id": "a48bdf9d-a28d-4f49-978f-58fa7fe4158e",
   "metadata": {},
   "outputs": [
    {
     "data": {
      "text/plain": [
       "20"
      ]
     },
     "execution_count": 13,
     "metadata": {},
     "output_type": "execute_result"
    }
   ],
   "source": [
    "age = 20  \n",
    "age"
   ]
  },
  {
   "cell_type": "code",
   "execution_count": 14,
   "id": "edb718ae-330d-404f-b1cf-1abea4655eb9",
   "metadata": {},
   "outputs": [
    {
     "data": {
      "text/plain": [
       "5.8"
      ]
     },
     "execution_count": 14,
     "metadata": {},
     "output_type": "execute_result"
    }
   ],
   "source": [
    "height = 5.8  \n",
    "height"
   ]
  },
  {
   "cell_type": "code",
   "execution_count": 15,
   "id": "587a37b4-85f0-447d-8134-ec1090abcc80",
   "metadata": {},
   "outputs": [
    {
     "data": {
      "text/plain": [
       "True"
      ]
     },
     "execution_count": 15,
     "metadata": {},
     "output_type": "execute_result"
    }
   ],
   "source": [
    "a = True  \n",
    "a"
   ]
  },
  {
   "cell_type": "code",
   "execution_count": 16,
   "id": "f2d55c79-f051-4100-bffd-6961648100ee",
   "metadata": {},
   "outputs": [],
   "source": [
    "# Most imp think to know about variables in python :-"
   ]
  },
  {
   "cell_type": "code",
   "execution_count": 19,
   "id": "d6399f16-f53f-4f75-8e67-69e8f7c9691b",
   "metadata": {},
   "outputs": [
    {
     "data": {
      "text/plain": [
       "20"
      ]
     },
     "execution_count": 19,
     "metadata": {},
     "output_type": "execute_result"
    }
   ],
   "source": [
    "x = 20  # we don't need to declare the type of data\n",
    "x       # python auto detect them"
   ]
  },
  {
   "cell_type": "code",
   "execution_count": 20,
   "id": "c324ea28-a12a-4297-97f1-601d34c39616",
   "metadata": {},
   "outputs": [],
   "source": [
    "# Case Sensitive :-"
   ]
  },
  {
   "cell_type": "code",
   "execution_count": 32,
   "id": "ab7562e1-280f-4d4c-b9b4-4fae5032bfd9",
   "metadata": {},
   "outputs": [
    {
     "data": {
      "text/plain": [
       "'adnan'"
      ]
     },
     "execution_count": 32,
     "metadata": {},
     "output_type": "execute_result"
    }
   ],
   "source": [
    "Name = \"adnan\"\n",
    "name = \"adnan\"\n",
    "name "
   ]
  },
  {
   "cell_type": "code",
   "execution_count": 33,
   "id": "ed4a3383-e41d-4d8e-9252-ff276e1a523c",
   "metadata": {},
   "outputs": [
    {
     "data": {
      "text/plain": [
       "'adnan'"
      ]
     },
     "execution_count": 33,
     "metadata": {},
     "output_type": "execute_result"
    }
   ],
   "source": [
    "Name"
   ]
  },
  {
   "cell_type": "code",
   "execution_count": null,
   "id": "cc389e0c-82ac-4984-9069-121b5f47c409",
   "metadata": {},
   "outputs": [],
   "source": [
    "# id() :- used to check the variable address"
   ]
  },
  {
   "cell_type": "code",
   "execution_count": 34,
   "id": "5ee4cdc7-adee-4b3c-847b-c409685e1200",
   "metadata": {},
   "outputs": [
    {
     "data": {
      "text/plain": [
       "2210159682944"
      ]
     },
     "execution_count": 34,
     "metadata": {},
     "output_type": "execute_result"
    }
   ],
   "source": [
    "id(Name)"
   ]
  },
  {
   "cell_type": "code",
   "execution_count": 35,
   "id": "7879a9a5-1c04-46f3-8216-88b5ee2f3ba5",
   "metadata": {},
   "outputs": [
    {
     "data": {
      "text/plain": [
       "2210159682944"
      ]
     },
     "execution_count": 35,
     "metadata": {},
     "output_type": "execute_result"
    }
   ],
   "source": [
    "id(name)"
   ]
  },
  {
   "cell_type": "code",
   "execution_count": null,
   "id": "d23920e9-8ebe-43ad-8e3b-d9027d656cc4",
   "metadata": {},
   "outputs": [],
   "source": [
    "# type() :- used to check the datatype of variable"
   ]
  },
  {
   "cell_type": "code",
   "execution_count": 36,
   "id": "0cc16c98-33da-4d72-a126-8220d4931e9d",
   "metadata": {},
   "outputs": [
    {
     "data": {
      "text/plain": [
       "str"
      ]
     },
     "execution_count": 36,
     "metadata": {},
     "output_type": "execute_result"
    }
   ],
   "source": [
    "type(Name)"
   ]
  },
  {
   "cell_type": "code",
   "execution_count": 37,
   "id": "dcb82636-f2c4-420b-9d49-3bef3cfef27f",
   "metadata": {},
   "outputs": [
    {
     "data": {
      "text/plain": [
       "str"
      ]
     },
     "execution_count": 37,
     "metadata": {},
     "output_type": "execute_result"
    }
   ],
   "source": [
    "type(name)"
   ]
  },
  {
   "cell_type": "code",
   "execution_count": null,
   "id": "4cb6b489-a247-4081-8269-8cc51350f111",
   "metadata": {},
   "outputs": [],
   "source": []
  }
 ],
 "metadata": {
  "kernelspec": {
   "display_name": "Python [conda env:base] *",
   "language": "python",
   "name": "conda-base-py"
  },
  "language_info": {
   "codemirror_mode": {
    "name": "ipython",
    "version": 3
   },
   "file_extension": ".py",
   "mimetype": "text/x-python",
   "name": "python",
   "nbconvert_exporter": "python",
   "pygments_lexer": "ipython3",
   "version": "3.12.7"
  }
 },
 "nbformat": 4,
 "nbformat_minor": 5
}
