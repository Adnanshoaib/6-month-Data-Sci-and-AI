{
 "cells": [
  {
   "cell_type": "raw",
   "id": "c966a00a-60ca-487a-9fe7-3f9646eb71e7",
   "metadata": {},
   "source": [
    "# Manipulating String"
   ]
  },
  {
   "cell_type": "code",
   "execution_count": 24,
   "id": "be40ebbc-781a-4017-8c51-dedf68bbd92a",
   "metadata": {},
   "outputs": [
    {
     "name": "stdout",
     "output_type": "stream",
     "text": [
      "Hello there!\n",
      "How are you?\n",
      "I'm doing fine.\n"
     ]
    }
   ],
   "source": [
    "print(\"Hello there!\\nHow are you?\\nI\\'m doing fine.\") # \\n for new line.."
   ]
  },
  {
   "cell_type": "code",
   "execution_count": 25,
   "id": "66fd433e-a5c6-479d-b97d-ff69eecd32db",
   "metadata": {},
   "outputs": [
    {
     "name": "stdout",
     "output_type": "stream",
     "text": [
      "it's  ok\n"
     ]
    }
   ],
   "source": [
    "print(\"it\\'s  ok\")"
   ]
  },
  {
   "cell_type": "code",
   "execution_count": 26,
   "id": "d13185f8-66f1-4082-8a9c-18d4d67fa816",
   "metadata": {},
   "outputs": [
    {
     "name": "stdout",
     "output_type": "stream",
     "text": [
      "it\"s  ok\n"
     ]
    }
   ],
   "source": [
    "print('it\\\"s  ok')"
   ]
  },
  {
   "cell_type": "code",
   "execution_count": 27,
   "id": "09b1283a-b3fa-424e-b771-dd6eaa5ffabf",
   "metadata": {},
   "outputs": [
    {
     "name": "stdout",
     "output_type": "stream",
     "text": [
      "adna\n"
     ]
    }
   ],
   "source": [
    "print(\"adnan\\b\") # \\b for backspace"
   ]
  },
  {
   "cell_type": "code",
   "execution_count": 28,
   "id": "795cffb6-8abb-466b-a0dd-41c5148f024f",
   "metadata": {},
   "outputs": [
    {
     "name": "stdout",
     "output_type": "stream",
     "text": [
      "adnan\tshoaib\n"
     ]
    }
   ],
   "source": [
    "print(\"adnan\\tshoaib\") # \\t for space btw two words"
   ]
  },
  {
   "cell_type": "code",
   "execution_count": 29,
   "id": "5bb8b44a-ed2b-46fc-be1f-516e1c20f3e1",
   "metadata": {},
   "outputs": [
    {
     "name": "stdout",
     "output_type": "stream",
     "text": [
      " shoaib\n"
     ]
    }
   ],
   "source": [
    "print(\" adnan\\r shoaib\")"
   ]
  },
  {
   "cell_type": "code",
   "execution_count": 30,
   "id": "142e8bf1-ccd7-48f3-9b60-b35281ca0ba9",
   "metadata": {},
   "outputs": [
    {
     "name": "stdout",
     "output_type": "stream",
     "text": [
      "Hello there!\\nHow are you?\\nI\\'m doing fine.\n"
     ]
    }
   ],
   "source": [
    "print(r\"Hello there!\\nHow are you?\\nI\\'m doing fine.\") # r for row string"
   ]
  },
  {
   "cell_type": "raw",
   "id": "c6b8507a-6b92-441d-b089-bb50ea7c7d63",
   "metadata": {},
   "source": [
    "# Multiline String"
   ]
  },
  {
   "cell_type": "code",
   "execution_count": 31,
   "id": "4e0e96c5-154e-4fb2-a6ce-fd6d0c93eafb",
   "metadata": {},
   "outputs": [
    {
     "name": "stdout",
     "output_type": "stream",
     "text": [
      "hii\n",
      "My Name is adnan,\n",
      "I am graduated,\n",
      "I am pursuing data sci.\n",
      "\n"
     ]
    }
   ],
   "source": [
    "print('''hii\n",
    "My Name is adnan,\n",
    "I am graduated,\n",
    "I am pursuing data sci.\n",
    "''')"
   ]
  },
  {
   "cell_type": "raw",
   "id": "ac07a104-8bd4-457e-bbc9-eeeb06c34e48",
   "metadata": {},
   "source": [
    "# Indexing"
   ]
  },
  {
   "cell_type": "code",
   "execution_count": 60,
   "id": "e2285504-09d1-4410-b9ed-dc7c70dcbba3",
   "metadata": {},
   "outputs": [],
   "source": [
    "a = (\"adnan shoaib\")"
   ]
  },
  {
   "cell_type": "code",
   "execution_count": 61,
   "id": "89774d1d-3870-4a89-be2a-0b8e8840935f",
   "metadata": {},
   "outputs": [
    {
     "data": {
      "text/plain": [
       "'adnan shoaib'"
      ]
     },
     "execution_count": 61,
     "metadata": {},
     "output_type": "execute_result"
    }
   ],
   "source": [
    "a"
   ]
  },
  {
   "cell_type": "code",
   "execution_count": 62,
   "id": "b007f48b-ffaf-460a-b805-d0b6cd09015f",
   "metadata": {},
   "outputs": [
    {
     "data": {
      "text/plain": [
       "'a'"
      ]
     },
     "execution_count": 62,
     "metadata": {},
     "output_type": "execute_result"
    }
   ],
   "source": [
    "a[0]"
   ]
  },
  {
   "cell_type": "code",
   "execution_count": 63,
   "id": "e8a86706-e4d7-41d5-98d8-32f55cbc3b1f",
   "metadata": {},
   "outputs": [
    {
     "data": {
      "text/plain": [
       "'n'"
      ]
     },
     "execution_count": 63,
     "metadata": {},
     "output_type": "execute_result"
    }
   ],
   "source": [
    "a[4]"
   ]
  },
  {
   "cell_type": "code",
   "execution_count": 64,
   "id": "d09c158b-1dac-42c2-8200-41f5a1e0e902",
   "metadata": {},
   "outputs": [
    {
     "data": {
      "text/plain": [
       "'b'"
      ]
     },
     "execution_count": 64,
     "metadata": {},
     "output_type": "execute_result"
    }
   ],
   "source": [
    "a[-1]"
   ]
  },
  {
   "cell_type": "code",
   "execution_count": 65,
   "id": "0b13f5dd-37df-44c6-a198-1684cf928b44",
   "metadata": {},
   "outputs": [
    {
     "data": {
      "text/plain": [
       "'a'"
      ]
     },
     "execution_count": 65,
     "metadata": {},
     "output_type": "execute_result"
    }
   ],
   "source": [
    "a[-3]"
   ]
  },
  {
   "cell_type": "raw",
   "id": "eb135faf-8674-48fa-8e26-fcfd881b7b03",
   "metadata": {},
   "source": [
    "# Slicing"
   ]
  },
  {
   "cell_type": "code",
   "execution_count": 66,
   "id": "56420dbb-4e55-4f8e-80bf-dcf3f2d0210c",
   "metadata": {},
   "outputs": [
    {
     "data": {
      "text/plain": [
       "'adnan '"
      ]
     },
     "execution_count": 66,
     "metadata": {},
     "output_type": "execute_result"
    }
   ],
   "source": [
    "a[0:6]"
   ]
  },
  {
   "cell_type": "code",
   "execution_count": 67,
   "id": "b750dc4f-5b2a-46fa-b449-c241ec10c0a5",
   "metadata": {},
   "outputs": [
    {
     "data": {
      "text/plain": [
       "'adnan'"
      ]
     },
     "execution_count": 67,
     "metadata": {},
     "output_type": "execute_result"
    }
   ],
   "source": [
    "a[0:5]"
   ]
  },
  {
   "cell_type": "code",
   "execution_count": 68,
   "id": "b267e282-79c7-48bb-adef-d0cfc9b36d33",
   "metadata": {},
   "outputs": [
    {
     "data": {
      "text/plain": [
       "'shoaib'"
      ]
     },
     "execution_count": 68,
     "metadata": {},
     "output_type": "execute_result"
    }
   ],
   "source": [
    "a[6:]"
   ]
  },
  {
   "cell_type": "code",
   "execution_count": 69,
   "id": "663d88f8-d2dc-41d7-ae2b-433905d17350",
   "metadata": {},
   "outputs": [
    {
     "data": {
      "text/plain": [
       "'biaohs nanda'"
      ]
     },
     "execution_count": 69,
     "metadata": {},
     "output_type": "execute_result"
    }
   ],
   "source": [
    "a[::-1] # reverse the str"
   ]
  },
  {
   "cell_type": "code",
   "execution_count": 70,
   "id": "339f601d-316e-4508-9ec0-5cd00c6df4b3",
   "metadata": {},
   "outputs": [
    {
     "data": {
      "text/plain": [
       "'adnan shoaib'"
      ]
     },
     "execution_count": 70,
     "metadata": {},
     "output_type": "execute_result"
    }
   ],
   "source": [
    "a"
   ]
  },
  {
   "cell_type": "code",
   "execution_count": 71,
   "id": "66b17d95-683f-4c9e-b80a-691b517eed8c",
   "metadata": {},
   "outputs": [],
   "source": [
    "b = (\"fine\")"
   ]
  },
  {
   "cell_type": "code",
   "execution_count": 72,
   "id": "aede7a5b-d98e-4bf0-b172-645269cefdf8",
   "metadata": {},
   "outputs": [
    {
     "data": {
      "text/plain": [
       "'fine'"
      ]
     },
     "execution_count": 72,
     "metadata": {},
     "output_type": "execute_result"
    }
   ],
   "source": [
    "b"
   ]
  },
  {
   "cell_type": "code",
   "execution_count": 73,
   "id": "d6110e66-4868-4198-b297-dfd25161e09e",
   "metadata": {},
   "outputs": [
    {
     "ename": "TypeError",
     "evalue": "'str' object does not support item assignment",
     "output_type": "error",
     "traceback": [
      "\u001b[1;31m---------------------------------------------------------------------------\u001b[0m",
      "\u001b[1;31mTypeError\u001b[0m                                 Traceback (most recent call last)",
      "Cell \u001b[1;32mIn[73], line 1\u001b[0m\n\u001b[1;32m----> 1\u001b[0m b[\u001b[38;5;241m0\u001b[39m] \u001b[38;5;241m=\u001b[39m \u001b[38;5;124m\"\u001b[39m\u001b[38;5;124md\u001b[39m\u001b[38;5;124m\"\u001b[39m\n",
      "\u001b[1;31mTypeError\u001b[0m: 'str' object does not support item assignment"
     ]
    }
   ],
   "source": [
    "b[0] = \"d\""
   ]
  },
  {
   "cell_type": "code",
   "execution_count": 74,
   "id": "9baf2bda-fc80-44fe-9d13-6a13ef69e9a1",
   "metadata": {},
   "outputs": [
    {
     "data": {
      "text/plain": [
       "'ine'"
      ]
     },
     "execution_count": 74,
     "metadata": {},
     "output_type": "execute_result"
    }
   ],
   "source": [
    "b[1:]"
   ]
  },
  {
   "cell_type": "code",
   "execution_count": 75,
   "id": "2dddcd72-561d-4225-ad7f-e2231146da7d",
   "metadata": {},
   "outputs": [
    {
     "data": {
      "text/plain": [
       "'dine'"
      ]
     },
     "execution_count": 75,
     "metadata": {},
     "output_type": "execute_result"
    }
   ],
   "source": [
    "\"d\" + b[1:]  # change fien into dine"
   ]
  },
  {
   "cell_type": "raw",
   "id": "1258f832-e0a5-42d1-b761-95067c07207b",
   "metadata": {},
   "source": [
    " # in or not in"
   ]
  },
  {
   "cell_type": "code",
   "execution_count": 76,
   "id": "2bd6b510-f822-4bb7-bf30-4798141143e0",
   "metadata": {},
   "outputs": [
    {
     "data": {
      "text/plain": [
       "True"
      ]
     },
     "execution_count": 76,
     "metadata": {},
     "output_type": "execute_result"
    }
   ],
   "source": [
    "'Hello' in 'Hello World'"
   ]
  },
  {
   "cell_type": "code",
   "execution_count": 77,
   "id": "fb1aff11-dcb5-46fc-93c5-43334620775c",
   "metadata": {},
   "outputs": [
    {
     "data": {
      "text/plain": [
       "False"
      ]
     },
     "execution_count": 77,
     "metadata": {},
     "output_type": "execute_result"
    }
   ],
   "source": [
    "'HELLO' in 'Hello World'"
   ]
  },
  {
   "cell_type": "code",
   "execution_count": 78,
   "id": "8c84fa49-482e-4d07-b220-bfec799b11f9",
   "metadata": {},
   "outputs": [
    {
     "data": {
      "text/plain": [
       "True"
      ]
     },
     "execution_count": 78,
     "metadata": {},
     "output_type": "execute_result"
    }
   ],
   "source": [
    "\"hello\" not in \"hii world\""
   ]
  },
  {
   "cell_type": "code",
   "execution_count": 79,
   "id": "20849b16-dd26-4752-86bd-1fa6fec38b68",
   "metadata": {},
   "outputs": [
    {
     "data": {
      "text/plain": [
       "'adnan shoaib'"
      ]
     },
     "execution_count": 79,
     "metadata": {},
     "output_type": "execute_result"
    }
   ],
   "source": [
    "a"
   ]
  },
  {
   "cell_type": "code",
   "execution_count": 80,
   "id": "91d883b6-3d81-4a32-a1f3-ecca3063f9f0",
   "metadata": {},
   "outputs": [
    {
     "data": {
      "text/plain": [
       "'ADNAN SHOAIB'"
      ]
     },
     "execution_count": 80,
     "metadata": {},
     "output_type": "execute_result"
    }
   ],
   "source": [
    "a.upper() "
   ]
  },
  {
   "cell_type": "code",
   "execution_count": 81,
   "id": "b9fbdc4e-464f-4a86-9e08-23d0e13c64b8",
   "metadata": {},
   "outputs": [
    {
     "data": {
      "text/plain": [
       "'adnan shoaib'"
      ]
     },
     "execution_count": 81,
     "metadata": {},
     "output_type": "execute_result"
    }
   ],
   "source": [
    "a.lower()"
   ]
  },
  {
   "cell_type": "code",
   "execution_count": 83,
   "id": "6759e5ed-ede3-4fb9-a02e-56cf0bfd2706",
   "metadata": {},
   "outputs": [
    {
     "data": {
      "text/plain": [
       "False"
      ]
     },
     "execution_count": 83,
     "metadata": {},
     "output_type": "execute_result"
    }
   ],
   "source": [
    "a.isupper() "
   ]
  },
  {
   "cell_type": "code",
   "execution_count": 84,
   "id": "3d79201a-c479-4860-a18a-dda5f1a774fa",
   "metadata": {},
   "outputs": [
    {
     "data": {
      "text/plain": [
       "True"
      ]
     },
     "execution_count": 84,
     "metadata": {},
     "output_type": "execute_result"
    }
   ],
   "source": [
    "a.islower()"
   ]
  },
  {
   "cell_type": "code",
   "execution_count": 87,
   "id": "35d582bf-2720-4e5d-80de-660ce02a3389",
   "metadata": {},
   "outputs": [],
   "source": [
    "b =\"123abc\""
   ]
  },
  {
   "cell_type": "code",
   "execution_count": 88,
   "id": "f3c1f8e3-e772-474d-a9c5-e6ceb07854df",
   "metadata": {},
   "outputs": [
    {
     "data": {
      "text/plain": [
       "'123abc'"
      ]
     },
     "execution_count": 88,
     "metadata": {},
     "output_type": "execute_result"
    }
   ],
   "source": [
    "b"
   ]
  },
  {
   "cell_type": "code",
   "execution_count": 89,
   "id": "e266b0d0-a1e1-431d-951d-4099068b223e",
   "metadata": {},
   "outputs": [
    {
     "data": {
      "text/plain": [
       "False"
      ]
     },
     "execution_count": 89,
     "metadata": {},
     "output_type": "execute_result"
    }
   ],
   "source": [
    "b.isalpha() # returns `True` if the string consists only of letters."
   ]
  },
  {
   "cell_type": "code",
   "execution_count": 92,
   "id": "b0075974-fd78-4060-819c-5ddead57d122",
   "metadata": {},
   "outputs": [],
   "source": [
    "b = \"123\""
   ]
  },
  {
   "cell_type": "code",
   "execution_count": 93,
   "id": "63407607-942e-47f9-8127-861e531b8084",
   "metadata": {},
   "outputs": [
    {
     "data": {
      "text/plain": [
       "True"
      ]
     },
     "execution_count": 93,
     "metadata": {},
     "output_type": "execute_result"
    }
   ],
   "source": [
    "b.isnumeric()"
   ]
  },
  {
   "cell_type": "code",
   "execution_count": 94,
   "id": "cfad5284-09bf-4e5e-8115-269c818d212b",
   "metadata": {},
   "outputs": [
    {
     "data": {
      "text/plain": [
       "'adnan shoaib'"
      ]
     },
     "execution_count": 94,
     "metadata": {},
     "output_type": "execute_result"
    }
   ],
   "source": [
    "a"
   ]
  },
  {
   "cell_type": "code",
   "execution_count": 104,
   "id": "64dbab00-edc0-495e-9cc9-3e0a522c20a9",
   "metadata": {},
   "outputs": [
    {
     "data": {
      "text/plain": [
       "True"
      ]
     },
     "execution_count": 104,
     "metadata": {},
     "output_type": "execute_result"
    }
   ],
   "source": [
    "a.startswith('a')"
   ]
  },
  {
   "cell_type": "code",
   "execution_count": 105,
   "id": "82f42ba0-ce16-42ff-a2c0-a852f32a5b52",
   "metadata": {},
   "outputs": [
    {
     "ename": "NameError",
     "evalue": "name 'r' is not defined",
     "output_type": "error",
     "traceback": [
      "\u001b[1;31m---------------------------------------------------------------------------\u001b[0m",
      "\u001b[1;31mNameError\u001b[0m                                 Traceback (most recent call last)",
      "Cell \u001b[1;32mIn[105], line 1\u001b[0m\n\u001b[1;32m----> 1\u001b[0m a\u001b[38;5;241m.\u001b[39mstartswith(r)\n",
      "\u001b[1;31mNameError\u001b[0m: name 'r' is not defined"
     ]
    }
   ],
   "source": [
    "a.startswith(r)"
   ]
  },
  {
   "cell_type": "code",
   "execution_count": 106,
   "id": "b6f20ef9-bf3e-4fbf-aa8d-89ad2a4464f3",
   "metadata": {},
   "outputs": [
    {
     "data": {
      "text/plain": [
       "'adnan shoaib'"
      ]
     },
     "execution_count": 106,
     "metadata": {},
     "output_type": "execute_result"
    }
   ],
   "source": [
    "a"
   ]
  },
  {
   "cell_type": "code",
   "execution_count": 107,
   "id": "175e7c33-93a1-43ce-94bd-8d3e134a8383",
   "metadata": {},
   "outputs": [
    {
     "data": {
      "text/plain": [
       "True"
      ]
     },
     "execution_count": 107,
     "metadata": {},
     "output_type": "execute_result"
    }
   ],
   "source": [
    "a.endswith('b')"
   ]
  },
  {
   "cell_type": "code",
   "execution_count": 115,
   "id": "70440971-6e4a-4e00-8213-0bc67905caab",
   "metadata": {},
   "outputs": [
    {
     "data": {
      "text/plain": [
       "['My', ' name', ' is', ' adnan']"
      ]
     },
     "execution_count": 115,
     "metadata": {},
     "output_type": "execute_result"
    }
   ],
   "source": [
    "list = (['My', ' name', ' is', ' adnan'])\n",
    "list"
   ]
  },
  {
   "cell_type": "code",
   "execution_count": 116,
   "id": "dcf8bd8c-dab5-424c-84dd-2c11f6452751",
   "metadata": {},
   "outputs": [
    {
     "data": {
      "text/plain": [
       "'My name is adnan'"
      ]
     },
     "execution_count": 116,
     "metadata": {},
     "output_type": "execute_result"
    }
   ],
   "source": [
    "''.join(list)"
   ]
  },
  {
   "cell_type": "code",
   "execution_count": 117,
   "id": "5098c68b-f83f-4a60-9641-ca56cb732651",
   "metadata": {},
   "outputs": [
    {
     "data": {
      "text/plain": [
       "'adnan shoaib'"
      ]
     },
     "execution_count": 117,
     "metadata": {},
     "output_type": "execute_result"
    }
   ],
   "source": [
    "a\n"
   ]
  },
  {
   "cell_type": "code",
   "execution_count": 118,
   "id": "0fc01d6e-ef3e-4ef4-8e2a-aa239b4c657f",
   "metadata": {},
   "outputs": [
    {
     "data": {
      "text/plain": [
       "['adnan', 'shoaib']"
      ]
     },
     "execution_count": 118,
     "metadata": {},
     "output_type": "execute_result"
    }
   ],
   "source": [
    "a.split()"
   ]
  },
  {
   "cell_type": "raw",
   "id": "a20d9434-d150-4e9f-90e4-72ca36084135",
   "metadata": {},
   "source": [
    "# Justifying "
   ]
  },
  {
   "cell_type": "code",
   "execution_count": 119,
   "id": "84539c2e-32ff-4012-bb1b-4f1a58247fbd",
   "metadata": {},
   "outputs": [],
   "source": [
    "x = \"ayaan\""
   ]
  },
  {
   "cell_type": "code",
   "execution_count": 120,
   "id": "e4dd05f4-75ff-4a88-a317-8e3b55ce7cc8",
   "metadata": {},
   "outputs": [
    {
     "data": {
      "text/plain": [
       "'ayaan'"
      ]
     },
     "execution_count": 120,
     "metadata": {},
     "output_type": "execute_result"
    }
   ],
   "source": [
    "x"
   ]
  },
  {
   "cell_type": "code",
   "execution_count": 124,
   "id": "4adeb7f0-8898-435f-9b2b-3340a540c5c5",
   "metadata": {},
   "outputs": [
    {
     "data": {
      "text/plain": [
       "'     ayaan'"
      ]
     },
     "execution_count": 124,
     "metadata": {},
     "output_type": "execute_result"
    }
   ],
   "source": [
    "x.rjust(10)"
   ]
  },
  {
   "cell_type": "code",
   "execution_count": 125,
   "id": "a3e4bf00-1b32-4160-9e44-962cf1c8b6bb",
   "metadata": {},
   "outputs": [
    {
     "data": {
      "text/plain": [
       "'ayaan     '"
      ]
     },
     "execution_count": 125,
     "metadata": {},
     "output_type": "execute_result"
    }
   ],
   "source": [
    "x.ljust(10)"
   ]
  },
  {
   "cell_type": "code",
   "execution_count": 127,
   "id": "931231ba-58c6-4c5d-b6f0-9fad0165f95c",
   "metadata": {},
   "outputs": [
    {
     "data": {
      "text/plain": [
       "'  ayaan   '"
      ]
     },
     "execution_count": 127,
     "metadata": {},
     "output_type": "execute_result"
    }
   ],
   "source": [
    "x.center(10)"
   ]
  },
  {
   "cell_type": "code",
   "execution_count": 136,
   "id": "46996d55-d018-446a-b779-fb545e3ab473",
   "metadata": {},
   "outputs": [
    {
     "data": {
      "text/plain": [
       "'===============ayaan'"
      ]
     },
     "execution_count": 136,
     "metadata": {},
     "output_type": "execute_result"
    }
   ],
   "source": [
    "x.rjust(20,'=')"
   ]
  },
  {
   "cell_type": "code",
   "execution_count": 134,
   "id": "f86953a3-14ec-410f-9afe-5ccd1bff9349",
   "metadata": {},
   "outputs": [
    {
     "data": {
      "text/plain": [
       "'ayaan***************'"
      ]
     },
     "execution_count": 134,
     "metadata": {},
     "output_type": "execute_result"
    }
   ],
   "source": [
    "x.ljust(20,'*')"
   ]
  },
  {
   "cell_type": "code",
   "execution_count": 133,
   "id": "46166850-7411-47d3-9410-d73cb21531c3",
   "metadata": {},
   "outputs": [
    {
     "data": {
      "text/plain": [
       "'=======ayaan========'"
      ]
     },
     "execution_count": 133,
     "metadata": {},
     "output_type": "execute_result"
    }
   ],
   "source": [
    "x.center(20,'=')"
   ]
  },
  {
   "cell_type": "code",
   "execution_count": 137,
   "id": "0f395b67-fafb-4e8a-b128-fcf1c2dba541",
   "metadata": {},
   "outputs": [],
   "source": [
    "y = \"     adnan    \""
   ]
  },
  {
   "cell_type": "code",
   "execution_count": 138,
   "id": "c6cb41f8-e2b2-468a-9015-b96fa6740370",
   "metadata": {},
   "outputs": [
    {
     "data": {
      "text/plain": [
       "'     adnan    '"
      ]
     },
     "execution_count": 138,
     "metadata": {},
     "output_type": "execute_result"
    }
   ],
   "source": [
    "y"
   ]
  },
  {
   "cell_type": "code",
   "execution_count": 139,
   "id": "964c23fb-1ccd-4af3-9f73-7af72f0538f6",
   "metadata": {},
   "outputs": [
    {
     "data": {
      "text/plain": [
       "'     adnan'"
      ]
     },
     "execution_count": 139,
     "metadata": {},
     "output_type": "execute_result"
    }
   ],
   "source": [
    "y.rstrip()"
   ]
  },
  {
   "cell_type": "code",
   "execution_count": 140,
   "id": "eeee0e83-a21e-49be-b092-9752d0144185",
   "metadata": {},
   "outputs": [
    {
     "data": {
      "text/plain": [
       "'adnan    '"
      ]
     },
     "execution_count": 140,
     "metadata": {},
     "output_type": "execute_result"
    }
   ],
   "source": [
    "y.lstrip()"
   ]
  },
  {
   "cell_type": "code",
   "execution_count": 141,
   "id": "0ba6f1ee-71a8-42df-ba7d-a07df0172bf3",
   "metadata": {},
   "outputs": [
    {
     "data": {
      "text/plain": [
       "'adnan'"
      ]
     },
     "execution_count": 141,
     "metadata": {},
     "output_type": "execute_result"
    }
   ],
   "source": [
    "y.strip()"
   ]
  },
  {
   "cell_type": "code",
   "execution_count": 142,
   "id": "cf240cdd-87ac-4c91-ba1b-91d49d985ae4",
   "metadata": {},
   "outputs": [],
   "source": [
    "z = \"I am learning Data Science\""
   ]
  },
  {
   "cell_type": "code",
   "execution_count": 143,
   "id": "e6100f57-32fd-4e5c-b7d8-3fd18ce31659",
   "metadata": {},
   "outputs": [
    {
     "data": {
      "text/plain": [
       "'I am learning Data Science'"
      ]
     },
     "execution_count": 143,
     "metadata": {},
     "output_type": "execute_result"
    }
   ],
   "source": [
    "z"
   ]
  },
  {
   "cell_type": "code",
   "execution_count": 145,
   "id": "2abefb9d-c348-4dfd-a2d8-ac35b6b3832a",
   "metadata": {},
   "outputs": [
    {
     "data": {
      "text/plain": [
       "4"
      ]
     },
     "execution_count": 145,
     "metadata": {},
     "output_type": "execute_result"
    }
   ],
   "source": [
    "z.count('a')"
   ]
  },
  {
   "cell_type": "code",
   "execution_count": 146,
   "id": "9f0e73c8-dfda-4406-9837-4dee6de51718",
   "metadata": {},
   "outputs": [
    {
     "data": {
      "text/plain": [
       "26"
      ]
     },
     "execution_count": 146,
     "metadata": {},
     "output_type": "execute_result"
    }
   ],
   "source": [
    "len(z)"
   ]
  },
  {
   "cell_type": "code",
   "execution_count": 147,
   "id": "f2657249-27a2-401a-aaaf-5baa3c3d15a9",
   "metadata": {},
   "outputs": [
    {
     "data": {
      "text/plain": [
       "'I am learning Data Science'"
      ]
     },
     "execution_count": 147,
     "metadata": {},
     "output_type": "execute_result"
    }
   ],
   "source": [
    "z"
   ]
  },
  {
   "cell_type": "code",
   "execution_count": 149,
   "id": "c2ff300f-c07e-493a-b6fa-d7c053e268da",
   "metadata": {},
   "outputs": [
    {
     "data": {
      "text/plain": [
       "'we are learning Data Science'"
      ]
     },
     "execution_count": 149,
     "metadata": {},
     "output_type": "execute_result"
    }
   ],
   "source": [
    "z.replace('I am','we are')"
   ]
  },
  {
   "cell_type": "code",
   "execution_count": 151,
   "id": "fee4305e-c81a-442d-9257-acb6f181196b",
   "metadata": {},
   "outputs": [
    {
     "data": {
      "text/plain": [
       "'     adnan    '"
      ]
     },
     "execution_count": 151,
     "metadata": {},
     "output_type": "execute_result"
    }
   ],
   "source": [
    "y.capitalize()"
   ]
  },
  {
   "cell_type": "code",
   "execution_count": 152,
   "id": "48a4300e-3d00-4a2f-9ab0-79e5621eff93",
   "metadata": {},
   "outputs": [
    {
     "data": {
      "text/plain": [
       "'     ADNAN    '"
      ]
     },
     "execution_count": 152,
     "metadata": {},
     "output_type": "execute_result"
    }
   ],
   "source": [
    "y.swapcase()"
   ]
  },
  {
   "cell_type": "code",
   "execution_count": 153,
   "id": "79b9f1d5-a993-4c26-8779-5db1ef59418e",
   "metadata": {},
   "outputs": [],
   "source": [
    "# Concatitation"
   ]
  },
  {
   "cell_type": "code",
   "execution_count": 154,
   "id": "fb87d1b8-134b-469b-8273-86e462e8dc35",
   "metadata": {},
   "outputs": [
    {
     "data": {
      "text/plain": [
       "'hello Parkash sir'"
      ]
     },
     "execution_count": 154,
     "metadata": {},
     "output_type": "execute_result"
    }
   ],
   "source": [
    "'hello' + ' Parkash sir'"
   ]
  },
  {
   "cell_type": "code",
   "execution_count": 156,
   "id": "b7dae640-92b7-47e1-a515-beea9580af61",
   "metadata": {},
   "outputs": [
    {
     "data": {
      "text/plain": [
       "'ayaanayaanayaanayaanayaan'"
      ]
     },
     "execution_count": 156,
     "metadata": {},
     "output_type": "execute_result"
    }
   ],
   "source": [
    "x * 5"
   ]
  },
  {
   "cell_type": "code",
   "execution_count": 157,
   "id": "c723d790-1b4a-421f-a0eb-e208fb339de1",
   "metadata": {},
   "outputs": [
    {
     "data": {
      "text/plain": [
       "'ayaan ayaan ayaan ayaan ayaan ayaan '"
      ]
     },
     "execution_count": 157,
     "metadata": {},
     "output_type": "execute_result"
    }
   ],
   "source": [
    "'ayaan ' * 6"
   ]
  },
  {
   "cell_type": "code",
   "execution_count": 158,
   "id": "b376342a-5608-4f3d-b3d0-a74fdda7c33f",
   "metadata": {},
   "outputs": [
    {
     "data": {
      "text/plain": [
       "'I am learning Data Science'"
      ]
     },
     "execution_count": 158,
     "metadata": {},
     "output_type": "execute_result"
    }
   ],
   "source": [
    "z"
   ]
  },
  {
   "cell_type": "code",
   "execution_count": 159,
   "id": "6611cb97-ae2f-40fd-917d-34526ec7fa2e",
   "metadata": {},
   "outputs": [
    {
     "data": {
      "text/plain": [
       "('I am ', 'learning', ' Data Science')"
      ]
     },
     "execution_count": 159,
     "metadata": {},
     "output_type": "execute_result"
    }
   ],
   "source": [
    "z.partition('learning')"
   ]
  }
 ],
 "metadata": {
  "kernelspec": {
   "display_name": "Python [conda env:base] *",
   "language": "python",
   "name": "conda-base-py"
  },
  "language_info": {
   "codemirror_mode": {
    "name": "ipython",
    "version": 3
   },
   "file_extension": ".py",
   "mimetype": "text/x-python",
   "name": "python",
   "nbconvert_exporter": "python",
   "pygments_lexer": "ipython3",
   "version": "3.12.7"
  }
 },
 "nbformat": 4,
 "nbformat_minor": 5
}
