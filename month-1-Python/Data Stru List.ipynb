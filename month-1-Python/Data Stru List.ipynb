{
 "cells": [
  {
   "cell_type": "code",
   "execution_count": 1,
   "id": "c6e323da-4529-46ba-a85e-bada85a868f9",
   "metadata": {},
   "outputs": [],
   "source": [
    "l = []"
   ]
  },
  {
   "cell_type": "code",
   "execution_count": 2,
   "id": "5a6a3baf-51c8-4333-a114-a3dbaef5cb4c",
   "metadata": {},
   "outputs": [
    {
     "data": {
      "text/plain": [
       "[]"
      ]
     },
     "execution_count": 2,
     "metadata": {},
     "output_type": "execute_result"
    }
   ],
   "source": [
    "l"
   ]
  },
  {
   "cell_type": "code",
   "execution_count": 3,
   "id": "dfcc673f-9399-46ff-8f39-5a2e84cc1c01",
   "metadata": {},
   "outputs": [
    {
     "data": {
      "text/plain": [
       "list"
      ]
     },
     "execution_count": 3,
     "metadata": {},
     "output_type": "execute_result"
    }
   ],
   "source": [
    "type(l)"
   ]
  },
  {
   "cell_type": "code",
   "execution_count": 4,
   "id": "12857e58-ca8b-434f-8a1d-8fe68e644c7e",
   "metadata": {},
   "outputs": [
    {
     "name": "stdout",
     "output_type": "stream",
     "text": [
      "0\n"
     ]
    }
   ],
   "source": [
    "print(len(l))"
   ]
  },
  {
   "cell_type": "markdown",
   "id": "e629014d-591f-4d30-ab2c-a4c9b2f62afb",
   "metadata": {},
   "source": [
    "#  append fun"
   ]
  },
  {
   "cell_type": "code",
   "execution_count": 5,
   "id": "3bb2ccfd-07b0-45aa-a9ac-8dab7761527d",
   "metadata": {},
   "outputs": [],
   "source": [
    "l.append(10) # .append fun used to add elememt at the end of the list"
   ]
  },
  {
   "cell_type": "code",
   "execution_count": 6,
   "id": "d63c4ddc-2a47-483c-86c7-646dfb675984",
   "metadata": {},
   "outputs": [
    {
     "data": {
      "text/plain": [
       "[10]"
      ]
     },
     "execution_count": 6,
     "metadata": {},
     "output_type": "execute_result"
    }
   ],
   "source": [
    "l"
   ]
  },
  {
   "cell_type": "code",
   "execution_count": 7,
   "id": "a15ec326-3a73-42f6-8306-e67515f31282",
   "metadata": {},
   "outputs": [],
   "source": [
    "l.append(20)\n",
    "l.append(30)\n",
    "l.append(40)"
   ]
  },
  {
   "cell_type": "code",
   "execution_count": 8,
   "id": "7866eb14-a7f6-48ae-8b03-f4d30bc870a9",
   "metadata": {},
   "outputs": [
    {
     "data": {
      "text/plain": [
       "[10, 20, 30, 40]"
      ]
     },
     "execution_count": 8,
     "metadata": {},
     "output_type": "execute_result"
    }
   ],
   "source": [
    "l"
   ]
  },
  {
   "cell_type": "code",
   "execution_count": 9,
   "id": "8a2139bf-d3ad-427b-bca4-7efaf15555d3",
   "metadata": {},
   "outputs": [],
   "source": [
    "l1 = []"
   ]
  },
  {
   "cell_type": "code",
   "execution_count": 10,
   "id": "962fe28c-cfd9-4790-a6c8-09e53c1c3636",
   "metadata": {},
   "outputs": [
    {
     "data": {
      "text/plain": [
       "[]"
      ]
     },
     "execution_count": 10,
     "metadata": {},
     "output_type": "execute_result"
    }
   ],
   "source": [
    "l1"
   ]
  },
  {
   "cell_type": "code",
   "execution_count": 11,
   "id": "a87be068-7fd6-4069-b041-8215724a08de",
   "metadata": {},
   "outputs": [],
   "source": [
    "l1.append('nit')\n",
    "l1.append(23)\n",
    "l1.append(23.5)\n",
    "l1.append(True)\n",
    "l1.append(1+2j)\n",
    "l1.append([1,2,3])"
   ]
  },
  {
   "cell_type": "code",
   "execution_count": 12,
   "id": "836a1e66-024a-44e0-8909-ff1e984ac6fa",
   "metadata": {},
   "outputs": [
    {
     "data": {
      "text/plain": [
       "['nit', 23, 23.5, True, (1+2j), [1, 2, 3]]"
      ]
     },
     "execution_count": 12,
     "metadata": {},
     "output_type": "execute_result"
    }
   ],
   "source": [
    "l1"
   ]
  },
  {
   "cell_type": "code",
   "execution_count": 13,
   "id": "067be7d3-6c20-4d58-aaef-07e8562b8951",
   "metadata": {},
   "outputs": [
    {
     "name": "stdout",
     "output_type": "stream",
     "text": [
      "[10, 20, 30, 40]\n",
      "['nit', 23, 23.5, True, (1+2j), [1, 2, 3]]\n"
     ]
    }
   ],
   "source": [
    "print(l)\n",
    "print(l1)"
   ]
  },
  {
   "cell_type": "code",
   "execution_count": 14,
   "id": "c7a614e9-634b-410a-968b-f0e8a15dcb96",
   "metadata": {},
   "outputs": [
    {
     "name": "stdout",
     "output_type": "stream",
     "text": [
      "nit\n",
      "23\n",
      "23.5\n",
      "True\n",
      "(1+2j)\n",
      "[1, 2, 3]\n"
     ]
    }
   ],
   "source": [
    "for i in l1:\n",
    "    print(i)"
   ]
  },
  {
   "cell_type": "code",
   "execution_count": 15,
   "id": "bbb5bf20-2fd8-4f39-bf09-610bb8e2c0ae",
   "metadata": {},
   "outputs": [
    {
     "name": "stdout",
     "output_type": "stream",
     "text": [
      "(0, 'nit')\n",
      "(1, 23)\n",
      "(2, 23.5)\n",
      "(3, True)\n",
      "(4, (1+2j))\n",
      "(5, [1, 2, 3])\n"
     ]
    }
   ],
   "source": [
    "for i in enumerate (l1):\n",
    "    print(i)"
   ]
  },
  {
   "cell_type": "markdown",
   "id": "d0026fe9-e866-4173-958e-a127b9131ca7",
   "metadata": {},
   "source": [
    "# index fun"
   ]
  },
  {
   "cell_type": "code",
   "execution_count": 17,
   "id": "50166c68-338b-4f9f-a2f2-a51554a4690b",
   "metadata": {},
   "outputs": [
    {
     "data": {
      "text/plain": [
       "10"
      ]
     },
     "execution_count": 17,
     "metadata": {},
     "output_type": "execute_result"
    }
   ],
   "source": [
    "l[0]  # Forward Indexing"
   ]
  },
  {
   "cell_type": "code",
   "execution_count": 18,
   "id": "b58a965f-f5a8-4aa0-80bb-3acec3b687bb",
   "metadata": {},
   "outputs": [
    {
     "data": {
      "text/plain": [
       "40"
      ]
     },
     "execution_count": 18,
     "metadata": {},
     "output_type": "execute_result"
    }
   ],
   "source": [
    "l[-1] # Backward Indexing"
   ]
  },
  {
   "cell_type": "code",
   "execution_count": 19,
   "id": "e3b7846b-04dd-441d-b772-78e1b353a587",
   "metadata": {},
   "outputs": [
    {
     "data": {
      "text/plain": [
       "[10, 20, 30, 40]"
      ]
     },
     "execution_count": 19,
     "metadata": {},
     "output_type": "execute_result"
    }
   ],
   "source": [
    "l"
   ]
  },
  {
   "cell_type": "code",
   "execution_count": 20,
   "id": "6406a98c-0472-4005-806a-bc1bf3594c01",
   "metadata": {},
   "outputs": [
    {
     "data": {
      "text/plain": [
       "[20, 30]"
      ]
     },
     "execution_count": 20,
     "metadata": {},
     "output_type": "execute_result"
    }
   ],
   "source": [
    "l[1:3]"
   ]
  },
  {
   "cell_type": "code",
   "execution_count": 21,
   "id": "dc28d141-0c01-4f2f-9579-c630d94c36a4",
   "metadata": {},
   "outputs": [],
   "source": [
    "l[0] = 100 # List is Mutable ( Chageble )"
   ]
  },
  {
   "cell_type": "code",
   "execution_count": 22,
   "id": "7db6c4ec-6ba9-47e6-8c1f-2f54d8f5fb57",
   "metadata": {},
   "outputs": [
    {
     "data": {
      "text/plain": [
       "[100, 20, 30, 40]"
      ]
     },
     "execution_count": 22,
     "metadata": {},
     "output_type": "execute_result"
    }
   ],
   "source": [
    "l"
   ]
  },
  {
   "cell_type": "code",
   "execution_count": 23,
   "id": "dc898ccd-c81f-48aa-8bc0-75867c74d9ad",
   "metadata": {},
   "outputs": [
    {
     "data": {
      "text/plain": [
       "['nit', 23, 23.5, True, (1+2j), [1, 2, 3]]"
      ]
     },
     "execution_count": 23,
     "metadata": {},
     "output_type": "execute_result"
    }
   ],
   "source": [
    "l1"
   ]
  },
  {
   "cell_type": "code",
   "execution_count": 24,
   "id": "239508d9-a2e1-45c2-8618-81041ee84db6",
   "metadata": {},
   "outputs": [
    {
     "data": {
      "text/plain": [
       "[100, 20, 30, 40]"
      ]
     },
     "execution_count": 24,
     "metadata": {},
     "output_type": "execute_result"
    }
   ],
   "source": [
    "l"
   ]
  },
  {
   "cell_type": "code",
   "execution_count": 25,
   "id": "60fc1ff4-0026-4129-b64c-e1be8969d647",
   "metadata": {},
   "outputs": [
    {
     "data": {
      "text/plain": [
       "['nit', 23, 23.5, True, (1+2j), [1, 2, 3]]"
      ]
     },
     "execution_count": 25,
     "metadata": {},
     "output_type": "execute_result"
    }
   ],
   "source": [
    "l1"
   ]
  },
  {
   "cell_type": "code",
   "execution_count": 26,
   "id": "60c62b88-134f-419a-9f30-3ace648b082e",
   "metadata": {},
   "outputs": [],
   "source": [
    "l.append(50)"
   ]
  },
  {
   "cell_type": "code",
   "execution_count": 28,
   "id": "35d8a170-a6d1-4eeb-9f9e-a69dfe9a3b68",
   "metadata": {},
   "outputs": [
    {
     "data": {
      "text/plain": [
       "[100, 20, 30, 40, 50]"
      ]
     },
     "execution_count": 28,
     "metadata": {},
     "output_type": "execute_result"
    }
   ],
   "source": [
    "l"
   ]
  },
  {
   "cell_type": "code",
   "execution_count": 29,
   "id": "61712bf5-59b6-458c-b154-6b3881ee733c",
   "metadata": {},
   "outputs": [],
   "source": [
    "l.append(60)"
   ]
  },
  {
   "cell_type": "code",
   "execution_count": 30,
   "id": "cb3d8954-b2e1-436b-a1cc-6a6667d1bed4",
   "metadata": {},
   "outputs": [
    {
     "data": {
      "text/plain": [
       "[100, 20, 30, 40, 50, 60]"
      ]
     },
     "execution_count": 30,
     "metadata": {},
     "output_type": "execute_result"
    }
   ],
   "source": [
    "l"
   ]
  },
  {
   "cell_type": "markdown",
   "id": "778bd878-2faa-4221-8821-440f97fea458",
   "metadata": {},
   "source": [
    "# copy fun"
   ]
  },
  {
   "cell_type": "code",
   "execution_count": 41,
   "id": "69ee2f34-5c7a-45a8-a418-a86550702e0c",
   "metadata": {},
   "outputs": [
    {
     "data": {
      "text/plain": [
       "[]"
      ]
     },
     "execution_count": 41,
     "metadata": {},
     "output_type": "execute_result"
    }
   ],
   "source": [
    "l2 = []\n",
    "l2"
   ]
  },
  {
   "cell_type": "code",
   "execution_count": 42,
   "id": "5481e058-d555-4cd0-8d5e-21abf345d23c",
   "metadata": {},
   "outputs": [],
   "source": [
    "l2 = l1.copy() # copy fun is used to copy the list..."
   ]
  },
  {
   "cell_type": "code",
   "execution_count": 43,
   "id": "b55ab08b-50a5-4bd8-9ce2-f0a354ccbbb7",
   "metadata": {},
   "outputs": [
    {
     "data": {
      "text/plain": [
       "['nit', 23, 23.5, True, (1+2j), [1, 2, 3]]"
      ]
     },
     "execution_count": 43,
     "metadata": {},
     "output_type": "execute_result"
    }
   ],
   "source": [
    "l2"
   ]
  },
  {
   "cell_type": "code",
   "execution_count": 44,
   "id": "410dcee0-c238-43c7-baef-7db3370d938c",
   "metadata": {},
   "outputs": [
    {
     "data": {
      "text/plain": [
       "True"
      ]
     },
     "execution_count": 44,
     "metadata": {},
     "output_type": "execute_result"
    }
   ],
   "source": [
    "l1 == l2"
   ]
  },
  {
   "cell_type": "code",
   "execution_count": 45,
   "id": "6ebe5d8d-c425-4a1b-8b94-64eac1ecafc6",
   "metadata": {},
   "outputs": [
    {
     "name": "stdout",
     "output_type": "stream",
     "text": [
      "['nit', 23, 23.5, True, (1+2j), [1, 2, 3]]\n",
      "['nit', 23, 23.5, True, (1+2j), [1, 2, 3]]\n"
     ]
    }
   ],
   "source": [
    "print(l1)\n",
    "print(l2)"
   ]
  },
  {
   "cell_type": "code",
   "execution_count": 46,
   "id": "38b01723-5b57-4aaf-a84b-9c985d86e7fa",
   "metadata": {},
   "outputs": [
    {
     "name": "stdout",
     "output_type": "stream",
     "text": [
      "2985903370304\n",
      "2985903397696\n",
      "2985944883392\n"
     ]
    }
   ],
   "source": [
    "print(id(l))\n",
    "print(id(l1))\n",
    "print(id(l2))"
   ]
  },
  {
   "cell_type": "markdown",
   "id": "4c98728d-f85f-44dc-b474-dd647f7148c3",
   "metadata": {},
   "source": [
    "# count fun"
   ]
  },
  {
   "cell_type": "raw",
   "id": "ebff9cb5-f9bd-4891-9da8-92af3d40ed99",
   "metadata": {},
   "source": [
    "l"
   ]
  },
  {
   "cell_type": "code",
   "execution_count": 48,
   "id": "6421f095-7fc2-4127-bfff-90fff796304e",
   "metadata": {},
   "outputs": [
    {
     "data": {
      "text/plain": [
       "1"
      ]
     },
     "execution_count": 48,
     "metadata": {},
     "output_type": "execute_result"
    }
   ],
   "source": [
    "l.count(20) # count fun is used to count the element under the list.."
   ]
  },
  {
   "cell_type": "code",
   "execution_count": 50,
   "id": "c0442d9a-eac6-4913-89e4-fddd5005fa68",
   "metadata": {},
   "outputs": [
    {
     "data": {
      "text/plain": [
       "1"
      ]
     },
     "execution_count": 50,
     "metadata": {},
     "output_type": "execute_result"
    }
   ],
   "source": [
    "l2.count('nit')"
   ]
  },
  {
   "cell_type": "markdown",
   "id": "c2efabe1-cf07-48d0-be56-b146dcde4226",
   "metadata": {},
   "source": [
    "# clear fun"
   ]
  },
  {
   "cell_type": "code",
   "execution_count": 52,
   "id": "97f53091-6876-4feb-ac54-d5b2f1a34704",
   "metadata": {},
   "outputs": [
    {
     "data": {
      "text/plain": [
       "[100, 20, 30, 40, 50, 60]"
      ]
     },
     "execution_count": 52,
     "metadata": {},
     "output_type": "execute_result"
    }
   ],
   "source": [
    "l"
   ]
  },
  {
   "cell_type": "code",
   "execution_count": 53,
   "id": "5ca30c48-94fc-41ee-8442-a6760c207800",
   "metadata": {},
   "outputs": [],
   "source": [
    "l.clear() # clear fun is used to remove all elemnt from list"
   ]
  },
  {
   "cell_type": "code",
   "execution_count": 54,
   "id": "08ce235d-6620-45b5-ac48-22bc36e1bddd",
   "metadata": {},
   "outputs": [
    {
     "data": {
      "text/plain": [
       "[]"
      ]
     },
     "execution_count": 54,
     "metadata": {},
     "output_type": "execute_result"
    }
   ],
   "source": [
    "l"
   ]
  },
  {
   "cell_type": "markdown",
   "id": "af6792ef-fa2c-499a-b940-bb7f575ef670",
   "metadata": {},
   "source": [
    "# delete the variable"
   ]
  },
  {
   "cell_type": "code",
   "execution_count": 55,
   "id": "10f5b45b-ee2b-4806-8231-b695ab6ce7ae",
   "metadata": {},
   "outputs": [],
   "source": [
    "del l"
   ]
  },
  {
   "cell_type": "code",
   "execution_count": 56,
   "id": "af8306bf-2f53-4f5a-891a-84f8b38fbb52",
   "metadata": {},
   "outputs": [
    {
     "ename": "NameError",
     "evalue": "name 'l' is not defined",
     "output_type": "error",
     "traceback": [
      "\u001b[1;31m---------------------------------------------------------------------------\u001b[0m",
      "\u001b[1;31mNameError\u001b[0m                                 Traceback (most recent call last)",
      "Cell \u001b[1;32mIn[56], line 1\u001b[0m\n\u001b[1;32m----> 1\u001b[0m l\n",
      "\u001b[1;31mNameError\u001b[0m: name 'l' is not defined"
     ]
    }
   ],
   "source": [
    "l"
   ]
  },
  {
   "cell_type": "markdown",
   "id": "3a1c4deb-c621-4e6f-b650-e35c9742ccf4",
   "metadata": {},
   "source": [
    "# pop fun"
   ]
  },
  {
   "cell_type": "code",
   "execution_count": 57,
   "id": "025391e2-17b1-4a09-826a-869aee053234",
   "metadata": {},
   "outputs": [
    {
     "data": {
      "text/plain": [
       "['nit', 23, 23.5, True, (1+2j), [1, 2, 3]]"
      ]
     },
     "execution_count": 57,
     "metadata": {},
     "output_type": "execute_result"
    }
   ],
   "source": [
    "l1"
   ]
  },
  {
   "cell_type": "code",
   "execution_count": 58,
   "id": "ed01efd9-71cb-475a-a278-63fddbca6ab4",
   "metadata": {},
   "outputs": [
    {
     "data": {
      "text/plain": [
       "[1, 2, 3]"
      ]
     },
     "execution_count": 58,
     "metadata": {},
     "output_type": "execute_result"
    }
   ],
   "source": [
    "l1.pop() # remove & return item at index ( default lat )... "
   ]
  },
  {
   "cell_type": "code",
   "execution_count": 59,
   "id": "fdf16e13-73d9-4a51-91ea-823b7b1d6728",
   "metadata": {},
   "outputs": [
    {
     "data": {
      "text/plain": [
       "['nit', 23, 23.5, True, (1+2j)]"
      ]
     },
     "execution_count": 59,
     "metadata": {},
     "output_type": "execute_result"
    }
   ],
   "source": [
    "l1"
   ]
  },
  {
   "cell_type": "code",
   "execution_count": 60,
   "id": "fe150752-eb4f-49f0-87cd-e1d8f772e69d",
   "metadata": {},
   "outputs": [
    {
     "data": {
      "text/plain": [
       "23"
      ]
     },
     "execution_count": 60,
     "metadata": {},
     "output_type": "execute_result"
    }
   ],
   "source": [
    "l1.pop(1) # remove item used index number"
   ]
  },
  {
   "cell_type": "code",
   "execution_count": 61,
   "id": "3eef3a63-68cf-4763-a3ca-ff13d28533dc",
   "metadata": {},
   "outputs": [
    {
     "data": {
      "text/plain": [
       "['nit', 23.5, True, (1+2j)]"
      ]
     },
     "execution_count": 61,
     "metadata": {},
     "output_type": "execute_result"
    }
   ],
   "source": [
    "l1"
   ]
  },
  {
   "cell_type": "markdown",
   "id": "0debf162-e6fa-4257-b39d-14c6c7357474",
   "metadata": {},
   "source": [
    "# remove fun"
   ]
  },
  {
   "cell_type": "code",
   "execution_count": 62,
   "id": "0ab7738b-e517-445f-b74d-89c0613696e2",
   "metadata": {},
   "outputs": [
    {
     "data": {
      "text/plain": [
       "['nit', 23, 23.5, True, (1+2j), [1, 2, 3]]"
      ]
     },
     "execution_count": 62,
     "metadata": {},
     "output_type": "execute_result"
    }
   ],
   "source": [
    "l2"
   ]
  },
  {
   "cell_type": "code",
   "execution_count": 63,
   "id": "08763c28-c05b-46d6-821b-540db98b5f56",
   "metadata": {},
   "outputs": [],
   "source": [
    "l2.remove(True) # remove fun is used to remove the element by value lavel "
   ]
  },
  {
   "cell_type": "code",
   "execution_count": 64,
   "id": "35a774c2-beee-430e-983c-1140603d75a0",
   "metadata": {},
   "outputs": [
    {
     "data": {
      "text/plain": [
       "['nit', 23, 23.5, (1+2j), [1, 2, 3]]"
      ]
     },
     "execution_count": 64,
     "metadata": {},
     "output_type": "execute_result"
    }
   ],
   "source": [
    "l2"
   ]
  },
  {
   "cell_type": "markdown",
   "id": "34cabec1-a2bd-445f-8059-ff678a5c4753",
   "metadata": {},
   "source": [
    "# insert fun"
   ]
  },
  {
   "cell_type": "code",
   "execution_count": 65,
   "id": "267a4532-b548-48d1-8086-f8c9d164c123",
   "metadata": {},
   "outputs": [
    {
     "data": {
      "text/plain": [
       "['nit', 23.5, True, (1+2j)]"
      ]
     },
     "execution_count": 65,
     "metadata": {},
     "output_type": "execute_result"
    }
   ],
   "source": [
    "l1"
   ]
  },
  {
   "cell_type": "code",
   "execution_count": 66,
   "id": "62678fb9-61b4-49a5-97f3-ad3d5a18df90",
   "metadata": {},
   "outputs": [],
   "source": [
    "l1.insert(0,23) # insert the item using index number"
   ]
  },
  {
   "cell_type": "code",
   "execution_count": 67,
   "id": "f2dae63e-0373-45e9-8d07-25a613c21d0b",
   "metadata": {},
   "outputs": [
    {
     "data": {
      "text/plain": [
       "[23, 'nit', 23.5, True, (1+2j)]"
      ]
     },
     "execution_count": 67,
     "metadata": {},
     "output_type": "execute_result"
    }
   ],
   "source": [
    "l1"
   ]
  },
  {
   "cell_type": "code",
   "execution_count": 68,
   "id": "6910cab6-80fb-4415-acbc-b9d659d5dd0f",
   "metadata": {},
   "outputs": [],
   "source": [
    "l1.insert(3,[1,2,3])"
   ]
  },
  {
   "cell_type": "code",
   "execution_count": 69,
   "id": "15c94212-78aa-4e43-98e2-900662461ac4",
   "metadata": {},
   "outputs": [
    {
     "data": {
      "text/plain": [
       "[23, 'nit', 23.5, [1, 2, 3], True, (1+2j)]"
      ]
     },
     "execution_count": 69,
     "metadata": {},
     "output_type": "execute_result"
    }
   ],
   "source": [
    "l1"
   ]
  },
  {
   "cell_type": "markdown",
   "id": "a83ae9b2-a169-4a5c-88a1-d42ce9ff639d",
   "metadata": {},
   "source": [
    "# sort fun"
   ]
  },
  {
   "cell_type": "code",
   "execution_count": 71,
   "id": "10abfa35-9e3e-4a3d-80d5-2aae5e8d907b",
   "metadata": {},
   "outputs": [],
   "source": [
    "l = [30,50,82,10,90,38]"
   ]
  },
  {
   "cell_type": "code",
   "execution_count": 72,
   "id": "a75b8231-6338-40fd-9b7d-b0c53025fe19",
   "metadata": {},
   "outputs": [
    {
     "data": {
      "text/plain": [
       "[30, 50, 82, 10, 90, 38]"
      ]
     },
     "execution_count": 72,
     "metadata": {},
     "output_type": "execute_result"
    }
   ],
   "source": [
    "l"
   ]
  },
  {
   "cell_type": "code",
   "execution_count": 73,
   "id": "f814a130-52bb-4c2f-8f71-b6f62276e89c",
   "metadata": {},
   "outputs": [],
   "source": [
    "l.sort() # sorts the list in ascending order.."
   ]
  },
  {
   "cell_type": "code",
   "execution_count": 74,
   "id": "688c4d2e-9490-462b-941d-504b7dda4321",
   "metadata": {},
   "outputs": [
    {
     "data": {
      "text/plain": [
       "[10, 30, 38, 50, 82, 90]"
      ]
     },
     "execution_count": 74,
     "metadata": {},
     "output_type": "execute_result"
    }
   ],
   "source": [
    "l"
   ]
  },
  {
   "cell_type": "markdown",
   "id": "05a51dbc-f329-4869-9731-5888e830a821",
   "metadata": {},
   "source": [
    "# reverse fun"
   ]
  },
  {
   "cell_type": "code",
   "execution_count": 75,
   "id": "38ba41e8-e99f-4ead-8137-0b32e4fcd200",
   "metadata": {},
   "outputs": [
    {
     "data": {
      "text/plain": [
       "[10, 30, 38, 50, 82, 90]"
      ]
     },
     "execution_count": 75,
     "metadata": {},
     "output_type": "execute_result"
    }
   ],
   "source": [
    "l"
   ]
  },
  {
   "cell_type": "code",
   "execution_count": 76,
   "id": "fcedeb94-19b5-4db3-9704-ed7fabb8d50e",
   "metadata": {},
   "outputs": [],
   "source": [
    "l.reverse() # Reverses the list in-place...."
   ]
  },
  {
   "cell_type": "code",
   "execution_count": 77,
   "id": "02edaa58-c5c7-4832-80cc-5136e49a38e0",
   "metadata": {},
   "outputs": [
    {
     "data": {
      "text/plain": [
       "[90, 82, 50, 38, 30, 10]"
      ]
     },
     "execution_count": 77,
     "metadata": {},
     "output_type": "execute_result"
    }
   ],
   "source": [
    "l"
   ]
  },
  {
   "cell_type": "markdown",
   "id": "c94bce0f-982c-4927-a801-0eefd68b9ffa",
   "metadata": {},
   "source": [
    "# extend fun"
   ]
  },
  {
   "cell_type": "code",
   "execution_count": 78,
   "id": "7c3e49bd-58f7-4d92-a449-1554bd6f5ab5",
   "metadata": {},
   "outputs": [
    {
     "name": "stdout",
     "output_type": "stream",
     "text": [
      "[90, 82, 50, 38, 30, 10]\n",
      "[23, 'nit', 23.5, [1, 2, 3], True, (1+2j)]\n"
     ]
    }
   ],
   "source": [
    "print(l)\n",
    "print(l1)"
   ]
  },
  {
   "cell_type": "code",
   "execution_count": 79,
   "id": "954c2529-cf9a-4dc0-b24b-a006f0536750",
   "metadata": {},
   "outputs": [],
   "source": [
    "l.extend(l1) # add another  all list item to the end of the current list "
   ]
  },
  {
   "cell_type": "code",
   "execution_count": 80,
   "id": "57b14f93-be89-4afe-b9be-4d98d59b26d9",
   "metadata": {},
   "outputs": [
    {
     "data": {
      "text/plain": [
       "[90, 82, 50, 38, 30, 10, 23, 'nit', 23.5, [1, 2, 3], True, (1+2j)]"
      ]
     },
     "execution_count": 80,
     "metadata": {},
     "output_type": "execute_result"
    }
   ],
   "source": [
    "l"
   ]
  },
  {
   "cell_type": "code",
   "execution_count": null,
   "id": "f6dc42f3-16ad-405c-b6d2-b4dd0abd17ea",
   "metadata": {},
   "outputs": [],
   "source": [
    "."
   ]
  }
 ],
 "metadata": {
  "kernelspec": {
   "display_name": "Python [conda env:base] *",
   "language": "python",
   "name": "conda-base-py"
  },
  "language_info": {
   "codemirror_mode": {
    "name": "ipython",
    "version": 3
   },
   "file_extension": ".py",
   "mimetype": "text/x-python",
   "name": "python",
   "nbconvert_exporter": "python",
   "pygments_lexer": "ipython3",
   "version": "3.12.7"
  }
 },
 "nbformat": 4,
 "nbformat_minor": 5
}
