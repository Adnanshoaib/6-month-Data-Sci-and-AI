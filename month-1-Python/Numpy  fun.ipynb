{
 "cells": [
  {
   "cell_type": "code",
   "execution_count": 3,
   "id": "b08a0d55-4a99-4d43-81b3-2945222fcdd2",
   "metadata": {},
   "outputs": [],
   "source": [
    "import numpy as np"
   ]
  },
  {
   "cell_type": "raw",
   "id": "74357aac-50a9-49ba-ba0f-666eb87feeee",
   "metadata": {},
   "source": [
    "# Axis"
   ]
  },
  {
   "cell_type": "code",
   "execution_count": 4,
   "id": "54ed5c83-1fbf-4845-b382-42ee0caf260d",
   "metadata": {},
   "outputs": [],
   "source": [
    "arr = np.array([[1, 2, 3], # Axis 0 (vertical) → operates column-wise\n",
    "                [4, 5, 6]]) # Axis 1 (horizontal) → operates row-wise"
   ]
  },
  {
   "cell_type": "code",
   "execution_count": 5,
   "id": "c4f9e611-9d5d-4c15-a6f5-5f6e2c004271",
   "metadata": {},
   "outputs": [
    {
     "data": {
      "text/plain": [
       "array([[1, 2, 3],\n",
       "       [4, 5, 6]])"
      ]
     },
     "execution_count": 5,
     "metadata": {},
     "output_type": "execute_result"
    }
   ],
   "source": [
    "arr"
   ]
  },
  {
   "cell_type": "code",
   "execution_count": 6,
   "id": "ea2f3719-9681-4dd0-a07d-dec65f49191c",
   "metadata": {},
   "outputs": [
    {
     "data": {
      "text/plain": [
       "array([5, 7, 9])"
      ]
     },
     "execution_count": 6,
     "metadata": {},
     "output_type": "execute_result"
    }
   ],
   "source": [
    "np.sum(arr, axis=0) # Sum elements"
   ]
  },
  {
   "cell_type": "code",
   "execution_count": 7,
   "id": "6d5b4fd9-14e2-4e52-a1f5-0584e41e62f4",
   "metadata": {},
   "outputs": [
    {
     "data": {
      "text/plain": [
       "array([ 6, 15])"
      ]
     },
     "execution_count": 7,
     "metadata": {},
     "output_type": "execute_result"
    }
   ],
   "source": [
    "np.sum(arr, axis=1) # Sum elements"
   ]
  },
  {
   "cell_type": "code",
   "execution_count": 8,
   "id": "727b1b51-08f4-4ab3-b6f3-15294a4c2d15",
   "metadata": {},
   "outputs": [
    {
     "data": {
      "text/plain": [
       "array([2.5, 3.5, 4.5])"
      ]
     },
     "execution_count": 8,
     "metadata": {},
     "output_type": "execute_result"
    }
   ],
   "source": [
    "np.mean(arr, axis=0) #  # Average of elements"
   ]
  },
  {
   "cell_type": "code",
   "execution_count": 9,
   "id": "5d3dea43-d8a7-4237-8c6f-643aac9617e2",
   "metadata": {},
   "outputs": [
    {
     "data": {
      "text/plain": [
       "array([2., 5.])"
      ]
     },
     "execution_count": 9,
     "metadata": {},
     "output_type": "execute_result"
    }
   ],
   "source": [
    "np.mean(arr, axis=1) # Average of elements"
   ]
  },
  {
   "cell_type": "code",
   "execution_count": 10,
   "id": "39f6f5e0-7976-4ff3-89ea-b938f97e4d30",
   "metadata": {},
   "outputs": [
    {
     "data": {
      "text/plain": [
       "array([4, 5, 6])"
      ]
     },
     "execution_count": 10,
     "metadata": {},
     "output_type": "execute_result"
    }
   ],
   "source": [
    "np.max(arr, axis=0) # Maximum value"
   ]
  },
  {
   "cell_type": "code",
   "execution_count": 11,
   "id": "84168308-0e79-4cb1-a2b4-d6994c06dc86",
   "metadata": {},
   "outputs": [
    {
     "data": {
      "text/plain": [
       "array([3, 6])"
      ]
     },
     "execution_count": 11,
     "metadata": {},
     "output_type": "execute_result"
    }
   ],
   "source": [
    "np.max(arr, axis=1) # Maximum value"
   ]
  },
  {
   "cell_type": "code",
   "execution_count": 12,
   "id": "77e28f15-40a4-49fb-bc2e-e85fec2a0ab5",
   "metadata": {},
   "outputs": [
    {
     "data": {
      "text/plain": [
       "array([1, 2, 3])"
      ]
     },
     "execution_count": 12,
     "metadata": {},
     "output_type": "execute_result"
    }
   ],
   "source": [
    "np.min(arr, axis=0) # Minimum value"
   ]
  },
  {
   "cell_type": "code",
   "execution_count": 13,
   "id": "490c68c3-388a-435d-a66d-555bb27f6c86",
   "metadata": {},
   "outputs": [
    {
     "data": {
      "text/plain": [
       "array([1, 4])"
      ]
     },
     "execution_count": 13,
     "metadata": {},
     "output_type": "execute_result"
    }
   ],
   "source": [
    "np.min(arr, axis=1) # Minimum value"
   ]
  },
  {
   "cell_type": "raw",
   "id": "729192d6-0bea-4444-b97b-bc6c070f9c7b",
   "metadata": {},
   "source": [
    "# sort"
   ]
  },
  {
   "cell_type": "code",
   "execution_count": 14,
   "id": "eecad533-b675-41f6-8905-06b2c724c482",
   "metadata": {},
   "outputs": [],
   "source": [
    "arr2 = np.array([[3, 4, 1],\n",
    "                [6, 5, 9]])"
   ]
  },
  {
   "cell_type": "code",
   "execution_count": 15,
   "id": "4d91cd0e-8af0-40db-95b7-97961e4d1326",
   "metadata": {},
   "outputs": [
    {
     "data": {
      "text/plain": [
       "array([[3, 4, 1],\n",
       "       [6, 5, 9]])"
      ]
     },
     "execution_count": 15,
     "metadata": {},
     "output_type": "execute_result"
    }
   ],
   "source": [
    "arr2"
   ]
  },
  {
   "cell_type": "code",
   "execution_count": 16,
   "id": "3672d8ac-ac1a-47cf-8a32-55dd3ae7ecf0",
   "metadata": {},
   "outputs": [
    {
     "data": {
      "text/plain": [
       "array([[3, 4, 1],\n",
       "       [6, 5, 9]])"
      ]
     },
     "execution_count": 16,
     "metadata": {},
     "output_type": "execute_result"
    }
   ],
   "source": [
    "np.sort(arr2, axis=0) # Sort each col"
   ]
  },
  {
   "cell_type": "code",
   "execution_count": 17,
   "id": "90d22eb0-e260-495b-b782-c783b3b4509b",
   "metadata": {},
   "outputs": [
    {
     "data": {
      "text/plain": [
       "array([[1, 3, 4],\n",
       "       [5, 6, 9]])"
      ]
     },
     "execution_count": 17,
     "metadata": {},
     "output_type": "execute_result"
    }
   ],
   "source": [
    "np.sort(arr2, axis=1) # Sort each row"
   ]
  },
  {
   "cell_type": "code",
   "execution_count": 18,
   "id": "d3d77716-a18a-4d38-83f0-c0cad6e656e8",
   "metadata": {},
   "outputs": [
    {
     "data": {
      "text/plain": [
       "array([[3, 4, 1]])"
      ]
     },
     "execution_count": 18,
     "metadata": {},
     "output_type": "execute_result"
    }
   ],
   "source": [
    "np.delete(arr2, 1, 0) # delete 2nd row "
   ]
  },
  {
   "cell_type": "code",
   "execution_count": 19,
   "id": "9f7e3e2e-1850-4c71-be2b-6a06105290c4",
   "metadata": {},
   "outputs": [
    {
     "data": {
      "text/plain": [
       "array([[3, 1],\n",
       "       [6, 9]])"
      ]
     },
     "execution_count": 19,
     "metadata": {},
     "output_type": "execute_result"
    }
   ],
   "source": [
    "np.delete(arr2, 1, 1) # delete 2nd col"
   ]
  },
  {
   "cell_type": "raw",
   "id": "a450a44e-20b7-4c38-966c-0947d99a2a4d",
   "metadata": {},
   "source": [
    "# Statistical Operations"
   ]
  },
  {
   "cell_type": "code",
   "execution_count": 20,
   "id": "d3d7855b-b901-491a-8164-8ca3da738e99",
   "metadata": {},
   "outputs": [],
   "source": [
    "arr = np.array([10, 20, 30, 40])"
   ]
  },
  {
   "cell_type": "code",
   "execution_count": 21,
   "id": "35b90f04-e544-4478-99c6-b97292ef7fe5",
   "metadata": {},
   "outputs": [
    {
     "data": {
      "text/plain": [
       "array([10, 20, 30, 40])"
      ]
     },
     "execution_count": 21,
     "metadata": {},
     "output_type": "execute_result"
    }
   ],
   "source": [
    "arr"
   ]
  },
  {
   "cell_type": "code",
   "execution_count": 22,
   "id": "fbb04443-5e30-4fae-9087-0b2369321350",
   "metadata": {},
   "outputs": [
    {
     "data": {
      "text/plain": [
       "25.0"
      ]
     },
     "execution_count": 22,
     "metadata": {},
     "output_type": "execute_result"
    }
   ],
   "source": [
    "np.mean(arr) # Mean"
   ]
  },
  {
   "cell_type": "code",
   "execution_count": 23,
   "id": "fb1cbc20-bedb-4f73-bc65-c6dece878a81",
   "metadata": {},
   "outputs": [
    {
     "data": {
      "text/plain": [
       "25.0"
      ]
     },
     "execution_count": 23,
     "metadata": {},
     "output_type": "execute_result"
    }
   ],
   "source": [
    "np.median(arr) # median"
   ]
  },
  {
   "cell_type": "code",
   "execution_count": 24,
   "id": "5429386c-1786-4f3a-b24f-f74b545884cb",
   "metadata": {},
   "outputs": [
    {
     "data": {
      "text/plain": [
       "11.180339887498949"
      ]
     },
     "execution_count": 24,
     "metadata": {},
     "output_type": "execute_result"
    }
   ],
   "source": [
    "np.std(arr) # Standard deviation "
   ]
  },
  {
   "cell_type": "code",
   "execution_count": 25,
   "id": "a9c922ab-a179-4e1c-9365-20bd20570869",
   "metadata": {},
   "outputs": [
    {
     "data": {
      "text/plain": [
       "40"
      ]
     },
     "execution_count": 25,
     "metadata": {},
     "output_type": "execute_result"
    }
   ],
   "source": [
    "np.max(arr) # Maximum"
   ]
  },
  {
   "cell_type": "code",
   "execution_count": 26,
   "id": "836321d7-078d-481d-a3ef-01ef24abfce8",
   "metadata": {},
   "outputs": [
    {
     "data": {
      "text/plain": [
       "10"
      ]
     },
     "execution_count": 26,
     "metadata": {},
     "output_type": "execute_result"
    }
   ],
   "source": [
    "np.min(arr) # Minimum"
   ]
  },
  {
   "cell_type": "code",
   "execution_count": 27,
   "id": "f864988c-d56b-4298-b2e6-b8afcc887fc9",
   "metadata": {},
   "outputs": [
    {
     "data": {
      "text/plain": [
       "100"
      ]
     },
     "execution_count": 27,
     "metadata": {},
     "output_type": "execute_result"
    }
   ],
   "source": [
    "np.sum(arr) # Sum"
   ]
  },
  {
   "cell_type": "code",
   "execution_count": 28,
   "id": "76a496a2-951d-4d86-9a1e-285f10afe25a",
   "metadata": {},
   "outputs": [
    {
     "data": {
      "text/plain": [
       "array([40, 30, 20, 10])"
      ]
     },
     "execution_count": 28,
     "metadata": {},
     "output_type": "execute_result"
    }
   ],
   "source": [
    "np.flip(arr) # reverse"
   ]
  },
  {
   "cell_type": "code",
   "execution_count": null,
   "id": "e5fafdf2-5afd-4486-aaa1-9df3bc1a8b27",
   "metadata": {},
   "outputs": [],
   "source": []
  }
 ],
 "metadata": {
  "kernelspec": {
   "display_name": "Python [conda env:base] *",
   "language": "python",
   "name": "conda-base-py"
  },
  "language_info": {
   "codemirror_mode": {
    "name": "ipython",
    "version": 3
   },
   "file_extension": ".py",
   "mimetype": "text/x-python",
   "name": "python",
   "nbconvert_exporter": "python",
   "pygments_lexer": "ipython3",
   "version": "3.12.7"
  }
 },
 "nbformat": 4,
 "nbformat_minor": 5
}
