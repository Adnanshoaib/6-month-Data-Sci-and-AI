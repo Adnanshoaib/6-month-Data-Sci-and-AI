{
 "cells": [
  {
   "cell_type": "markdown",
   "id": "4ad0d56d-9772-4e94-84d7-f485d8434d75",
   "metadata": {},
   "source": [
    "# Tuple"
   ]
  },
  {
   "cell_type": "code",
   "execution_count": 8,
   "id": "0f68ed40-83d8-4511-a34e-0abf3f64a8a6",
   "metadata": {},
   "outputs": [
    {
     "data": {
      "text/plain": [
       "(23, 23.34, True, 'nit', (1+2j))"
      ]
     },
     "execution_count": 8,
     "metadata": {},
     "output_type": "execute_result"
    }
   ],
   "source": [
    "l = (23,23.34,True,'nit',1+2j)\n",
    "l"
   ]
  },
  {
   "cell_type": "code",
   "execution_count": 9,
   "id": "00d8e1e6-face-4172-82fb-e1079f5f8e8d",
   "metadata": {},
   "outputs": [
    {
     "data": {
      "text/plain": [
       "tuple"
      ]
     },
     "execution_count": 9,
     "metadata": {},
     "output_type": "execute_result"
    }
   ],
   "source": [
    "type(l)"
   ]
  },
  {
   "cell_type": "code",
   "execution_count": 10,
   "id": "41b33a14-7775-4cfc-8cc5-3f2d09e46ab2",
   "metadata": {},
   "outputs": [
    {
     "name": "stdout",
     "output_type": "stream",
     "text": [
      "5\n"
     ]
    }
   ],
   "source": [
    "print(len(l))"
   ]
  },
  {
   "cell_type": "code",
   "execution_count": 11,
   "id": "4176f83c-7f46-4656-8386-277fef716c18",
   "metadata": {},
   "outputs": [
    {
     "data": {
      "text/plain": [
       "23"
      ]
     },
     "execution_count": 11,
     "metadata": {},
     "output_type": "execute_result"
    }
   ],
   "source": [
    "l[0]"
   ]
  },
  {
   "cell_type": "code",
   "execution_count": 12,
   "id": "595a5f35-066e-47e1-9652-931fd2995c78",
   "metadata": {},
   "outputs": [
    {
     "data": {
      "text/plain": [
       "(1+2j)"
      ]
     },
     "execution_count": 12,
     "metadata": {},
     "output_type": "execute_result"
    }
   ],
   "source": [
    "l[-1]"
   ]
  },
  {
   "cell_type": "code",
   "execution_count": 14,
   "id": "d303a10a-84ae-426e-8e20-e80870e28559",
   "metadata": {},
   "outputs": [
    {
     "data": {
      "text/plain": [
       "(23, 23.34, True)"
      ]
     },
     "execution_count": 14,
     "metadata": {},
     "output_type": "execute_result"
    }
   ],
   "source": [
    "l[0:3]"
   ]
  },
  {
   "cell_type": "code",
   "execution_count": 15,
   "id": "18b3401e-fe85-43c2-ab9d-5d7921995b7e",
   "metadata": {},
   "outputs": [
    {
     "ename": "TypeError",
     "evalue": "'tuple' object does not support item assignment",
     "output_type": "error",
     "traceback": [
      "\u001b[1;31m---------------------------------------------------------------------------\u001b[0m",
      "\u001b[1;31mTypeError\u001b[0m                                 Traceback (most recent call last)",
      "Cell \u001b[1;32mIn[15], line 1\u001b[0m\n\u001b[1;32m----> 1\u001b[0m l[\u001b[38;5;241m2\u001b[39m] \u001b[38;5;241m=\u001b[39m \u001b[38;5;124m'\u001b[39m\u001b[38;5;124madnan\u001b[39m\u001b[38;5;124m'\u001b[39m\n",
      "\u001b[1;31mTypeError\u001b[0m: 'tuple' object does not support item assignment"
     ]
    }
   ],
   "source": [
    "l[2] = 'adnan' # tuple are immutable... once created, you cannot change its values..."
   ]
  },
  {
   "cell_type": "markdown",
   "id": "e71c768a-36a5-4bd0-86b3-c4dbb3e85fce",
   "metadata": {},
   "source": [
    "# Count fun"
   ]
  },
  {
   "cell_type": "code",
   "execution_count": 16,
   "id": "f8d12fef-c7f0-41f4-904d-0ef5142a8f4b",
   "metadata": {},
   "outputs": [
    {
     "data": {
      "text/plain": [
       "(23, 23.34, True, 'nit', (1+2j))"
      ]
     },
     "execution_count": 16,
     "metadata": {},
     "output_type": "execute_result"
    }
   ],
   "source": [
    "l"
   ]
  },
  {
   "cell_type": "code",
   "execution_count": 17,
   "id": "373786b2-3da6-4786-af8f-8b44f5cfd8a0",
   "metadata": {},
   "outputs": [
    {
     "data": {
      "text/plain": [
       "1"
      ]
     },
     "execution_count": 17,
     "metadata": {},
     "output_type": "execute_result"
    }
   ],
   "source": [
    "l.count(23)  # count fun returns how many times a specific value appears in a tuple..."
   ]
  },
  {
   "cell_type": "markdown",
   "id": "330e23ba-3c2c-4155-b42b-932212011deb",
   "metadata": {},
   "source": [
    "# index fun"
   ]
  },
  {
   "cell_type": "code",
   "execution_count": 18,
   "id": "8bfa11c9-6651-4288-904d-1e00c3ce766b",
   "metadata": {},
   "outputs": [
    {
     "data": {
      "text/plain": [
       "23"
      ]
     },
     "execution_count": 18,
     "metadata": {},
     "output_type": "execute_result"
    }
   ],
   "source": [
    "l[0]  # Display the value present at index 0."
   ]
  },
  {
   "cell_type": "code",
   "execution_count": 19,
   "id": "f5528879-928f-4ac1-8602-a34ad1afc527",
   "metadata": {},
   "outputs": [
    {
     "data": {
      "text/plain": [
       "(1+2j)"
      ]
     },
     "execution_count": 19,
     "metadata": {},
     "output_type": "execute_result"
    }
   ],
   "source": [
    "l[-1] # Backwad indexing"
   ]
  },
  {
   "cell_type": "markdown",
   "id": "53dc07eb-f95c-40d6-bfa8-4682df668983",
   "metadata": {},
   "source": [
    "# sclicing"
   ]
  },
  {
   "cell_type": "code",
   "execution_count": 21,
   "id": "e6e34f99-1533-44a4-9bfe-2d5d5f4535f2",
   "metadata": {},
   "outputs": [
    {
     "data": {
      "text/plain": [
       "(23, 23.34, True, 'nit', (1+2j))"
      ]
     },
     "execution_count": 21,
     "metadata": {},
     "output_type": "execute_result"
    }
   ],
   "source": [
    "l"
   ]
  },
  {
   "cell_type": "code",
   "execution_count": 22,
   "id": "acff84f7-2a3a-402c-988a-fcca458bd662",
   "metadata": {},
   "outputs": [
    {
     "data": {
      "text/plain": [
       "(23.34, True)"
      ]
     },
     "execution_count": 22,
     "metadata": {},
     "output_type": "execute_result"
    }
   ],
   "source": [
    "l[1:3]"
   ]
  },
  {
   "cell_type": "code",
   "execution_count": 23,
   "id": "9f4ed10e-5710-4efa-9ddb-695dc910f3da",
   "metadata": {},
   "outputs": [
    {
     "data": {
      "text/plain": [
       "((1+2j), 'nit', True, 23.34, 23)"
      ]
     },
     "execution_count": 23,
     "metadata": {},
     "output_type": "execute_result"
    }
   ],
   "source": [
    "l[::-1] # it's reverse the tuple eelemts..."
   ]
  },
  {
   "cell_type": "markdown",
   "id": "adc5e456-19f5-419c-b30e-566e28d0eed4",
   "metadata": {},
   "source": [
    "# Concatenation"
   ]
  },
  {
   "cell_type": "code",
   "execution_count": 24,
   "id": "d4f3fa33-fa36-4bf3-a18b-685e7bfbf239",
   "metadata": {},
   "outputs": [],
   "source": [
    "l1 = (10,20,30)\n",
    "l2 = (40,50,60)"
   ]
  },
  {
   "cell_type": "code",
   "execution_count": 25,
   "id": "9b566ef3-e724-4830-a344-34582d155a2c",
   "metadata": {},
   "outputs": [
    {
     "name": "stdout",
     "output_type": "stream",
     "text": [
      "(10, 20, 30)\n",
      "(40, 50, 60)\n"
     ]
    }
   ],
   "source": [
    "print(l1)\n",
    "print(l2)"
   ]
  },
  {
   "cell_type": "code",
   "execution_count": 26,
   "id": "e6ab7192-a18a-40df-bb80-afaa3e02a80f",
   "metadata": {},
   "outputs": [
    {
     "data": {
      "text/plain": [
       "(10, 20, 30, 40, 50, 60)"
      ]
     },
     "execution_count": 26,
     "metadata": {},
     "output_type": "execute_result"
    }
   ],
   "source": [
    "l1 + l2 # Concatenation"
   ]
  },
  {
   "cell_type": "code",
   "execution_count": 27,
   "id": "f3185ac9-238e-4772-893e-3e779b70af31",
   "metadata": {},
   "outputs": [
    {
     "data": {
      "text/plain": [
       "(40, 50, 60, 10, 20, 30)"
      ]
     },
     "execution_count": 27,
     "metadata": {},
     "output_type": "execute_result"
    }
   ],
   "source": [
    "l2 + l1"
   ]
  },
  {
   "cell_type": "markdown",
   "id": "c33c2373-88aa-413f-8b3c-f4a6285d799c",
   "metadata": {},
   "source": [
    "# Repeating"
   ]
  },
  {
   "cell_type": "code",
   "execution_count": 28,
   "id": "761d41d1-eeed-40a3-8850-c881bf226edd",
   "metadata": {},
   "outputs": [
    {
     "data": {
      "text/plain": [
       "(10, 20, 30)"
      ]
     },
     "execution_count": 28,
     "metadata": {},
     "output_type": "execute_result"
    }
   ],
   "source": [
    "l1"
   ]
  },
  {
   "cell_type": "code",
   "execution_count": 29,
   "id": "3aa18d97-48a7-4f9c-babf-98c5960f3b22",
   "metadata": {},
   "outputs": [
    {
     "data": {
      "text/plain": [
       "(10, 20, 30, 10, 20, 30)"
      ]
     },
     "execution_count": 29,
     "metadata": {},
     "output_type": "execute_result"
    }
   ],
   "source": [
    "l1*2"
   ]
  },
  {
   "cell_type": "code",
   "execution_count": 30,
   "id": "4f759520-9744-4290-8afe-8b08ddc7bd74",
   "metadata": {},
   "outputs": [
    {
     "data": {
      "text/plain": [
       "(40, 50, 60, 40, 50, 60, 40, 50, 60)"
      ]
     },
     "execution_count": 30,
     "metadata": {},
     "output_type": "execute_result"
    }
   ],
   "source": [
    "l2*3"
   ]
  },
  {
   "cell_type": "code",
   "execution_count": 31,
   "id": "1d2eeeb0-15d4-4cdc-a792-3eef4e76f743",
   "metadata": {},
   "outputs": [
    {
     "data": {
      "text/plain": [
       "(10, 20, 30, 10, 20, 30, 40, 50, 60)"
      ]
     },
     "execution_count": 31,
     "metadata": {},
     "output_type": "execute_result"
    }
   ],
   "source": [
    "l1*2 + l2 # Repeating + # Concatenation"
   ]
  },
  {
   "cell_type": "markdown",
   "id": "327778e5-c3d4-4fcd-bcf0-7fd5d80734a9",
   "metadata": {},
   "source": [
    "# max"
   ]
  },
  {
   "cell_type": "code",
   "execution_count": 33,
   "id": "c207aa58-daf0-4d0d-9f1d-37a906bf94e4",
   "metadata": {},
   "outputs": [
    {
     "data": {
      "text/plain": [
       "(10, 20, 30)"
      ]
     },
     "execution_count": 33,
     "metadata": {},
     "output_type": "execute_result"
    }
   ],
   "source": [
    "l1"
   ]
  },
  {
   "cell_type": "code",
   "execution_count": 34,
   "id": "0ee8f087-be54-4ba1-bd79-fcbb4579b92d",
   "metadata": {},
   "outputs": [
    {
     "data": {
      "text/plain": [
       "30"
      ]
     },
     "execution_count": 34,
     "metadata": {},
     "output_type": "execute_result"
    }
   ],
   "source": [
    "max(l1) # print the maximum value from tuple"
   ]
  },
  {
   "cell_type": "markdown",
   "id": "c8ae141f-0def-4171-a3c0-67cdd1ef5965",
   "metadata": {},
   "source": [
    "# min"
   ]
  },
  {
   "cell_type": "code",
   "execution_count": 35,
   "id": "15eb6155-aa46-4a86-b1a8-d5a287828013",
   "metadata": {},
   "outputs": [
    {
     "data": {
      "text/plain": [
       "(10, 20, 30)"
      ]
     },
     "execution_count": 35,
     "metadata": {},
     "output_type": "execute_result"
    }
   ],
   "source": [
    "l1"
   ]
  },
  {
   "cell_type": "code",
   "execution_count": 36,
   "id": "c5d981d8-534c-4312-947c-e06c4d0c81cc",
   "metadata": {},
   "outputs": [
    {
     "data": {
      "text/plain": [
       "(40, 50, 60)"
      ]
     },
     "execution_count": 36,
     "metadata": {},
     "output_type": "execute_result"
    }
   ],
   "source": [
    "l2"
   ]
  },
  {
   "cell_type": "code",
   "execution_count": 37,
   "id": "09f72ae6-8f01-4fc1-95b8-156b1fcea43b",
   "metadata": {},
   "outputs": [
    {
     "data": {
      "text/plain": [
       "10"
      ]
     },
     "execution_count": 37,
     "metadata": {},
     "output_type": "execute_result"
    }
   ],
   "source": [
    "min(l1)"
   ]
  },
  {
   "cell_type": "code",
   "execution_count": 38,
   "id": "3d39884c-c1e7-41ed-9989-9203d5c85d9d",
   "metadata": {},
   "outputs": [
    {
     "data": {
      "text/plain": [
       "40"
      ]
     },
     "execution_count": 38,
     "metadata": {},
     "output_type": "execute_result"
    }
   ],
   "source": [
    "min(l2)"
   ]
  },
  {
   "cell_type": "code",
   "execution_count": null,
   "id": "936d058f-6ec2-4634-88d1-b698124dc9fb",
   "metadata": {},
   "outputs": [],
   "source": [
    "# Tupe Completed"
   ]
  },
  {
   "cell_type": "markdown",
   "id": "d906ad7b-1a02-46f6-b0fc-6f67eb53f94f",
   "metadata": {},
   "source": [
    "# Dictionary"
   ]
  },
  {
   "cell_type": "code",
   "execution_count": 39,
   "id": "1830124d-9bab-4c52-9c82-8db02c260dfd",
   "metadata": {},
   "outputs": [],
   "source": [
    "d1 = {\"apple\":80,\"orange\":100,\"banana\":50}"
   ]
  },
  {
   "cell_type": "code",
   "execution_count": 40,
   "id": "63bcbab6-1603-4030-b6fc-ff09a3e75e6e",
   "metadata": {},
   "outputs": [
    {
     "data": {
      "text/plain": [
       "{'apple': 80, 'orange': 100, 'banana': 50}"
      ]
     },
     "execution_count": 40,
     "metadata": {},
     "output_type": "execute_result"
    }
   ],
   "source": [
    "d1"
   ]
  },
  {
   "cell_type": "markdown",
   "id": "2aaef41b-3661-48b8-8886-102c6d126381",
   "metadata": {},
   "source": [
    "# Extracting keys"
   ]
  },
  {
   "cell_type": "code",
   "execution_count": 41,
   "id": "133cec75-14c3-4005-a005-ece49c78794c",
   "metadata": {},
   "outputs": [
    {
     "data": {
      "text/plain": [
       "{'apple': 80, 'orange': 100, 'banana': 50}"
      ]
     },
     "execution_count": 41,
     "metadata": {},
     "output_type": "execute_result"
    }
   ],
   "source": [
    "d1"
   ]
  },
  {
   "cell_type": "code",
   "execution_count": 42,
   "id": "7c4a2560-1f75-466d-adef-2e1e61bc6eeb",
   "metadata": {},
   "outputs": [
    {
     "data": {
      "text/plain": [
       "dict_keys(['apple', 'orange', 'banana'])"
      ]
     },
     "execution_count": 42,
     "metadata": {},
     "output_type": "execute_result"
    }
   ],
   "source": [
    "d1.keys()"
   ]
  },
  {
   "cell_type": "markdown",
   "id": "2113a50b-bd07-46ca-86ec-157f84826cbd",
   "metadata": {},
   "source": [
    "# Extracting values"
   ]
  },
  {
   "cell_type": "code",
   "execution_count": 43,
   "id": "0de6d8b5-c9b0-4e05-9c5c-0b02e8f6319c",
   "metadata": {},
   "outputs": [
    {
     "data": {
      "text/plain": [
       "{'apple': 80, 'orange': 100, 'banana': 50}"
      ]
     },
     "execution_count": 43,
     "metadata": {},
     "output_type": "execute_result"
    }
   ],
   "source": [
    "d1"
   ]
  },
  {
   "cell_type": "code",
   "execution_count": 44,
   "id": "d8f098f8-40d4-43af-83e5-14de99fa13c7",
   "metadata": {},
   "outputs": [
    {
     "data": {
      "text/plain": [
       "dict_values([80, 100, 50])"
      ]
     },
     "execution_count": 44,
     "metadata": {},
     "output_type": "execute_result"
    }
   ],
   "source": [
    "d1.values()"
   ]
  },
  {
   "cell_type": "markdown",
   "id": "7b815222-7c3a-4648-8d1a-e524021e40a4",
   "metadata": {},
   "source": [
    "# Adding new element"
   ]
  },
  {
   "cell_type": "code",
   "execution_count": 45,
   "id": "ff2efcdc-f0b5-4b18-9055-796f677c3dc6",
   "metadata": {},
   "outputs": [
    {
     "data": {
      "text/plain": [
       "{'apple': 80, 'orange': 100, 'banana': 50}"
      ]
     },
     "execution_count": 45,
     "metadata": {},
     "output_type": "execute_result"
    }
   ],
   "source": [
    "d1"
   ]
  },
  {
   "cell_type": "code",
   "execution_count": 46,
   "id": "76839787-b892-4852-9545-2fb527f7f18e",
   "metadata": {},
   "outputs": [],
   "source": [
    "d1[\"Mango\"] = 100 # add new element"
   ]
  },
  {
   "cell_type": "code",
   "execution_count": 47,
   "id": "d826f2fb-1f07-4421-9eca-bdc44796d777",
   "metadata": {},
   "outputs": [
    {
     "data": {
      "text/plain": [
       "{'apple': 80, 'orange': 100, 'banana': 50, 'Mango': 100}"
      ]
     },
     "execution_count": 47,
     "metadata": {},
     "output_type": "execute_result"
    }
   ],
   "source": [
    "d1"
   ]
  },
  {
   "cell_type": "markdown",
   "id": "c10831a8-6e1b-4d1a-b8ff-2fb19c8fc8d9",
   "metadata": {},
   "source": [
    "# modified values"
   ]
  },
  {
   "cell_type": "code",
   "execution_count": 48,
   "id": "79b36162-dc7b-4a1b-9707-dc3654e11596",
   "metadata": {},
   "outputs": [
    {
     "data": {
      "text/plain": [
       "{'apple': 80, 'orange': 100, 'banana': 50, 'Mango': 100}"
      ]
     },
     "execution_count": 48,
     "metadata": {},
     "output_type": "execute_result"
    }
   ],
   "source": [
    "d1"
   ]
  },
  {
   "cell_type": "code",
   "execution_count": 49,
   "id": "6f7594d8-0b19-4c25-a3be-a85fc213d559",
   "metadata": {},
   "outputs": [],
   "source": [
    "d1[\"banana\"] = 30 # modified values"
   ]
  },
  {
   "cell_type": "code",
   "execution_count": 50,
   "id": "d628f9c1-e93c-491d-aaf6-cb661076268b",
   "metadata": {},
   "outputs": [
    {
     "data": {
      "text/plain": [
       "{'apple': 80, 'orange': 100, 'banana': 30, 'Mango': 100}"
      ]
     },
     "execution_count": 50,
     "metadata": {},
     "output_type": "execute_result"
    }
   ],
   "source": [
    "d1"
   ]
  },
  {
   "cell_type": "markdown",
   "id": "229f85af-fe76-4438-95a9-d403b3d2fff3",
   "metadata": {},
   "source": [
    "# update fun"
   ]
  },
  {
   "cell_type": "code",
   "execution_count": 51,
   "id": "430d2a6b-d11e-43c6-8a76-0e0474e573ce",
   "metadata": {},
   "outputs": [
    {
     "data": {
      "text/plain": [
       "{'apple': 80, 'orange': 100, 'banana': 30, 'Mango': 100}"
      ]
     },
     "execution_count": 51,
     "metadata": {},
     "output_type": "execute_result"
    }
   ],
   "source": [
    "d1"
   ]
  },
  {
   "cell_type": "code",
   "execution_count": 52,
   "id": "53fcd405-56f8-4104-afa6-d0ee945e91d2",
   "metadata": {},
   "outputs": [],
   "source": [
    "d2 = {\"guava\":70,\"grapes\":40}"
   ]
  },
  {
   "cell_type": "code",
   "execution_count": 53,
   "id": "2a01a9ac-f1cf-4e24-b2a3-2514092f6780",
   "metadata": {},
   "outputs": [
    {
     "data": {
      "text/plain": [
       "{'guava': 70, 'grapes': 40}"
      ]
     },
     "execution_count": 53,
     "metadata": {},
     "output_type": "execute_result"
    }
   ],
   "source": [
    "d2"
   ]
  },
  {
   "cell_type": "code",
   "execution_count": 54,
   "id": "06e69ce4-5521-4ab1-aa8f-02fe30e54a01",
   "metadata": {},
   "outputs": [],
   "source": [
    "d1.update(d2) # marge two dict"
   ]
  },
  {
   "cell_type": "code",
   "execution_count": 55,
   "id": "ff449996-2d56-49f0-a888-42f315ef7079",
   "metadata": {},
   "outputs": [
    {
     "data": {
      "text/plain": [
       "{'apple': 80,\n",
       " 'orange': 100,\n",
       " 'banana': 30,\n",
       " 'Mango': 100,\n",
       " 'guava': 70,\n",
       " 'grapes': 40}"
      ]
     },
     "execution_count": 55,
     "metadata": {},
     "output_type": "execute_result"
    }
   ],
   "source": [
    "d1"
   ]
  },
  {
   "cell_type": "markdown",
   "id": "3fe98add-5be1-41ad-97a9-c01dcf8d3c6a",
   "metadata": {},
   "source": [
    "# pop fun"
   ]
  },
  {
   "cell_type": "code",
   "execution_count": 56,
   "id": "9853367c-eb10-4173-8bd6-8bdf700473a6",
   "metadata": {},
   "outputs": [
    {
     "data": {
      "text/plain": [
       "{'apple': 80,\n",
       " 'orange': 100,\n",
       " 'banana': 30,\n",
       " 'Mango': 100,\n",
       " 'guava': 70,\n",
       " 'grapes': 40}"
      ]
     },
     "execution_count": 56,
     "metadata": {},
     "output_type": "execute_result"
    }
   ],
   "source": [
    "d1"
   ]
  },
  {
   "cell_type": "code",
   "execution_count": 62,
   "id": "44982207-5d04-47b5-9144-8249a0052ff9",
   "metadata": {},
   "outputs": [
    {
     "data": {
      "text/plain": [
       "{'guava': 70, 'grapes': 40}"
      ]
     },
     "execution_count": 62,
     "metadata": {},
     "output_type": "execute_result"
    }
   ],
   "source": [
    "d2"
   ]
  },
  {
   "cell_type": "code",
   "execution_count": 63,
   "id": "a8aca8e0-91f8-4bbc-b666-99968690a94f",
   "metadata": {},
   "outputs": [
    {
     "data": {
      "text/plain": [
       "40"
      ]
     },
     "execution_count": 63,
     "metadata": {},
     "output_type": "execute_result"
    }
   ],
   "source": [
    "d2.pop(\"grapes\")  # remove and return elemnet "
   ]
  },
  {
   "cell_type": "code",
   "execution_count": 64,
   "id": "d420a5a6-2d5f-4520-9fdd-99611812b38f",
   "metadata": {},
   "outputs": [
    {
     "data": {
      "text/plain": [
       "{'guava': 70}"
      ]
     },
     "execution_count": 64,
     "metadata": {},
     "output_type": "execute_result"
    }
   ],
   "source": [
    "d2"
   ]
  },
  {
   "cell_type": "markdown",
   "id": "062f4998-1931-4df6-a7e2-8fb4a5da5aca",
   "metadata": {},
   "source": [
    "# clear fun"
   ]
  },
  {
   "cell_type": "code",
   "execution_count": 65,
   "id": "53c89239-13bb-49d1-b7b5-1f7f03b0c12b",
   "metadata": {},
   "outputs": [
    {
     "data": {
      "text/plain": [
       "{'guava': 70}"
      ]
     },
     "execution_count": 65,
     "metadata": {},
     "output_type": "execute_result"
    }
   ],
   "source": [
    "d2"
   ]
  },
  {
   "cell_type": "code",
   "execution_count": 66,
   "id": "661ed6ec-5a1e-4695-a70b-42e9e9cd08cd",
   "metadata": {},
   "outputs": [],
   "source": [
    "d2.clear() # remove all items from a dictionary."
   ]
  },
  {
   "cell_type": "code",
   "execution_count": 67,
   "id": "5fe6ac55-f864-4343-b028-31bd280984d1",
   "metadata": {},
   "outputs": [
    {
     "data": {
      "text/plain": [
       "{}"
      ]
     },
     "execution_count": 67,
     "metadata": {},
     "output_type": "execute_result"
    }
   ],
   "source": [
    "d2"
   ]
  },
  {
   "cell_type": "markdown",
   "id": "88b88827-f76a-418e-ae75-74ca8e751893",
   "metadata": {},
   "source": [
    "# copy fun"
   ]
  },
  {
   "cell_type": "code",
   "execution_count": 68,
   "id": "50acf82e-9b91-4fe3-9c89-b13c8afb6516",
   "metadata": {},
   "outputs": [
    {
     "data": {
      "text/plain": [
       "{'apple': 80, 'orange': 100, 'banana': 30, 'Mango': 100, 'grapes': 40}"
      ]
     },
     "execution_count": 68,
     "metadata": {},
     "output_type": "execute_result"
    }
   ],
   "source": [
    "d1"
   ]
  },
  {
   "cell_type": "code",
   "execution_count": 69,
   "id": "c9807dd0-1bdb-420f-a2ac-560e7f9319ae",
   "metadata": {},
   "outputs": [],
   "source": [
    "d2 = d1.copy()  # copy element from d1 and paste in d2"
   ]
  },
  {
   "cell_type": "code",
   "execution_count": 70,
   "id": "dfbe9537-37dd-4fab-993d-bd7972503b9d",
   "metadata": {},
   "outputs": [
    {
     "data": {
      "text/plain": [
       "{'apple': 80, 'orange': 100, 'banana': 30, 'Mango': 100, 'grapes': 40}"
      ]
     },
     "execution_count": 70,
     "metadata": {},
     "output_type": "execute_result"
    }
   ],
   "source": [
    "d2"
   ]
  },
  {
   "cell_type": "markdown",
   "id": "bfb70601-5192-46cd-92bb-924cfcbd7aaa",
   "metadata": {},
   "source": [
    "# item fun"
   ]
  },
  {
   "cell_type": "code",
   "execution_count": 71,
   "id": "d504b23f-a4e5-45b4-ac63-6226ad83cdbf",
   "metadata": {},
   "outputs": [
    {
     "data": {
      "text/plain": [
       "{'apple': 80, 'orange': 100, 'banana': 30, 'Mango': 100, 'grapes': 40}"
      ]
     },
     "execution_count": 71,
     "metadata": {},
     "output_type": "execute_result"
    }
   ],
   "source": [
    "d1"
   ]
  },
  {
   "cell_type": "code",
   "execution_count": 73,
   "id": "35e1a2b7-1b4f-437b-94ac-cca30111a072",
   "metadata": {},
   "outputs": [
    {
     "data": {
      "text/plain": [
       "dict_items([('apple', 80), ('orange', 100), ('banana', 30), ('Mango', 100), ('grapes', 40)])"
      ]
     },
     "execution_count": 73,
     "metadata": {},
     "output_type": "execute_result"
    }
   ],
   "source": [
    "d1.items() # Returns all (key, value) pairs as tuples."
   ]
  },
  {
   "cell_type": "markdown",
   "id": "0c027e22-da0a-4c69-afa8-2c83b380fa0c",
   "metadata": {},
   "source": [
    "# set"
   ]
  },
  {
   "cell_type": "code",
   "execution_count": 1,
   "id": "8b0e2d8f-d0b6-43a5-a475-ace4b84fd6bf",
   "metadata": {},
   "outputs": [
    {
     "data": {
      "text/plain": [
       "set()"
      ]
     },
     "execution_count": 1,
     "metadata": {},
     "output_type": "execute_result"
    }
   ],
   "source": [
    "a = set()\n",
    "a"
   ]
  },
  {
   "cell_type": "code",
   "execution_count": 4,
   "id": "2ae0e351-a547-4272-b538-054e84db30b5",
   "metadata": {},
   "outputs": [],
   "source": [
    "A1 = {1,2,3,4,5}\n",
    "B1 = {4,5,6,7,8}\n",
    "C1 = {8,9,10}"
   ]
  },
  {
   "cell_type": "code",
   "execution_count": 5,
   "id": "b87d5d55-46e9-40cd-814e-a3a5d2f5c714",
   "metadata": {},
   "outputs": [
    {
     "name": "stdout",
     "output_type": "stream",
     "text": [
      "{1, 2, 3, 4, 5}\n",
      "{4, 5, 6, 7, 8}\n",
      "{8, 9, 10}\n"
     ]
    }
   ],
   "source": [
    "print(A1)\n",
    "print(B1)\n",
    "print(C1)"
   ]
  },
  {
   "cell_type": "code",
   "execution_count": 6,
   "id": "64791d9f-e27c-4c1d-b706-1a7eba1a353f",
   "metadata": {},
   "outputs": [],
   "source": [
    "A1.add(21)"
   ]
  },
  {
   "cell_type": "code",
   "execution_count": 7,
   "id": "2bee52a4-fbd5-4287-b026-6c26eb36abad",
   "metadata": {},
   "outputs": [
    {
     "data": {
      "text/plain": [
       "{1, 2, 3, 4, 5, 21}"
      ]
     },
     "execution_count": 7,
     "metadata": {},
     "output_type": "execute_result"
    }
   ],
   "source": [
    "A1"
   ]
  },
  {
   "cell_type": "code",
   "execution_count": 10,
   "id": "c5984486-5556-4101-a697-eb450c5b0d55",
   "metadata": {},
   "outputs": [
    {
     "data": {
      "text/plain": [
       "{1, 2, 3, 21}"
      ]
     },
     "execution_count": 10,
     "metadata": {},
     "output_type": "execute_result"
    }
   ],
   "source": [
    "A1.difference(B1)"
   ]
  },
  {
   "cell_type": "code",
   "execution_count": 12,
   "id": "a9b3440e-1e55-43dc-a97e-dddfc4b2a6ec",
   "metadata": {},
   "outputs": [],
   "source": [
    "A1.difference_update(B1)"
   ]
  },
  {
   "cell_type": "code",
   "execution_count": 13,
   "id": "aadda94a-c680-4056-9962-b3bc2eff6216",
   "metadata": {},
   "outputs": [
    {
     "data": {
      "text/plain": [
       "{1, 2, 3, 21}"
      ]
     },
     "execution_count": 13,
     "metadata": {},
     "output_type": "execute_result"
    }
   ],
   "source": [
    "A1"
   ]
  },
  {
   "cell_type": "code",
   "execution_count": 14,
   "id": "27aba055-2cdf-4a6e-9cda-416f733ca3d7",
   "metadata": {},
   "outputs": [],
   "source": [
    "A1.update(C1)"
   ]
  },
  {
   "cell_type": "code",
   "execution_count": 15,
   "id": "2acc6a6d-025b-4094-8ac5-070e47ceef1a",
   "metadata": {},
   "outputs": [
    {
     "data": {
      "text/plain": [
       "{1, 2, 3, 8, 9, 10, 21}"
      ]
     },
     "execution_count": 15,
     "metadata": {},
     "output_type": "execute_result"
    }
   ],
   "source": [
    "A1"
   ]
  },
  {
   "cell_type": "code",
   "execution_count": 16,
   "id": "5c75cfb9-b4e2-4d2b-acf7-b7beda7a7282",
   "metadata": {},
   "outputs": [],
   "source": [
    "A1.remove(21)"
   ]
  },
  {
   "cell_type": "code",
   "execution_count": 17,
   "id": "cdb612e3-1d0d-4ee4-9a45-71ee4002e7bd",
   "metadata": {},
   "outputs": [
    {
     "data": {
      "text/plain": [
       "{1, 2, 3, 8, 9, 10}"
      ]
     },
     "execution_count": 17,
     "metadata": {},
     "output_type": "execute_result"
    }
   ],
   "source": [
    "A1"
   ]
  },
  {
   "cell_type": "code",
   "execution_count": 18,
   "id": "c846c1c1-8cb7-4fff-934b-3b97e70ef994",
   "metadata": {},
   "outputs": [],
   "source": [
    "A1.discard(10)"
   ]
  },
  {
   "cell_type": "code",
   "execution_count": 19,
   "id": "a8b5b3f3-5fed-495f-968a-a95a796cbdb6",
   "metadata": {},
   "outputs": [
    {
     "data": {
      "text/plain": [
       "{1, 2, 3, 8, 9}"
      ]
     },
     "execution_count": 19,
     "metadata": {},
     "output_type": "execute_result"
    }
   ],
   "source": [
    "A1"
   ]
  },
  {
   "cell_type": "code",
   "execution_count": 20,
   "id": "b40b4fac-b7cb-4233-9db3-22c459aed8cd",
   "metadata": {},
   "outputs": [],
   "source": [
    "A1.discard(100)"
   ]
  },
  {
   "cell_type": "code",
   "execution_count": 21,
   "id": "3b4ba0fb-f117-498a-a4c2-697b2dc4f5ba",
   "metadata": {},
   "outputs": [
    {
     "data": {
      "text/plain": [
       "{1, 2, 3, 8, 9}"
      ]
     },
     "execution_count": 21,
     "metadata": {},
     "output_type": "execute_result"
    }
   ],
   "source": [
    "A1"
   ]
  },
  {
   "cell_type": "code",
   "execution_count": 22,
   "id": "4fec5ae6-a665-47ee-a661-2ce99ad8a2a7",
   "metadata": {},
   "outputs": [
    {
     "ename": "KeyError",
     "evalue": "210",
     "output_type": "error",
     "traceback": [
      "\u001b[1;31m---------------------------------------------------------------------------\u001b[0m",
      "\u001b[1;31mKeyError\u001b[0m                                  Traceback (most recent call last)",
      "Cell \u001b[1;32mIn[22], line 1\u001b[0m\n\u001b[1;32m----> 1\u001b[0m A1\u001b[38;5;241m.\u001b[39mremove(\u001b[38;5;241m210\u001b[39m)\n",
      "\u001b[1;31mKeyError\u001b[0m: 210"
     ]
    }
   ],
   "source": [
    "A1.remove(210)"
   ]
  },
  {
   "cell_type": "code",
   "execution_count": 24,
   "id": "6a95e4f0-79a4-4788-b1e5-70f6b40a8eac",
   "metadata": {},
   "outputs": [
    {
     "data": {
      "text/plain": [
       "{1, 2, 3, 8, 9, 10}"
      ]
     },
     "execution_count": 24,
     "metadata": {},
     "output_type": "execute_result"
    }
   ],
   "source": [
    "A1"
   ]
  },
  {
   "cell_type": "code",
   "execution_count": 26,
   "id": "e4023785-3260-47a2-858a-3f8776582b0b",
   "metadata": {},
   "outputs": [
    {
     "data": {
      "text/plain": [
       "1"
      ]
     },
     "execution_count": 26,
     "metadata": {},
     "output_type": "execute_result"
    }
   ],
   "source": [
    "A1.pop()"
   ]
  },
  {
   "cell_type": "code",
   "execution_count": 27,
   "id": "08092d4a-9fe3-4e81-b16e-65955a002345",
   "metadata": {},
   "outputs": [
    {
     "data": {
      "text/plain": [
       "{2, 3, 8, 9, 10}"
      ]
     },
     "execution_count": 27,
     "metadata": {},
     "output_type": "execute_result"
    }
   ],
   "source": [
    "A1"
   ]
  },
  {
   "cell_type": "code",
   "execution_count": null,
   "id": "de382a71-5473-4a08-92b2-595bef09718c",
   "metadata": {},
   "outputs": [],
   "source": []
  },
  {
   "cell_type": "code",
   "execution_count": null,
   "id": "0065ffa2-359e-4960-9fec-cb9d63a3c2be",
   "metadata": {},
   "outputs": [],
   "source": []
  },
  {
   "cell_type": "markdown",
   "id": "2930a130-80f2-4167-8f14-3ce55bc1e3c5",
   "metadata": {},
   "source": [
    "# set operation"
   ]
  },
  {
   "cell_type": "code",
   "execution_count": 8,
   "id": "f2003522-58cd-4a8b-9cfa-1c9f3823b257",
   "metadata": {},
   "outputs": [
    {
     "data": {
      "text/plain": [
       "set()"
      ]
     },
     "execution_count": 8,
     "metadata": {},
     "output_type": "execute_result"
    }
   ],
   "source": [
    "a = set()\n",
    "a"
   ]
  },
  {
   "cell_type": "code",
   "execution_count": 9,
   "id": "dcd73ae6-9e59-428b-96e4-75ae2f968b82",
   "metadata": {},
   "outputs": [],
   "source": [
    "b = {1,2}"
   ]
  },
  {
   "cell_type": "code",
   "execution_count": 9,
   "id": "fe2de93d-e998-4733-a6d0-689020ab0da7",
   "metadata": {},
   "outputs": [
    {
     "data": {
      "text/plain": [
       "{1, 2}"
      ]
     },
     "execution_count": 9,
     "metadata": {},
     "output_type": "execute_result"
    }
   ],
   "source": [
    "b"
   ]
  },
  {
   "cell_type": "code",
   "execution_count": 10,
   "id": "0d32e071-d64f-45f0-ae1a-aa6db0201e06",
   "metadata": {},
   "outputs": [
    {
     "data": {
      "text/plain": [
       "set"
      ]
     },
     "execution_count": 10,
     "metadata": {},
     "output_type": "execute_result"
    }
   ],
   "source": [
    "type(b)"
   ]
  },
  {
   "cell_type": "code",
   "execution_count": 11,
   "id": "aa81704c-3ce9-473a-bd5c-42049ddbc87c",
   "metadata": {},
   "outputs": [],
   "source": [
    "A = {1,2,3,4,5}\n",
    "B = {4,5,6,7,8}\n",
    "C = {8,9,10}"
   ]
  },
  {
   "cell_type": "code",
   "execution_count": 12,
   "id": "3f3fcc94-9686-4c22-8b87-442ab127abca",
   "metadata": {},
   "outputs": [
    {
     "name": "stdout",
     "output_type": "stream",
     "text": [
      "{1, 2, 3, 4, 5}\n",
      "{4, 5, 6, 7, 8}\n",
      "{8, 9, 10}\n"
     ]
    }
   ],
   "source": [
    "print(A)\n",
    "print(B)\n",
    "print(C)"
   ]
  },
  {
   "cell_type": "code",
   "execution_count": 13,
   "id": "c2daa613-21e2-4df1-b3f4-6baf54365043",
   "metadata": {},
   "outputs": [
    {
     "data": {
      "text/plain": [
       "{1, 2, 3, 6, 7, 8}"
      ]
     },
     "execution_count": 13,
     "metadata": {},
     "output_type": "execute_result"
    }
   ],
   "source": [
    "A.symmetric_difference(B)"
   ]
  },
  {
   "cell_type": "code",
   "execution_count": 14,
   "id": "8a54dca2-a0fe-4985-90d2-679f0bb42c65",
   "metadata": {},
   "outputs": [
    {
     "data": {
      "text/plain": [
       "{4, 5}"
      ]
     },
     "execution_count": 14,
     "metadata": {},
     "output_type": "execute_result"
    }
   ],
   "source": [
    "A.intersection(B)"
   ]
  },
  {
   "cell_type": "code",
   "execution_count": 15,
   "id": "148b78fc-a90f-453f-9813-c300e105db72",
   "metadata": {},
   "outputs": [
    {
     "data": {
      "text/plain": [
       "{1, 2, 3}"
      ]
     },
     "execution_count": 15,
     "metadata": {},
     "output_type": "execute_result"
    }
   ],
   "source": [
    "A.difference(B)"
   ]
  },
  {
   "cell_type": "code",
   "execution_count": 16,
   "id": "1e4e835b-857a-4cc0-bba3-709f1acbbe07",
   "metadata": {},
   "outputs": [
    {
     "data": {
      "text/plain": [
       "{1, 2, 3, 4, 5, 6, 7, 8}"
      ]
     },
     "execution_count": 16,
     "metadata": {},
     "output_type": "execute_result"
    }
   ],
   "source": [
    "A.union(B)"
   ]
  },
  {
   "cell_type": "code",
   "execution_count": 17,
   "id": "a6428a5b-8c11-4ec6-8130-09ab23262a4c",
   "metadata": {},
   "outputs": [
    {
     "data": {
      "text/plain": [
       "{4, 5, 6, 7, 9, 10}"
      ]
     },
     "execution_count": 17,
     "metadata": {},
     "output_type": "execute_result"
    }
   ],
   "source": [
    "B ^ C"
   ]
  },
  {
   "cell_type": "code",
   "execution_count": 18,
   "id": "af105fa2-4384-4435-bebc-4888ff53f4b2",
   "metadata": {},
   "outputs": [],
   "source": [
    "A.symmetric_difference_update(B)"
   ]
  },
  {
   "cell_type": "code",
   "execution_count": 19,
   "id": "755f6ca5-e3fc-4f0e-b8bd-e49f7eaea76e",
   "metadata": {},
   "outputs": [
    {
     "data": {
      "text/plain": [
       "{1, 2, 3, 6, 7, 8}"
      ]
     },
     "execution_count": 19,
     "metadata": {},
     "output_type": "execute_result"
    }
   ],
   "source": [
    "A"
   ]
  },
  {
   "cell_type": "code",
   "execution_count": null,
   "id": "79c75eee-80b0-47b3-8897-d9ae76851806",
   "metadata": {},
   "outputs": [],
   "source": []
  },
  {
   "cell_type": "code",
   "execution_count": null,
   "id": "db06ab7c-0f8c-455c-a7ba-db05792df2e3",
   "metadata": {},
   "outputs": [],
   "source": []
  },
  {
   "cell_type": "code",
   "execution_count": null,
   "id": "0f511562-c467-4f0a-a7ab-1cf3add2bced",
   "metadata": {},
   "outputs": [],
   "source": []
  },
  {
   "cell_type": "code",
   "execution_count": null,
   "id": "30abfe50-95ad-4f98-a551-e580387fbaf9",
   "metadata": {},
   "outputs": [],
   "source": []
  },
  {
   "cell_type": "code",
   "execution_count": null,
   "id": "3891b52b-0c37-4c9e-a29b-9ce7daca2126",
   "metadata": {},
   "outputs": [],
   "source": []
  },
  {
   "cell_type": "code",
   "execution_count": null,
   "id": "cbe25904-0dd7-41a9-a30a-b7a11091bf23",
   "metadata": {},
   "outputs": [],
   "source": []
  },
  {
   "cell_type": "code",
   "execution_count": null,
   "id": "580d8661-48a1-4098-b63c-8c03ae2de2a9",
   "metadata": {},
   "outputs": [],
   "source": []
  },
  {
   "cell_type": "code",
   "execution_count": null,
   "id": "0b1155cc-cf4d-4f34-b4d4-c30244243384",
   "metadata": {},
   "outputs": [],
   "source": []
  },
  {
   "cell_type": "code",
   "execution_count": null,
   "id": "911fc04a-75fe-45ef-9bc6-e367a8af3251",
   "metadata": {},
   "outputs": [],
   "source": []
  },
  {
   "cell_type": "code",
   "execution_count": null,
   "id": "ab92cb48-2bd0-41d5-b477-e8f24eabdd9e",
   "metadata": {},
   "outputs": [],
   "source": []
  },
  {
   "cell_type": "code",
   "execution_count": null,
   "id": "7a2074b1-ac2a-4860-b74b-a0d19db5c256",
   "metadata": {},
   "outputs": [],
   "source": []
  },
  {
   "cell_type": "code",
   "execution_count": null,
   "id": "f08f9d34-3339-4b8a-af90-cc6472da94f3",
   "metadata": {},
   "outputs": [],
   "source": []
  }
 ],
 "metadata": {
  "kernelspec": {
   "display_name": "Python [conda env:base] *",
   "language": "python",
   "name": "conda-base-py"
  },
  "language_info": {
   "codemirror_mode": {
    "name": "ipython",
    "version": 3
   },
   "file_extension": ".py",
   "mimetype": "text/x-python",
   "name": "python",
   "nbconvert_exporter": "python",
   "pygments_lexer": "ipython3",
   "version": "3.12.7"
  }
 },
 "nbformat": 4,
 "nbformat_minor": 5
}
