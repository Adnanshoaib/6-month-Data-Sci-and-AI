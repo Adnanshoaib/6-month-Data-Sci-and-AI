{
 "cells": [
  {
   "cell_type": "code",
   "execution_count": 1,
   "id": "f717af0c-79cf-45ca-a1a5-37a1a929cec2",
   "metadata": {},
   "outputs": [
    {
     "data": {
      "text/plain": [
       "3"
      ]
     },
     "execution_count": 1,
     "metadata": {},
     "output_type": "execute_result"
    }
   ],
   "source": [
    "int(3.4) # Possible with float"
   ]
  },
  {
   "cell_type": "code",
   "execution_count": 2,
   "id": "6864987a-7044-4027-8770-c3b172cb110c",
   "metadata": {},
   "outputs": [
    {
     "ename": "TypeError",
     "evalue": "'float' object cannot be interpreted as an integer",
     "output_type": "error",
     "traceback": [
      "\u001b[1;31m---------------------------------------------------------------------------\u001b[0m",
      "\u001b[1;31mTypeError\u001b[0m                                 Traceback (most recent call last)",
      "Cell \u001b[1;32mIn[2], line 1\u001b[0m\n\u001b[1;32m----> 1\u001b[0m \u001b[38;5;28mint\u001b[39m(\u001b[38;5;241m3.4\u001b[39m,\u001b[38;5;241m3.1\u001b[39m)\n",
      "\u001b[1;31mTypeError\u001b[0m: 'float' object cannot be interpreted as an integer"
     ]
    }
   ],
   "source": [
    "int(3.4,3.1) # Not possible  bcz only one argument allow"
   ]
  },
  {
   "cell_type": "code",
   "execution_count": 3,
   "id": "a4407520-9bde-4713-ad72-b46c526128a4",
   "metadata": {},
   "outputs": [
    {
     "data": {
      "text/plain": [
       "1"
      ]
     },
     "execution_count": 3,
     "metadata": {},
     "output_type": "execute_result"
    }
   ],
   "source": [
    "int(True) # Possible with bool"
   ]
  },
  {
   "cell_type": "code",
   "execution_count": 4,
   "id": "fbd6c957-6132-45a1-a213-3e087dff51e1",
   "metadata": {},
   "outputs": [
    {
     "ename": "TypeError",
     "evalue": "int() argument must be a string, a bytes-like object or a real number, not 'complex'",
     "output_type": "error",
     "traceback": [
      "\u001b[1;31m---------------------------------------------------------------------------\u001b[0m",
      "\u001b[1;31mTypeError\u001b[0m                                 Traceback (most recent call last)",
      "Cell \u001b[1;32mIn[4], line 1\u001b[0m\n\u001b[1;32m----> 1\u001b[0m \u001b[38;5;28mint\u001b[39m(\u001b[38;5;241m1\u001b[39m\u001b[38;5;241m+\u001b[39m\u001b[38;5;241m2\u001b[39mj)\n",
      "\u001b[1;31mTypeError\u001b[0m: int() argument must be a string, a bytes-like object or a real number, not 'complex'"
     ]
    }
   ],
   "source": [
    "int(1+2j) # Not possible with complex"
   ]
  },
  {
   "cell_type": "code",
   "execution_count": 5,
   "id": "9598caa6-29f6-40f3-a984-f8f4f14a4b5a",
   "metadata": {},
   "outputs": [
    {
     "data": {
      "text/plain": [
       "10"
      ]
     },
     "execution_count": 5,
     "metadata": {},
     "output_type": "execute_result"
    }
   ],
   "source": [
    " int('10') # Possible with str number"
   ]
  },
  {
   "cell_type": "code",
   "execution_count": 6,
   "id": "077b6ca3-e15f-4049-ba90-c619a583e01c",
   "metadata": {},
   "outputs": [
    {
     "ename": "ValueError",
     "evalue": "invalid literal for int() with base 10: 'ten'",
     "output_type": "error",
     "traceback": [
      "\u001b[1;31m---------------------------------------------------------------------------\u001b[0m",
      "\u001b[1;31mValueError\u001b[0m                                Traceback (most recent call last)",
      "Cell \u001b[1;32mIn[6], line 1\u001b[0m\n\u001b[1;32m----> 1\u001b[0m \u001b[38;5;28mint\u001b[39m(\u001b[38;5;124m'\u001b[39m\u001b[38;5;124mten\u001b[39m\u001b[38;5;124m'\u001b[39m)\n",
      "\u001b[1;31mValueError\u001b[0m: invalid literal for int() with base 10: 'ten'"
     ]
    }
   ],
   "source": [
    "int('ten') # Not possible with str text"
   ]
  },
  {
   "cell_type": "code",
   "execution_count": null,
   "id": "4868c513-a55a-4b9d-8acc-545be89e8167",
   "metadata": {},
   "outputs": [],
   "source": [
    "# From all other datatype to int possible except complex & string with text."
   ]
  },
  {
   "cell_type": "code",
   "execution_count": 7,
   "id": "97e23df0-d261-4b38-a7a4-b7fb103959a5",
   "metadata": {},
   "outputs": [
    {
     "data": {
      "text/plain": [
       "24.0"
      ]
     },
     "execution_count": 7,
     "metadata": {},
     "output_type": "execute_result"
    }
   ],
   "source": [
    "float(24) #  Possible with int"
   ]
  },
  {
   "cell_type": "code",
   "execution_count": 8,
   "id": "25032170-8ff8-4dee-97c3-de9a11f38b45",
   "metadata": {},
   "outputs": [
    {
     "data": {
      "text/plain": [
       "1.0"
      ]
     },
     "execution_count": 8,
     "metadata": {},
     "output_type": "execute_result"
    }
   ],
   "source": [
    "float(True) # Possible with bool"
   ]
  },
  {
   "cell_type": "code",
   "execution_count": 9,
   "id": "44278259-5123-4315-931b-156fde64a873",
   "metadata": {},
   "outputs": [
    {
     "data": {
      "text/plain": [
       "0.0"
      ]
     },
     "execution_count": 9,
     "metadata": {},
     "output_type": "execute_result"
    }
   ],
   "source": [
    "float(False) # Possible with bool"
   ]
  },
  {
   "cell_type": "code",
   "execution_count": 10,
   "id": "e80cc20f-eec2-40e4-9669-064cb2554b78",
   "metadata": {},
   "outputs": [
    {
     "ename": "TypeError",
     "evalue": "float() argument must be a string or a real number, not 'complex'",
     "output_type": "error",
     "traceback": [
      "\u001b[1;31m---------------------------------------------------------------------------\u001b[0m",
      "\u001b[1;31mTypeError\u001b[0m                                 Traceback (most recent call last)",
      "Cell \u001b[1;32mIn[10], line 1\u001b[0m\n\u001b[1;32m----> 1\u001b[0m \u001b[38;5;28mfloat\u001b[39m(\u001b[38;5;241m1\u001b[39m\u001b[38;5;241m+\u001b[39m\u001b[38;5;241m2\u001b[39mj)\n",
      "\u001b[1;31mTypeError\u001b[0m: float() argument must be a string or a real number, not 'complex'"
     ]
    }
   ],
   "source": [
    "float(1+2j) # Not possible with complex"
   ]
  },
  {
   "cell_type": "code",
   "execution_count": 11,
   "id": "b51206ce-7e26-43ed-9778-e97c58c3939c",
   "metadata": {},
   "outputs": [
    {
     "data": {
      "text/plain": [
       "10.0"
      ]
     },
     "execution_count": 11,
     "metadata": {},
     "output_type": "execute_result"
    }
   ],
   "source": [
    "float('10')  # Possible with str number"
   ]
  },
  {
   "cell_type": "code",
   "execution_count": 12,
   "id": "806d1a53-d471-4538-8e16-8def9c20b161",
   "metadata": {},
   "outputs": [
    {
     "ename": "ValueError",
     "evalue": "could not convert string to float: 'ten'",
     "output_type": "error",
     "traceback": [
      "\u001b[1;31m---------------------------------------------------------------------------\u001b[0m",
      "\u001b[1;31mValueError\u001b[0m                                Traceback (most recent call last)",
      "Cell \u001b[1;32mIn[12], line 1\u001b[0m\n\u001b[1;32m----> 1\u001b[0m \u001b[38;5;28mfloat\u001b[39m(\u001b[38;5;124m'\u001b[39m\u001b[38;5;124mten\u001b[39m\u001b[38;5;124m'\u001b[39m)\n",
      "\u001b[1;31mValueError\u001b[0m: could not convert string to float: 'ten'"
     ]
    }
   ],
   "source": [
    "float('ten') # Not Possible with str text"
   ]
  },
  {
   "cell_type": "code",
   "execution_count": 13,
   "id": "774cfcc6-b9f8-44fb-b1ee-c6fab7ec3305",
   "metadata": {},
   "outputs": [],
   "source": [
    "# From all other datatype to float possible except complex & string with text"
   ]
  },
  {
   "cell_type": "code",
   "execution_count": 14,
   "id": "cc4c615a-cf0f-4dbf-b4fc-07eff2477ee0",
   "metadata": {},
   "outputs": [
    {
     "data": {
      "text/plain": [
       "(10+0j)"
      ]
     },
     "execution_count": 14,
     "metadata": {},
     "output_type": "execute_result"
    }
   ],
   "source": [
    "complex(10) # Possible "
   ]
  },
  {
   "cell_type": "code",
   "execution_count": 15,
   "id": "89c8af6e-6be6-49f7-9763-98366a9b7bfe",
   "metadata": {},
   "outputs": [
    {
     "data": {
      "text/plain": [
       "(10+20j)"
      ]
     },
     "execution_count": 15,
     "metadata": {},
     "output_type": "execute_result"
    }
   ],
   "source": [
    "complex(10,20) # Possible with two argument"
   ]
  },
  {
   "cell_type": "code",
   "execution_count": 16,
   "id": "add5de6b-2c8a-400c-a829-fc37b60b32ea",
   "metadata": {},
   "outputs": [
    {
     "ename": "TypeError",
     "evalue": "complex() takes at most 2 arguments (3 given)",
     "output_type": "error",
     "traceback": [
      "\u001b[1;31m---------------------------------------------------------------------------\u001b[0m",
      "\u001b[1;31mTypeError\u001b[0m                                 Traceback (most recent call last)",
      "Cell \u001b[1;32mIn[16], line 1\u001b[0m\n\u001b[1;32m----> 1\u001b[0m \u001b[38;5;28mcomplex\u001b[39m(\u001b[38;5;241m10\u001b[39m,\u001b[38;5;241m20\u001b[39m,\u001b[38;5;241m30\u001b[39m)\n",
      "\u001b[1;31mTypeError\u001b[0m: complex() takes at most 2 arguments (3 given)"
     ]
    }
   ],
   "source": [
    "complex(10,20,30) # Not Possible with three argument"
   ]
  },
  {
   "cell_type": "code",
   "execution_count": 17,
   "id": "aa9d4b13-b443-49d6-a291-da31de7fa526",
   "metadata": {},
   "outputs": [
    {
     "data": {
      "text/plain": [
       "(3.4+0j)"
      ]
     },
     "execution_count": 17,
     "metadata": {},
     "output_type": "execute_result"
    }
   ],
   "source": [
    "complex(3.4) # Possible with float"
   ]
  },
  {
   "cell_type": "code",
   "execution_count": 18,
   "id": "9340e6a0-c273-4df4-a3f5-ff9d5b7b808c",
   "metadata": {},
   "outputs": [
    {
     "data": {
      "text/plain": [
       "(3.4+34j)"
      ]
     },
     "execution_count": 18,
     "metadata": {},
     "output_type": "execute_result"
    }
   ],
   "source": [
    "complex(3.4,34) # Possible with float & int"
   ]
  },
  {
   "cell_type": "code",
   "execution_count": 19,
   "id": "384c8a42-72cf-49d2-837f-69d8753250ae",
   "metadata": {},
   "outputs": [
    {
     "data": {
      "text/plain": [
       "(10+0j)"
      ]
     },
     "execution_count": 19,
     "metadata": {},
     "output_type": "execute_result"
    }
   ],
   "source": [
    "complex('10') # Possible with str number"
   ]
  },
  {
   "cell_type": "code",
   "execution_count": 21,
   "id": "6c9d6281-338b-4dfb-b2f0-e391b90c2a20",
   "metadata": {},
   "outputs": [
    {
     "ename": "ValueError",
     "evalue": "complex() arg is a malformed string",
     "output_type": "error",
     "traceback": [
      "\u001b[1;31m---------------------------------------------------------------------------\u001b[0m",
      "\u001b[1;31mValueError\u001b[0m                                Traceback (most recent call last)",
      "Cell \u001b[1;32mIn[21], line 1\u001b[0m\n\u001b[1;32m----> 1\u001b[0m \u001b[38;5;28mcomplex\u001b[39m(\u001b[38;5;124m'\u001b[39m\u001b[38;5;124mten\u001b[39m\u001b[38;5;124m'\u001b[39m)\n",
      "\u001b[1;31mValueError\u001b[0m: complex() arg is a malformed string"
     ]
    }
   ],
   "source": [
    "complex('ten') # NOt possible with str text"
   ]
  },
  {
   "cell_type": "code",
   "execution_count": 20,
   "id": "c2a861fb-60e0-4e74-89e7-1b48097e95ed",
   "metadata": {},
   "outputs": [
    {
     "data": {
      "text/plain": [
       "(1+0j)"
      ]
     },
     "execution_count": 20,
     "metadata": {},
     "output_type": "execute_result"
    }
   ],
   "source": [
    "complex(True,False) # Possible with bool"
   ]
  },
  {
   "cell_type": "code",
   "execution_count": 22,
   "id": "3e2eb08c-e94d-4a69-89f6-ac2880907a08",
   "metadata": {},
   "outputs": [],
   "source": [
    "# From all other datatype to complex possible except string with text.."
   ]
  },
  {
   "cell_type": "code",
   "execution_count": 23,
   "id": "e0398c21-c6a6-453d-8a77-f789c42fc44d",
   "metadata": {},
   "outputs": [
    {
     "data": {
      "text/plain": [
       "True"
      ]
     },
     "execution_count": 23,
     "metadata": {},
     "output_type": "execute_result"
    }
   ],
   "source": [
    "bool(1) # Possible "
   ]
  },
  {
   "cell_type": "code",
   "execution_count": 24,
   "id": "e8ce5b99-e728-449c-9d92-4d75eb3b1cd7",
   "metadata": {},
   "outputs": [
    {
     "data": {
      "text/plain": [
       "False"
      ]
     },
     "execution_count": 24,
     "metadata": {},
     "output_type": "execute_result"
    }
   ],
   "source": [
    "bool(0) # Possible"
   ]
  },
  {
   "cell_type": "code",
   "execution_count": 25,
   "id": "75088d0b-b5b0-46d3-8f4c-92cf0ce0f1c5",
   "metadata": {},
   "outputs": [
    {
     "data": {
      "text/plain": [
       "False"
      ]
     },
     "execution_count": 25,
     "metadata": {},
     "output_type": "execute_result"
    }
   ],
   "source": [
    "bool() # Possible"
   ]
  },
  {
   "cell_type": "code",
   "execution_count": 26,
   "id": "c28baab2-0b2b-4f23-bf8f-0e10795ced51",
   "metadata": {},
   "outputs": [
    {
     "data": {
      "text/plain": [
       "True"
      ]
     },
     "execution_count": 26,
     "metadata": {},
     "output_type": "execute_result"
    }
   ],
   "source": [
    "bool(1+2j) # Possible"
   ]
  },
  {
   "cell_type": "code",
   "execution_count": 27,
   "id": "6f81403c-1f72-4fb9-96d7-c6dbf3119cb8",
   "metadata": {},
   "outputs": [
    {
     "data": {
      "text/plain": [
       "True"
      ]
     },
     "execution_count": 27,
     "metadata": {},
     "output_type": "execute_result"
    }
   ],
   "source": [
    "bool('10') # Possible"
   ]
  },
  {
   "cell_type": "code",
   "execution_count": 28,
   "id": "974725d2-0d22-4789-8e5b-60836ceb4a28",
   "metadata": {},
   "outputs": [
    {
     "data": {
      "text/plain": [
       "True"
      ]
     },
     "execution_count": 28,
     "metadata": {},
     "output_type": "execute_result"
    }
   ],
   "source": [
    "bool('ten') # Possible"
   ]
  },
  {
   "cell_type": "code",
   "execution_count": null,
   "id": "3f5a9ff9-6f64-4ce0-b350-f09dbdf1aa81",
   "metadata": {},
   "outputs": [],
   "source": [
    "# From all other datatype to bool possible.."
   ]
  }
 ],
 "metadata": {
  "kernelspec": {
   "display_name": "Python [conda env:base] *",
   "language": "python",
   "name": "conda-base-py"
  },
  "language_info": {
   "codemirror_mode": {
    "name": "ipython",
    "version": 3
   },
   "file_extension": ".py",
   "mimetype": "text/x-python",
   "name": "python",
   "nbconvert_exporter": "python",
   "pygments_lexer": "ipython3",
   "version": "3.12.7"
  }
 },
 "nbformat": 4,
 "nbformat_minor": 5
}
